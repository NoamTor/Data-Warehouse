{
 "cells": [
  {
   "cell_type": "markdown",
   "metadata": {},
   "source": [
    "# 1. Creating the Scheme in the Local Host"
   ]
  },
  {
   "cell_type": "markdown",
   "metadata": {},
   "source": [
    "### Create MYSQL connector"
   ]
  },
  {
   "cell_type": "code",
   "execution_count": 32,
   "metadata": {
    "collapsed": true
   },
   "outputs": [],
   "source": [
    "import MySQLdb as mdb"
   ]
  },
  {
   "cell_type": "code",
   "execution_count": 33,
   "metadata": {
    "collapsed": false
   },
   "outputs": [],
   "source": [
    "# creating connection\n",
    "con = mdb.connect(\n",
    "                host = '127.0.0.1', user = 'root', passwd = 'root') #optional - db=\"schema_name\"  "
   ]
  },
  {
   "cell_type": "code",
   "execution_count": 34,
   "metadata": {
    "collapsed": false
   },
   "outputs": [],
   "source": [
    "# setting a cursor\n",
    "cursor = con.cursor()     # get the cursor"
   ]
  },
  {
   "cell_type": "markdown",
   "metadata": {},
   "source": [
    "### DDL - Create Schema"
   ]
  },
  {
   "cell_type": "code",
   "execution_count": 35,
   "metadata": {
    "collapsed": false
   },
   "outputs": [
    {
     "name": "stderr",
     "output_type": "stream",
     "text": [
      "C:\\Program Files\\Anaconda2\\lib\\site-packages\\ipykernel\\__main__.py:4: Warning: Changing sql mode 'NO_AUTO_CREATE_USER' is deprecated. It will be removed in a future release.\n"
     ]
    },
    {
     "data": {
      "text/plain": [
       "0L"
      ]
     },
     "execution_count": 35,
     "metadata": {},
     "output_type": "execute_result"
    }
   ],
   "source": [
    "cursor.execute(\"DROP SCHEMA IF EXISTS Yelp_Pittsburgh ;\")\n",
    "cursor.execute(\"CREATE SCHEMA IF NOT EXISTS Yelp_Pittsburgh ;\")\n",
    "cursor.execute(\"USE Yelp_Pittsburgh ;\")\n",
    "cursor.execute('SET SQL_MODE=ANSI_QUOTES') #important for petl operation - use this kind of quotes"
   ]
  },
  {
   "cell_type": "markdown",
   "metadata": {},
   "source": [
    "### Create Tables"
   ]
  },
  {
   "cell_type": "code",
   "execution_count": 36,
   "metadata": {
    "collapsed": false,
    "scrolled": true
   },
   "outputs": [
    {
     "data": {
      "text/plain": [
       "0L"
      ]
     },
     "execution_count": 36,
     "metadata": {},
     "output_type": "execute_result"
    }
   ],
   "source": [
    "#dim_users table creation\n",
    "cursor.execute(\"\"\"\n",
    "    CREATE TABLE IF NOT EXISTS dim_users (\n",
    "        `user_id` int(11) NOT NULL AUTO_INCREMENT,\n",
    "        `yelp_user_id` VARCHAR(20) NOT NULL,\n",
    "        `review_count` INT(11),\n",
    "        `fans` INT(11),\n",
    "        `is_elite` BINARY NOT NULL,\n",
    "        `yelping_since` DATE,\n",
    "        `friends_count` INT(11) NOT NULL,\n",
    "        PRIMARY KEY (`user_id`));\n",
    "        \"\"\")"
   ]
  },
  {
   "cell_type": "code",
   "execution_count": 37,
   "metadata": {
    "collapsed": false
   },
   "outputs": [
    {
     "data": {
      "text/plain": [
       "0L"
      ]
     },
     "execution_count": 37,
     "metadata": {},
     "output_type": "execute_result"
    }
   ],
   "source": [
    "#dim_business table creation\n",
    "cursor.execute(\"\"\"\n",
    "    CREATE TABLE IF NOT EXISTS dim_business (       \n",
    "        `business_id` INT(11) NOT NULL AUTO_INCREMENT,\n",
    "        `Yelp_business_id` VARCHAR(20) NOT NULL,\n",
    "        `business_name` VARCHAR(20) NOT NULL,\n",
    "        `is_open` BINARY NOT NULL,\n",
    "        `neighborhood` VARCHAR(20) NOT NULL,\n",
    "        `latitude` FLOAT(11),\n",
    "        `longitude` FLOAT(11),\n",
    "        `stars` FLOAT(11),\n",
    "        `review_count` INT(11) NOT NULL,\n",
    "        `category` VARCHAR(20),\n",
    "        `checkin_sum` INT(11),\n",
    "        PRIMARY KEY (`business_id`));\n",
    "        \"\"\")"
   ]
  },
  {
   "cell_type": "code",
   "execution_count": 38,
   "metadata": {
    "collapsed": false
   },
   "outputs": [
    {
     "data": {
      "text/plain": [
       "0L"
      ]
     },
     "execution_count": 38,
     "metadata": {},
     "output_type": "execute_result"
    }
   ],
   "source": [
    "#dim_dates table creation\n",
    "cursor.execute(\"\"\"\n",
    "    CREATE TABLE IF NOT EXISTS dim_dates (       \n",
    "        `date_id` INT(11) NOT NULL AUTO_INCREMENT,\n",
    "        `date` DATE NOT NULL,\n",
    "        `day` INT(11) NOT NULL,\n",
    "        `month` INT(11) NOT NULL,\n",
    "        `year` INT(11),\n",
    "        `day_name` VARCHAR(45) NOT NULL,\n",
    "        `holiday` VARCHAR(45),\n",
    "        PRIMARY KEY (`date_id`));\n",
    "        \"\"\")"
   ]
  },
  {
   "cell_type": "code",
   "execution_count": 39,
   "metadata": {
    "collapsed": false
   },
   "outputs": [
    {
     "data": {
      "text/plain": [
       "0L"
      ]
     },
     "execution_count": 39,
     "metadata": {},
     "output_type": "execute_result"
    }
   ],
   "source": [
    "#fact_review table creation\n",
    "cursor.execute(\"\"\"\n",
    "    CREATE TABLE IF NOT EXISTS fact_reviews (\n",
    "        `review_id` INT(11) NOT NULL AUTO_INCREMENT,\n",
    "        `yelp_review_id` VARCHAR(20) NOT NULL,\n",
    "        `user_id` INT(11) NOT NULL,\n",
    "        `business_id` INT(11) NOT NULL,\n",
    "        `date_id` int(11) NOT NULL,\n",
    "        `stars` FLOAT(11),\n",
    "        `votes_aggregate` INT(11),\n",
    "        PRIMARY KEY (`review_id`));\n",
    "        \"\"\")"
   ]
  },
  {
   "cell_type": "code",
   "execution_count": 40,
   "metadata": {
    "collapsed": false
   },
   "outputs": [],
   "source": [
    "#commit changes\n",
    "con.commit()"
   ]
  },
  {
   "cell_type": "markdown",
   "metadata": {},
   "source": [
    "### Closing the connection"
   ]
  },
  {
   "cell_type": "code",
   "execution_count": 41,
   "metadata": {
    "collapsed": true
   },
   "outputs": [],
   "source": [
    "#closing the connection\n",
    "cursor.close()\n",
    "con.close()"
   ]
  },
  {
   "cell_type": "markdown",
   "metadata": {},
   "source": [
    "# 2. ETL"
   ]
  },
  {
   "cell_type": "markdown",
   "metadata": {},
   "source": [
    "## Users"
   ]
  },
  {
   "cell_type": "markdown",
   "metadata": {},
   "source": [
    "## Business"
   ]
  },
  {
   "cell_type": "markdown",
   "metadata": {},
   "source": [
    "## Date"
   ]
  },
  {
   "cell_type": "markdown",
   "metadata": {},
   "source": [
    "## Reviews"
   ]
  },
  {
   "cell_type": "code",
   "execution_count": 42,
   "metadata": {
    "collapsed": false
   },
   "outputs": [],
   "source": [
    "import petl as etl"
   ]
  },
  {
   "cell_type": "code",
   "execution_count": null,
   "metadata": {
    "collapsed": true
   },
   "outputs": [],
   "source": []
  }
 ],
 "metadata": {
  "anaconda-cloud": {},
  "kernelspec": {
   "display_name": "Python [default]",
   "language": "python",
   "name": "python2"
  },
  "language_info": {
   "codemirror_mode": {
    "name": "ipython",
    "version": 2
   },
   "file_extension": ".py",
   "mimetype": "text/x-python",
   "name": "python",
   "nbconvert_exporter": "python",
   "pygments_lexer": "ipython2",
   "version": "2.7.12"
  }
 },
 "nbformat": 4,
 "nbformat_minor": 0
}
