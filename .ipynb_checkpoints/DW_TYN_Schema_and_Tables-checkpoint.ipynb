{
 "cells": [
  {
   "cell_type": "markdown",
   "metadata": {},
   "source": [
    "# 1. Creating the Scheme in the Local Host"
   ]
  },
  {
   "cell_type": "markdown",
   "metadata": {},
   "source": [
    "### Create MYSQL connector"
   ]
  },
  {
   "cell_type": "code",
   "execution_count": null,
   "metadata": {
    "collapsed": true
   },
   "outputs": [],
   "source": [
    "import MySQLdb as mdb"
   ]
  },
  {
   "cell_type": "code",
   "execution_count": null,
   "metadata": {
    "collapsed": false
   },
   "outputs": [],
   "source": [
    "# creating connection\n",
    "try:\n",
    "    con = mdb.connect(\n",
    "                   host = '127.0.0.1', user = 'root', passwd = 'root', use_unicode=True, charset=\"utf8\")\n",
    "    print \"The password is `root`\"\n",
    "except:\n",
    "    print \"The password in not `root`. trying `1234`\"\n",
    "    con = mdb.connect(\n",
    "                   host = '127.0.0.1', user = 'root', passwd = '1234', use_unicode=True, charset=\"utf8\")"
   ]
  },
  {
   "cell_type": "code",
   "execution_count": null,
   "metadata": {
    "collapsed": false
   },
   "outputs": [],
   "source": [
    "# setting a cursor\n",
    "cursor = con.cursor()     # get the cursor"
   ]
  },
  {
   "cell_type": "markdown",
   "metadata": {},
   "source": [
    "### DDL - Create Schema"
   ]
  },
  {
   "cell_type": "code",
   "execution_count": null,
   "metadata": {
    "collapsed": false
   },
   "outputs": [],
   "source": [
    "cursor.execute(\"DROP SCHEMA IF EXISTS Yelp_Pittsburgh ;\")\n",
    "cursor.execute(\"CREATE SCHEMA IF NOT EXISTS Yelp_Pittsburgh ;\")\n",
    "cursor.execute(\"USE Yelp_Pittsburgh ;\")\n",
    "cursor.execute('SET SQL_MODE=ANSI_QUOTES') #important for petl operation - use this kind of quotes"
   ]
  },
  {
   "cell_type": "markdown",
   "metadata": {},
   "source": [
    "### Create Tables"
   ]
  },
  {
   "cell_type": "code",
   "execution_count": null,
   "metadata": {
    "collapsed": false,
    "scrolled": true
   },
   "outputs": [],
   "source": [
    "#dim_users table creation\n",
    "cursor.execute(\"\"\"\n",
    "    CREATE TABLE IF NOT EXISTS dim_users (\n",
    "        `user_id` int(11) NOT NULL AUTO_INCREMENT,\n",
    "        `yelp_user_id` VARCHAR(20) NOT NULL,\n",
    "        `review_count` INT(11),\n",
    "        `fans` INT(11),\n",
    "        `is_elite` BOOLEAN NOT NULL,\n",
    "        `yelping_since` DATE,\n",
    "        `friends_count` INT(11) NOT NULL,\n",
    "        PRIMARY KEY (`user_id`));\n",
    "        \"\"\")"
   ]
  },
  {
   "cell_type": "code",
   "execution_count": null,
   "metadata": {
    "collapsed": false
   },
   "outputs": [],
   "source": [
    "#dim_business table creation\n",
    "cursor.execute(\"\"\"\n",
    "    CREATE TABLE IF NOT EXISTS dim_business (       \n",
    "        `business_id` INT(11) NOT NULL AUTO_INCREMENT,\n",
    "        `Yelp_business_id` VARCHAR(20) NOT NULL,\n",
    "        `business_name` VARCHAR(20) NOT NULL,\n",
    "        `is_open` BOOLEAN NOT NULL,\n",
    "        `neighborhood` VARCHAR(20),\n",
    "        `latitude` FLOAT(11),\n",
    "        `longitude` FLOAT(11),\n",
    "        `stars` FLOAT(11),\n",
    "        `review_count` INT(11) NOT NULL,\n",
    "        `food` BOOLEAN NOT NULL,\n",
    "        `art & enteraitment` BOOLEAN NOT NULL,\n",
    "        `stores` BOOLEAN NOT NULL,\n",
    "        `beauty & spa` BOOLEAN NOT NULL,\n",
    "        `health` BOOLEAN NOT NULL,\n",
    "        `finance` BOOLEAN NOT NULL,\n",
    "        `turists` BOOLEAN NOT NULL,\n",
    "        `cars & transportation` BOOLEAN NOT NULL,\n",
    "        `bars & alcohol` BOOLEAN NOT NULL,\n",
    "        `other` BOOLEAN NOT NULL,\n",
    "        `fashion` BOOLEAN NOT NULL,\n",
    "        `real estate` BOOLEAN NOT NULL,\n",
    "        \n",
    "        PRIMARY KEY (`business_id`));\n",
    "        \"\"\")"
   ]
  },
  {
   "cell_type": "code",
   "execution_count": null,
   "metadata": {
    "collapsed": false
   },
   "outputs": [],
   "source": [
    "#dim_dates table creation\n",
    "cursor.execute(\"\"\"\n",
    "    CREATE TABLE IF NOT EXISTS dim_dates (       \n",
    "        `date_id` INT(11) NOT NULL AUTO_INCREMENT,\n",
    "        `date` DATE NOT NULL,\n",
    "        `day` INT(11) NOT NULL,\n",
    "        `month` INT(11) NOT NULL,\n",
    "        `year` INT(11),\n",
    "        `day_name` VARCHAR(45) NOT NULL,\n",
    "        `holiday` VARCHAR(45),\n",
    "        PRIMARY KEY (`date_id`));\n",
    "        \"\"\")"
   ]
  },
  {
   "cell_type": "code",
   "execution_count": null,
   "metadata": {
    "collapsed": false
   },
   "outputs": [],
   "source": [
    "#fact_review table creation\n",
    "cursor.execute(\"\"\"\n",
    "    CREATE TABLE IF NOT EXISTS fact_reviews (\n",
    "        `review_id` INT(11) NOT NULL AUTO_INCREMENT,\n",
    "        `yelp_review_id` VARCHAR(20) NOT NULL,\n",
    "        `user_id` INT(11) NOT NULL,\n",
    "        `business_id` INT(11) NOT NULL,\n",
    "        `date_id` int(11) NOT NULL,\n",
    "        `stars` FLOAT(11),\n",
    "        `votes_aggregate` INT(11),\n",
    "        PRIMARY KEY (`review_id`));\n",
    "        \"\"\")"
   ]
  },
  {
   "cell_type": "code",
   "execution_count": null,
   "metadata": {
    "collapsed": false
   },
   "outputs": [],
   "source": [
    "#commit changes\n",
    "con.commit()"
   ]
  },
  {
   "cell_type": "markdown",
   "metadata": {},
   "source": [
    "### Closing the connection"
   ]
  },
  {
   "cell_type": "code",
   "execution_count": null,
   "metadata": {
    "collapsed": true
   },
   "outputs": [],
   "source": [
    "#closing the connection\n",
    "cursor.close()\n",
    "con.close()"
   ]
  },
  {
   "cell_type": "markdown",
   "metadata": {},
   "source": [
    "# 2. ETL"
   ]
  },
  {
   "cell_type": "code",
   "execution_count": null,
   "metadata": {
    "collapsed": true
   },
   "outputs": [],
   "source": [
    "import petl as etl\n",
    "import datetime"
   ]
  },
  {
   "cell_type": "markdown",
   "metadata": {},
   "source": [
    "## Users"
   ]
  },
  {
   "cell_type": "markdown",
   "metadata": {},
   "source": [
    "### Extract"
   ]
  },
  {
   "cell_type": "code",
   "execution_count": null,
   "metadata": {
    "collapsed": false,
    "scrolled": true
   },
   "outputs": [],
   "source": [
    "# Extract JSON file and display\n",
    "filename= 'yelp_academic_dataset_users_nofriendlist_PA.json'\n",
    "t1 = etl.fromjson(filename)\n",
    "t1.display(10)"
   ]
  },
  {
   "cell_type": "code",
   "execution_count": null,
   "metadata": {
    "collapsed": false
   },
   "outputs": [],
   "source": [
    "'''creating the users dimension:\n",
    "user_id= varchar(20)\n",
    "friends_count= INT\n",
    "review_count= INT\n",
    "fans= INT\n",
    "is_elite= Binary\n",
    "yelping_since= Date'''\n",
    "\n",
    "t2 = t1.cut(['user_id','review_count','fans','elite','yelping_since'])\n",
    "t2.display(10)"
   ]
  },
  {
   "cell_type": "markdown",
   "metadata": {},
   "source": [
    "#### Transform"
   ]
  },
  {
   "cell_type": "code",
   "execution_count": null,
   "metadata": {
    "collapsed": false
   },
   "outputs": [],
   "source": [
    "fields = t2.fieldnames()\n",
    "for f in fields:\n",
    "    print f,'\\t', t2.typecounter(f)"
   ]
  },
  {
   "cell_type": "code",
   "execution_count": null,
   "metadata": {
    "collapsed": false
   },
   "outputs": [],
   "source": [
    "#convet unicode type to binary (creating is_elite field)\n",
    "def to_binary(text):\n",
    "    if text[3:7] == 'None':\n",
    "        return 0 \n",
    "    return 1\n",
    "\n",
    "t3 = t2.convert('elite' , to_binary)\n",
    "t3.display(10)"
   ]
  },
  {
   "cell_type": "code",
   "execution_count": null,
   "metadata": {
    "collapsed": false,
    "scrolled": true
   },
   "outputs": [],
   "source": [
    "#build the friends_count column by join (users and friends)\n",
    "\n",
    "source = 'Pittsburgh_full_friend_text.json'\n",
    "t4 = etl.fromjson(source)\n",
    "t5 = t3.join(t4, # right table\n",
    "                   lkey='user_id',rkey='user_id', #join equality columns\n",
    "                   rprefix='t4_') # prefixes of columns from each table (not mandatory)\n",
    "\n",
    "def friend_count(text):\n",
    "    if text[0]=='[' and text[-1]==']':\n",
    "        items =  text[1:-1].split(', ') # turn values to list\n",
    "        if text[3:7]== 'None':\n",
    "            return 0\n",
    "        return len(items)\n",
    "\n",
    "t6 = t5.convert('t4_friends' , friend_count)\n",
    "t6.display(10)"
   ]
  },
  {
   "cell_type": "code",
   "execution_count": null,
   "metadata": {
    "collapsed": false
   },
   "outputs": [],
   "source": [
    "# adding new user ID and rename the table\n",
    "\n",
    "t7 = t6.addrownumbers()\n",
    "t8 = t7.rename({'row':'user_id','user_id':'yelp_user_id','elite':'is_elite','t4_friends':'friends_count'})\n",
    "t8.display(10)"
   ]
  },
  {
   "cell_type": "code",
   "execution_count": null,
   "metadata": {
    "collapsed": false
   },
   "outputs": [],
   "source": [
    "#Validate the fields type\n",
    "fields = t8.fieldnames()\n",
    "for f in fields:\n",
    "    print f,'\\t', t8.typecounter(f)"
   ]
  },
  {
   "cell_type": "markdown",
   "metadata": {},
   "source": [
    "#### Load"
   ]
  },
  {
   "cell_type": "code",
   "execution_count": null,
   "metadata": {
    "collapsed": false
   },
   "outputs": [],
   "source": [
    "import MySQLdb as mdb\n",
    "try:\n",
    "    con = mdb.connect(\n",
    "                   host = '127.0.0.1', user = 'root', passwd = 'root', use_unicode=True, charset=\"utf8\")\n",
    "except:\n",
    "    con = mdb.connect(\n",
    "                   host = '127.0.0.1', user = 'root', passwd = '1234', use_unicode=True, charset=\"utf8\")\n",
    "# setting a cursor\n",
    "cur = con.cursor()     # get the cursor"
   ]
  },
  {
   "cell_type": "code",
   "execution_count": null,
   "metadata": {
    "collapsed": false
   },
   "outputs": [],
   "source": [
    "# append the data to existing tables\n",
    "cur.execute('SET SQL_MODE=ANSI_QUOTES')\n",
    "t8.appenddb(cur,'dim_users',schema='yelp_pittsburgh',commit=True)"
   ]
  },
  {
   "cell_type": "code",
   "execution_count": null,
   "metadata": {
    "collapsed": true
   },
   "outputs": [],
   "source": [
    "#Closing the Cursor\n",
    "cur.close()"
   ]
  },
  {
   "cell_type": "markdown",
   "metadata": {},
   "source": [
    "## Business"
   ]
  },
  {
   "cell_type": "markdown",
   "metadata": {},
   "source": [
    "### Extract"
   ]
  },
  {
   "cell_type": "code",
   "execution_count": null,
   "metadata": {
    "collapsed": false
   },
   "outputs": [],
   "source": [
    "# Open and display the bussiness json file.\n",
    "filename= 'yelp_academic_dataset_business_PA.json'\n",
    "t1 = etl.fromjson(filename)\n",
    "t1.display(10)"
   ]
  },
  {
   "cell_type": "code",
   "execution_count": null,
   "metadata": {
    "collapsed": false
   },
   "outputs": [],
   "source": [
    "#Check the types of the data\n",
    "fields = t1.fieldnames()\n",
    "for f in fields:\n",
    "    print f,'\\t', t1.typecounter(f)"
   ]
  },
  {
   "cell_type": "markdown",
   "metadata": {},
   "source": [
    "### Business Catagories\n",
    "We wish to reduce the number of categories in Yelp to 12 main categories. In order to be able to get insights from those 12 categories, we will implement them as 12 Binary columns in our Business Dimention.\n"
   ]
  },
  {
   "cell_type": "code",
   "execution_count": null,
   "metadata": {
    "collapsed": false
   },
   "outputs": [],
   "source": [
    "#Extract csv file- for mapping the categories\n",
    "csv_filename = \"category.csv\"\n",
    "map_categories_table = etl.fromcsv(csv_filename)\n",
    "map_categories_table.display(5)"
   ]
  },
  {
   "cell_type": "code",
   "execution_count": null,
   "metadata": {
    "collapsed": true
   },
   "outputs": [],
   "source": [
    "#Create dictionary to map all categories to 10 main \n",
    "categories_dic = {}\n",
    "for row in map_categories_table:\n",
    "    categories_dic[row[0]] = row[1]"
   ]
  },
  {
   "cell_type": "markdown",
   "metadata": {},
   "source": [
    "### Transform"
   ]
  },
  {
   "cell_type": "code",
   "execution_count": null,
   "metadata": {
    "collapsed": true
   },
   "outputs": [],
   "source": [
    "#Choose only businesses from Pittsburgh\n",
    "t2 = etl.select(t1, \"{city} =='Pittsburgh'\") "
   ]
  },
  {
   "cell_type": "code",
   "execution_count": null,
   "metadata": {
    "collapsed": false
   },
   "outputs": [],
   "source": [
    "#Order the fields (and display)\n",
    "t3 = t2.cut(['business_id','name','is_open','neighborhood','latitude','longitude','stars','review_count','categories'])\n",
    "t3.display(1)"
   ]
  },
  {
   "cell_type": "markdown",
   "metadata": {},
   "source": [
    "#### order and split the categories"
   ]
  },
  {
   "cell_type": "code",
   "execution_count": null,
   "metadata": {
    "collapsed": false
   },
   "outputs": [],
   "source": [
    "#Create the function for the convertion that reduces the categories.\n",
    "def reduce_categories(text):\n",
    "    if text[0]=='[' and text[-1]==']':\n",
    "        items =  text[1:-1].split(', ') # turn values to list\n",
    "    else:\n",
    "        return None\n",
    "    output = {}\n",
    "    for i in items:\n",
    "        key = categories_dic.get(i[2:-1])\n",
    "        value = 1\n",
    "        output[key]=int(value)\n",
    "    return output\n",
    "\n",
    "#Test\n",
    "sample = t3[1][8]\n",
    "print reduce_categories(sample)\n",
    "print type(reduce_categories(sample))"
   ]
  },
  {
   "cell_type": "code",
   "execution_count": null,
   "metadata": {
    "collapsed": false
   },
   "outputs": [],
   "source": [
    "# Convert the data to reduce the categories\n",
    "t4 = t3.convert('categories',reduce_categories)\n",
    "t4.typecounter('categories')\n",
    "#unpack the dictionary in category column to 12 seperate columns\n",
    "t5 = t4.unpackdict('categories')\n",
    "t5.display(1)"
   ]
  },
  {
   "cell_type": "code",
   "execution_count": null,
   "metadata": {
    "collapsed": false
   },
   "outputs": [],
   "source": [
    "# Order fileds and change category fields name from number to the real name\n",
    "t6 = etl.rename(t5, {'1': 'food','2': 'art & enteraitment','3': 'stores','4': 'beauty & spa','5': 'health','6': 'finance','7': 'turists','8': 'cars & transportation', '9': 'bars & alcohol','10': 'other','11': 'fashion','12': 'real estate'})\n",
    "t7 = t6.cut(['business_id','name','is_open','neighborhood','latitude','longitude','stars','review_count', 'food', 'art & enteraitment', 'stores', 'beauty & spa', 'health', 'finance', 'turists', 'cars & transportation', 'bars & alcohol', 'other', 'fashion', 'real estate'])\n",
    "t7.display(10)"
   ]
  },
  {
   "cell_type": "code",
   "execution_count": null,
   "metadata": {
    "collapsed": false
   },
   "outputs": [],
   "source": [
    "# change None to 0 in the categories fields\n",
    "def None_to_0(text):\n",
    "    if text == None:\n",
    "        return 0\n",
    "    else:\n",
    "        return text\n",
    "t8 = etl.convert(t7, ('food', 'art & enteraitment', 'stores', 'beauty & spa', 'health', 'finance', 'turists', 'cars & transportation', 'bars & alcohol', 'other', 'fashion', 'real estate'), None_to_0)\n",
    "t8.display(10)"
   ]
  },
  {
   "cell_type": "code",
   "execution_count": null,
   "metadata": {
    "collapsed": false
   },
   "outputs": [],
   "source": [
    "# add ID\n",
    "t9 = t8.addrownumbers()\n",
    "t10 = t9.rename({'row':'business_id', 'business_id':'Yelp_business_id', 'name':'business_name'})\n",
    "t10.display()"
   ]
  },
  {
   "cell_type": "markdown",
   "metadata": {},
   "source": [
    "### Load"
   ]
  },
  {
   "cell_type": "code",
   "execution_count": null,
   "metadata": {
    "collapsed": false
   },
   "outputs": [],
   "source": [
    "fields = t10.fieldnames()\n",
    "for f in fields:\n",
    "    print f,'\\t', t10.typecounter(f)"
   ]
  },
  {
   "cell_type": "code",
   "execution_count": null,
   "metadata": {
    "collapsed": true
   },
   "outputs": [],
   "source": [
    "# setting a new cursor\n",
    "cur = con.cursor()"
   ]
  },
  {
   "cell_type": "code",
   "execution_count": null,
   "metadata": {
    "collapsed": false
   },
   "outputs": [],
   "source": [
    "cur.execute('USE yelp_Pittsburgh')\n",
    "cur.execute('SET SQL_MODE=ANSI_QUOTES')\n",
    "# append the data to existing tables\n",
    "t10.appenddb(cur,'dim_business',schema='yelp_pittsburgh', commit=True)"
   ]
  },
  {
   "cell_type": "code",
   "execution_count": null,
   "metadata": {
    "collapsed": true
   },
   "outputs": [],
   "source": [
    "#Closing the Cursor - Do we need to close and open it every time?\n",
    "cur.close()"
   ]
  },
  {
   "cell_type": "markdown",
   "metadata": {},
   "source": [
    "## Date"
   ]
  },
  {
   "cell_type": "code",
   "execution_count": null,
   "metadata": {
    "collapsed": true
   },
   "outputs": [],
   "source": [
    "# setting a cursor\n",
    "cur = con.cursor()     # get the cursor"
   ]
  },
  {
   "cell_type": "markdown",
   "metadata": {},
   "source": [
    "#### append data to existing tables"
   ]
  },
  {
   "cell_type": "code",
   "execution_count": null,
   "metadata": {
    "collapsed": false
   },
   "outputs": [],
   "source": [
    "cur.execute(\"SET @currdate := '2005-01-01';\")\n",
    "cur.execute(\"SET @enddate := '2018-01-01';\")\n",
    "cur.execute(\"DROP PROCEDURE IF EXISTS BuildDate\")\n",
    " \n",
    "cur.execute(\"\"\" CREATE PROCEDURE BuildDate()\n",
    "         BEGIN\n",
    "        WHILE @currdate < @enddate DO\n",
    "            INSERT INTO dim_dates  (date, day, month, year, day_name)\n",
    "            VALUES (  @currdate,  DAY(@currdate),  MONTH(@currdate), \n",
    "              YEAR(@currdate), DAYNAME(@currdate));\n",
    "            SET @currdate := DATE_ADD(@currdate, INTERVAL 1 DAY);\n",
    "END WHILE;\n",
    "    END  \"\"\")\n",
    " \n",
    "cur.execute('CALL BuildDate();')\n",
    "con.commit()\n"
   ]
  },
  {
   "cell_type": "markdown",
   "metadata": {
    "collapsed": true
   },
   "source": [
    "### Add Holidays"
   ]
  },
  {
   "cell_type": "code",
   "execution_count": null,
   "metadata": {
    "collapsed": false
   },
   "outputs": [],
   "source": [
    "# New Year\n",
    "cur.execute(\"\"\"\n",
    "update dim_dates \n",
    "set holiday = 'New Year''s Day'\n",
    "where day = 01 and month = 01;\n",
    "\"\"\")\n",
    "\n",
    "# Halloween\n",
    "cur.execute(\"\"\"\n",
    "update dim_dates \n",
    "set holiday = 'Halloween'\n",
    "where day = 31 and month = 10;\n",
    "\"\"\")\n",
    "\n",
    "# Independence Day\n",
    "cur.execute(\"\"\"\n",
    "update dim_dates \n",
    "set holiday = 'Independence Day, U.S'\n",
    "where day = 04 and month = 07;\n",
    "\"\"\")\n",
    "\n",
    "# Memorial Day\n",
    "cur.execute(\"\"\"\n",
    "update dim_dates \n",
    "set holiday = 'Memorial Day'\n",
    "where date = '2005-05-30' or date = '2006-05-29' or date = '2007-05-28' or date = '2008-05-26' or date = '2009-05-25'\n",
    "or date = '2010-05-31' or date = '2011-05-30' or date = '2012-05-28' or date = '2013-05-27' or date = '2014-05-26'\n",
    "or date = '2015-05-25' or date = '2016-05-30' or date = '2017-05-29';\n",
    "\"\"\")\n",
    "\n",
    "# Thanksgiving\n",
    "cur.execute(\"\"\"\n",
    "update dim_dates \n",
    "set holiday = 'Thanksgiving Day'\n",
    "where date = '2005-11-23' or date = '2006-11-22' or date = '2007-11-28' or date = '2008-11-27' or date = '2009-11-25'\n",
    "or date = '2010-11-24' or date = '2011-11-23' or date = '2012-11-22' or date = '2013-11-27' or date = '2014-11-26'\n",
    "or date = '2015-11-25' or date = '2016-11-24' or date = '2017-11-23';\n",
    "\"\"\")\n",
    "\n",
    "# Christmas Day\n",
    "cur.execute(\"\"\"\n",
    "update dim_dates \n",
    "set holiday = 'Christmas Day'\n",
    "where day = 25 and month = 12;\n",
    "\"\"\")\n",
    "\n",
    "# Christmas Eve\n",
    "cur.execute(\"\"\"\n",
    "update dim_dates \n",
    "set holiday = 'Christmas Eve'\n",
    "where day = 24 and month = 12;\n",
    "\"\"\")\n",
    "\n",
    "# Black Friday\n",
    "cur.execute(\"\"\"\n",
    "update dim_dates \n",
    "set holiday = 'Black Friday'\n",
    "where day_name = 'Friday' and month = 11 and day between 21 and 29;\n",
    "\"\"\")\n"
   ]
  },
  {
   "cell_type": "code",
   "execution_count": null,
   "metadata": {
    "collapsed": true
   },
   "outputs": [],
   "source": [
    "con.commit()\n",
    "cur.close()"
   ]
  },
  {
   "cell_type": "markdown",
   "metadata": {},
   "source": [
    "## Reviews"
   ]
  },
  {
   "cell_type": "markdown",
   "metadata": {
    "collapsed": true
   },
   "source": [
    "### Extract"
   ]
  },
  {
   "cell_type": "code",
   "execution_count": null,
   "metadata": {
    "collapsed": true
   },
   "outputs": [],
   "source": [
    "filename= 'yelp_academic_dataset_review_drop_PA.json'"
   ]
  },
  {
   "cell_type": "code",
   "execution_count": null,
   "metadata": {
    "collapsed": false
   },
   "outputs": [],
   "source": [
    "t1 = etl.fromjson(filename)\n",
    "\n",
    "fields = t1.fieldnames()\n",
    "\n",
    "for f in fields:\n",
    "    print f,'\\t', t1.typecounter(f)"
   ]
  },
  {
   "cell_type": "markdown",
   "metadata": {},
   "source": [
    "Due to the current types of data, we need to do the following:\n",
    " 1. Add ascending numbers to the rows and call it \"review_id\" (this will be used for the auto-increamented review_ID field).\n",
    " 2. Aggragate the columns `funny`, `cool` and `useful` to the \"votes_aggregate\" column.\n",
    " 3. Change the user_id, business_id, date_id to their Foreign keys (in the DB). This will be done during the Load.\n"
   ]
  },
  {
   "cell_type": "code",
   "execution_count": null,
   "metadata": {
    "collapsed": false
   },
   "outputs": [],
   "source": [
    "t2 = t1.addrownumbers()\n",
    "t2.display(10)"
   ]
  },
  {
   "cell_type": "code",
   "execution_count": null,
   "metadata": {
    "collapsed": true
   },
   "outputs": [],
   "source": [
    "t3 = etl.rename(t2, 'review_id', 'yelp_review_id')\n",
    "t4 = etl.rename(t3, 'row', 'review_id')\n",
    "t5 = etl.rename(t4, 'date','date_id')"
   ]
  },
  {
   "cell_type": "code",
   "execution_count": null,
   "metadata": {
    "collapsed": false
   },
   "outputs": [],
   "source": [
    "def votes_aggregate(row):\n",
    "    return row['funny']+row['cool']+row['useful']\n",
    "\n",
    "t6=t5.addfield('votes_aggregate', votes_aggregate)\n",
    "t6.display(10)"
   ]
  },
  {
   "cell_type": "code",
   "execution_count": null,
   "metadata": {
    "collapsed": true
   },
   "outputs": [],
   "source": [
    "t7 = t6.cut(['yelp_review_id', 'user_id', 'business_id', 'date_id', 'stars', 'votes_aggregate' ])"
   ]
  },
  {
   "cell_type": "code",
   "execution_count": null,
   "metadata": {
    "collapsed": false
   },
   "outputs": [],
   "source": [
    "t7.display(10)"
   ]
  },
  {
   "cell_type": "markdown",
   "metadata": {},
   "source": []
  },
  {
   "cell_type": "code",
   "execution_count": null,
   "metadata": {
    "collapsed": false
   },
   "outputs": [],
   "source": [
    "# setting a cursor\n",
    "cur = con.cursor()\n",
    "\n",
    "cur.execute('USE yelp_Pittsburgh')\n",
    "cur.execute('SET SQL_MODE=ANSI_QUOTES')\n",
    "\n",
    "# append the data to existing tables - loading by \"chunks\"\n",
    "start = 0\n",
    "end = 20000\n",
    "row_num = etl.nrows(t7)\n",
    "while end < row_num:\n",
    "    t7.rowslice(start, end).appenddb(cur,'fact_reviews',schema='yelp_pittsburgh', commit=True)\n",
    "    start = end\n",
    "    end += 20000\n",
    "\n",
    "    #Add the last chunk of data\n",
    "t7.rowslice(start, row_num).appenddb(cur,'fact_reviews',schema='yelp_pittsburgh', commit=True)"
   ]
  },
  {
   "cell_type": "markdown",
   "metadata": {},
   "source": [
    "creating the foreign key by 'join' action with the other dims"
   ]
  },
  {
   "cell_type": "code",
   "execution_count": null,
   "metadata": {
    "collapsed": false
   },
   "outputs": [],
   "source": [
    "cur.execute('''UPDATE fact_reviews, dim_dates\n",
    "SET fact_reviews.date_id = dim_dates.date_id \n",
    "WHERE DATE(fact_reviews.date_id) = dim_dates.date;''')"
   ]
  },
  {
   "cell_type": "code",
   "execution_count": null,
   "metadata": {
    "collapsed": false
   },
   "outputs": [],
   "source": [
    "cur.execute('''UPDATE fact_reviews, dim_users\n",
    "SET fact_reviews.user_id = dim_users.user_id \n",
    "WHERE fact_reviews.user_id = dim_users.yelp_user_id;''')"
   ]
  },
  {
   "cell_type": "code",
   "execution_count": null,
   "metadata": {
    "collapsed": false
   },
   "outputs": [],
   "source": [
    "cur.execute('''UPDATE fact_reviews, dim_business\n",
    "SET fact_reviews.business_id = dim_business.business_id \n",
    "WHERE fact_reviews.business_id = dim_business.Yelp_business_id;''')"
   ]
  },
  {
   "cell_type": "code",
   "execution_count": null,
   "metadata": {
    "collapsed": true
   },
   "outputs": [],
   "source": [
    "con.commit()\n",
    "cur.close()"
   ]
  },
  {
   "cell_type": "code",
   "execution_count": null,
   "metadata": {
    "collapsed": true
   },
   "outputs": [],
   "source": []
  },
  {
   "cell_type": "code",
   "execution_count": null,
   "metadata": {
    "collapsed": true
   },
   "outputs": [],
   "source": []
  },
  {
   "cell_type": "code",
   "execution_count": null,
   "metadata": {
    "collapsed": true
   },
   "outputs": [],
   "source": []
  }
 ],
 "metadata": {
  "anaconda-cloud": {},
  "kernelspec": {
   "display_name": "Python [default]",
   "language": "python",
   "name": "python2"
  },
  "language_info": {
   "codemirror_mode": {
    "name": "ipython",
    "version": 2
   },
   "file_extension": ".py",
   "mimetype": "text/x-python",
   "name": "python",
   "nbconvert_exporter": "python",
   "pygments_lexer": "ipython2",
   "version": "2.7.12"
  }
 },
 "nbformat": 4,
 "nbformat_minor": 0
}
