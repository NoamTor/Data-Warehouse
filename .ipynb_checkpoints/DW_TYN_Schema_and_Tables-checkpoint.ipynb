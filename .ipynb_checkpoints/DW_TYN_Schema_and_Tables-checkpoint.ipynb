{
 "cells": [
  {
   "cell_type": "markdown",
   "metadata": {},
   "source": [
    "# 1. Creating the Scheme in the Local Host"
   ]
  },
  {
   "cell_type": "markdown",
   "metadata": {},
   "source": [
    "### Create MYSQL connector"
   ]
  },
  {
   "cell_type": "code",
   "execution_count": 1,
   "metadata": {
    "collapsed": true
   },
   "outputs": [],
   "source": [
    "import MySQLdb as mdb"
   ]
  },
  {
   "cell_type": "code",
   "execution_count": 2,
   "metadata": {
    "collapsed": false
   },
   "outputs": [
    {
     "name": "stdout",
     "output_type": "stream",
     "text": [
      "The password is `root`\n"
     ]
    }
   ],
   "source": [
    "# creating connection\n",
    "try:\n",
    "    con = mdb.connect(\n",
    "                   host = '127.0.0.1', user = 'root', passwd = 'root', use_unicode=True, charset=\"utf8\")\n",
    "    print \"The password is `root`\"\n",
    "except:\n",
    "    print \"The password in not `root`. trying `1234`\"\n",
    "    con = mdb.connect(\n",
    "                   host = '127.0.0.1', user = 'root', passwd = '1234', use_unicode=True, charset=\"utf8\")"
   ]
  },
  {
   "cell_type": "code",
   "execution_count": 3,
   "metadata": {
    "collapsed": false
   },
   "outputs": [],
   "source": [
    "# setting a cursor\n",
    "cursor = con.cursor()     # get the cursor"
   ]
  },
  {
   "cell_type": "markdown",
   "metadata": {},
   "source": [
    "### DDL - Create Schema"
   ]
  },
  {
   "cell_type": "code",
   "execution_count": 4,
   "metadata": {
    "collapsed": false
   },
   "outputs": [
    {
     "name": "stderr",
     "output_type": "stream",
     "text": [
      "C:\\Program Files\\Anaconda2\\lib\\site-packages\\ipykernel\\__main__.py:4: Warning: Changing sql mode 'NO_AUTO_CREATE_USER' is deprecated. It will be removed in a future release.\n"
     ]
    },
    {
     "data": {
      "text/plain": [
       "0L"
      ]
     },
     "execution_count": 4,
     "metadata": {},
     "output_type": "execute_result"
    }
   ],
   "source": [
    "cursor.execute(\"DROP SCHEMA IF EXISTS Yelp_Pittsburgh ;\")\n",
    "cursor.execute(\"CREATE SCHEMA IF NOT EXISTS Yelp_Pittsburgh ;\")\n",
    "cursor.execute(\"USE Yelp_Pittsburgh ;\")\n",
    "cursor.execute('SET SQL_MODE=ANSI_QUOTES') #important for petl operation - use this kind of quotes"
   ]
  },
  {
   "cell_type": "markdown",
   "metadata": {},
   "source": [
    "### Create Tables"
   ]
  },
  {
   "cell_type": "code",
   "execution_count": 5,
   "metadata": {
    "collapsed": false,
    "scrolled": true
   },
   "outputs": [
    {
     "data": {
      "text/plain": [
       "0L"
      ]
     },
     "execution_count": 5,
     "metadata": {},
     "output_type": "execute_result"
    }
   ],
   "source": [
    "#dim_users table creation\n",
    "cursor.execute(\"\"\"\n",
    "    CREATE TABLE IF NOT EXISTS dim_users (\n",
    "        `user_id` INT(11) NOT NULL AUTO_INCREMENT,\n",
    "        `yelp_user_id` VARCHAR(20) NOT NULL,\n",
    "        `review_count` INT(11),\n",
    "        `fans` INT(11),\n",
    "        `is_elite` BOOLEAN NOT NULL,\n",
    "        `yelping_since` DATE,\n",
    "        `friends_count` INT(11) NOT NULL,\n",
    "        `average_stars` FLOAT(11),\n",
    "        PRIMARY KEY (`user_id`));\n",
    "        \"\"\")"
   ]
  },
  {
   "cell_type": "code",
   "execution_count": 6,
   "metadata": {
    "collapsed": false
   },
   "outputs": [
    {
     "data": {
      "text/plain": [
       "0L"
      ]
     },
     "execution_count": 6,
     "metadata": {},
     "output_type": "execute_result"
    }
   ],
   "source": [
    "#dim_business table creation\n",
    "cursor.execute(\"\"\"\n",
    "    CREATE TABLE IF NOT EXISTS dim_business (       \n",
    "        `business_id` INT(11) NOT NULL AUTO_INCREMENT,\n",
    "        `Yelp_business_id` VARCHAR(20) NOT NULL,\n",
    "        `business_name` VARCHAR(20) NOT NULL,\n",
    "        `is_open` BOOLEAN NOT NULL,\n",
    "        `neighborhood` VARCHAR(20),\n",
    "        `latitude` FLOAT(11),\n",
    "        `longitude` FLOAT(11),\n",
    "        `stars` FLOAT(11),\n",
    "        `review_count` INT(11) NOT NULL,\n",
    "        `food` BOOLEAN NOT NULL,\n",
    "        `art & enteraitment` BOOLEAN NOT NULL,\n",
    "        `stores` BOOLEAN NOT NULL,\n",
    "        `beauty & spa` BOOLEAN NOT NULL,\n",
    "        `health` BOOLEAN NOT NULL,\n",
    "        `finance` BOOLEAN NOT NULL,\n",
    "        `turists` BOOLEAN NOT NULL,\n",
    "        `cars & transportation` BOOLEAN NOT NULL,\n",
    "        `bars & alcohol` BOOLEAN NOT NULL,\n",
    "        `other` BOOLEAN NOT NULL,\n",
    "        `fashion` BOOLEAN NOT NULL,\n",
    "        `real estate` BOOLEAN NOT NULL,\n",
    "        \n",
    "        PRIMARY KEY (`business_id`));\n",
    "        \"\"\")"
   ]
  },
  {
   "cell_type": "code",
   "execution_count": 7,
   "metadata": {
    "collapsed": false
   },
   "outputs": [
    {
     "data": {
      "text/plain": [
       "0L"
      ]
     },
     "execution_count": 7,
     "metadata": {},
     "output_type": "execute_result"
    }
   ],
   "source": [
    "#dim_dates table creation\n",
    "cursor.execute(\"\"\"\n",
    "    CREATE TABLE IF NOT EXISTS dim_dates (       \n",
    "        `date_id` INT(11) NOT NULL AUTO_INCREMENT,\n",
    "        `date` DATE NOT NULL,\n",
    "        `day` INT(11) NOT NULL,\n",
    "        `month` INT(11) NOT NULL,\n",
    "        `year` INT(11),\n",
    "        `day_name` VARCHAR(45) NOT NULL,\n",
    "        `holiday` VARCHAR(45),\n",
    "        PRIMARY KEY (`date_id`));\n",
    "        \"\"\")"
   ]
  },
  {
   "cell_type": "code",
   "execution_count": 8,
   "metadata": {
    "collapsed": false
   },
   "outputs": [
    {
     "data": {
      "text/plain": [
       "0L"
      ]
     },
     "execution_count": 8,
     "metadata": {},
     "output_type": "execute_result"
    }
   ],
   "source": [
    "#fact_review table creation\n",
    "cursor.execute(\"\"\"\n",
    "    CREATE TABLE IF NOT EXISTS fact_reviews (\n",
    "        `review_id` INT(11) NOT NULL AUTO_INCREMENT,\n",
    "        `yelp_review_id` VARCHAR(20) NOT NULL,\n",
    "        `user_id` INT(11) NOT NULL,\n",
    "        `business_id` INT(11) NOT NULL,\n",
    "        `date_id` int(11) NOT NULL,\n",
    "        `stars` FLOAT(11),\n",
    "        `votes_aggregate` INT(11),\n",
    "        PRIMARY KEY (`review_id`));\n",
    "        \"\"\")"
   ]
  },
  {
   "cell_type": "code",
   "execution_count": 9,
   "metadata": {
    "collapsed": false
   },
   "outputs": [],
   "source": [
    "#commit changes\n",
    "con.commit()"
   ]
  },
  {
   "cell_type": "markdown",
   "metadata": {},
   "source": [
    "### Closing the connection"
   ]
  },
  {
   "cell_type": "code",
   "execution_count": 10,
   "metadata": {
    "collapsed": false
   },
   "outputs": [],
   "source": [
    "#closing the connection\n",
    "cursor.close()\n",
    "con.close()"
   ]
  },
  {
   "cell_type": "markdown",
   "metadata": {},
   "source": [
    "# 2. ETL"
   ]
  },
  {
   "cell_type": "code",
   "execution_count": 11,
   "metadata": {
    "collapsed": true
   },
   "outputs": [],
   "source": [
    "import petl as etl\n",
    "import datetime"
   ]
  },
  {
   "cell_type": "markdown",
   "metadata": {},
   "source": [
    "## Users"
   ]
  },
  {
   "cell_type": "markdown",
   "metadata": {},
   "source": [
    "### Extract"
   ]
  },
  {
   "cell_type": "code",
   "execution_count": 12,
   "metadata": {
    "collapsed": false,
    "scrolled": true
   },
   "outputs": [
    {
     "data": {
      "text/html": [
       "<table class='petl'>\n",
       "<thead>\n",
       "<tr>\n",
       "<th>yelping_since</th>\n",
       "<th>useful</th>\n",
       "<th>compliment_photos</th>\n",
       "<th>compliment_list</th>\n",
       "<th>compliment_funny</th>\n",
       "<th>compliment_plain</th>\n",
       "<th>user_id</th>\n",
       "<th>fans</th>\n",
       "<th>type</th>\n",
       "<th>compliment_note</th>\n",
       "<th>funny</th>\n",
       "<th>compliment_writer</th>\n",
       "<th>compliment_cute</th>\n",
       "<th>average_stars</th>\n",
       "<th>review_count</th>\n",
       "<th>compliment_more</th>\n",
       "<th>elite</th>\n",
       "<th>compliment_hot</th>\n",
       "<th>cool</th>\n",
       "<th>name</th>\n",
       "<th>compliment_profile</th>\n",
       "<th>compliment_cool</th>\n",
       "</tr>\n",
       "</thead>\n",
       "<tbody>\n",
       "<tr>\n",
       "<td>2007-12-10</td>\n",
       "<td style='text-align: right'>565</td>\n",
       "<td style='text-align: right'>20</td>\n",
       "<td style='text-align: right'>10</td>\n",
       "<td style='text-align: right'>251</td>\n",
       "<td style='text-align: right'>138</td>\n",
       "<td>v10dHdqf42tUkxbYVnFW6w</td>\n",
       "<td style='text-align: right'>53</td>\n",
       "<td>user</td>\n",
       "<td style='text-align: right'>194</td>\n",
       "<td style='text-align: right'>987</td>\n",
       "<td style='text-align: right'>39</td>\n",
       "<td style='text-align: right'>21</td>\n",
       "<td style='text-align: right'>3.23</td>\n",
       "<td style='text-align: right'>591</td>\n",
       "<td style='text-align: right'>17</td>\n",
       "<td>[u'2009', u'2008', u'2010', u'2011']</td>\n",
       "<td style='text-align: right'>191</td>\n",
       "<td style='text-align: right'>743</td>\n",
       "<td>Chris</td>\n",
       "<td style='text-align: right'>5</td>\n",
       "<td style='text-align: right'>251</td>\n",
       "</tr>\n",
       "<tr>\n",
       "<td>2011-03-27</td>\n",
       "<td style='text-align: right'>324</td>\n",
       "<td style='text-align: right'>121</td>\n",
       "<td style='text-align: right'>10</td>\n",
       "<td style='text-align: right'>222</td>\n",
       "<td style='text-align: right'>171</td>\n",
       "<td>UrOofvcBl0gAbKPAEaj83A</td>\n",
       "<td style='text-align: right'>37</td>\n",
       "<td>user</td>\n",
       "<td style='text-align: right'>175</td>\n",
       "<td style='text-align: right'>312</td>\n",
       "<td style='text-align: right'>172</td>\n",
       "<td style='text-align: right'>11</td>\n",
       "<td style='text-align: right'>3.91</td>\n",
       "<td style='text-align: right'>338</td>\n",
       "<td style='text-align: right'>38</td>\n",
       "<td>[u'2014', u'2015']</td>\n",
       "<td style='text-align: right'>213</td>\n",
       "<td style='text-align: right'>321</td>\n",
       "<td>Louise</td>\n",
       "<td style='text-align: right'>25</td>\n",
       "<td style='text-align: right'>222</td>\n",
       "</tr>\n",
       "<tr>\n",
       "<td>2012-11-22</td>\n",
       "<td style='text-align: right'>1</td>\n",
       "<td style='text-align: right'>0</td>\n",
       "<td style='text-align: right'>0</td>\n",
       "<td style='text-align: right'>0</td>\n",
       "<td style='text-align: right'>0</td>\n",
       "<td>-ONyyxFUhDatBG3vw6PkUw</td>\n",
       "<td style='text-align: right'>0</td>\n",
       "<td>user</td>\n",
       "<td style='text-align: right'>0</td>\n",
       "<td style='text-align: right'>0</td>\n",
       "<td style='text-align: right'>0</td>\n",
       "<td style='text-align: right'>0</td>\n",
       "<td style='text-align: right'>3.73</td>\n",
       "<td style='text-align: right'>11</td>\n",
       "<td style='text-align: right'>0</td>\n",
       "<td>[u'None']</td>\n",
       "<td style='text-align: right'>0</td>\n",
       "<td style='text-align: right'>0</td>\n",
       "<td>Kaitlin</td>\n",
       "<td style='text-align: right'>0</td>\n",
       "<td style='text-align: right'>0</td>\n",
       "</tr>\n",
       "<tr>\n",
       "<td>2010-03-29</td>\n",
       "<td style='text-align: right'>1143</td>\n",
       "<td style='text-align: right'>12</td>\n",
       "<td style='text-align: right'>1</td>\n",
       "<td style='text-align: right'>194</td>\n",
       "<td style='text-align: right'>173</td>\n",
       "<td>p03AKnMXXbgetIEHHFP3wQ</td>\n",
       "<td style='text-align: right'>43</td>\n",
       "<td>user</td>\n",
       "<td style='text-align: right'>77</td>\n",
       "<td style='text-align: right'>481</td>\n",
       "<td style='text-align: right'>84</td>\n",
       "<td style='text-align: right'>1</td>\n",
       "<td style='text-align: right'>3.54</td>\n",
       "<td style='text-align: right'>359</td>\n",
       "<td style='text-align: right'>8</td>\n",
       "<td>[u'2017', u'2012', u'2013', u'2015', u'2016', u'2014']</td>\n",
       "<td style='text-align: right'>140</td>\n",
       "<td style='text-align: right'>379</td>\n",
       "<td>Heather</td>\n",
       "<td style='text-align: right'>2</td>\n",
       "<td style='text-align: right'>194</td>\n",
       "</tr>\n",
       "<tr>\n",
       "<td>2010-07-12</td>\n",
       "<td style='text-align: right'>66</td>\n",
       "<td style='text-align: right'>0</td>\n",
       "<td style='text-align: right'>0</td>\n",
       "<td style='text-align: right'>0</td>\n",
       "<td style='text-align: right'>1</td>\n",
       "<td>7rKWM_1lPM4oGdXegFjp9g</td>\n",
       "<td style='text-align: right'>3</td>\n",
       "<td>user</td>\n",
       "<td style='text-align: right'>1</td>\n",
       "<td style='text-align: right'>8</td>\n",
       "<td style='text-align: right'>0</td>\n",
       "<td style='text-align: right'>0</td>\n",
       "<td style='text-align: right'>3.9</td>\n",
       "<td style='text-align: right'>42</td>\n",
       "<td style='text-align: right'>0</td>\n",
       "<td>[u'None']</td>\n",
       "<td style='text-align: right'>0</td>\n",
       "<td style='text-align: right'>11</td>\n",
       "<td>Angelica</td>\n",
       "<td style='text-align: right'>0</td>\n",
       "<td style='text-align: right'>0</td>\n",
       "</tr>\n",
       "<tr>\n",
       "<td>2012-09-03</td>\n",
       "<td style='text-align: right'>4</td>\n",
       "<td style='text-align: right'>0</td>\n",
       "<td style='text-align: right'>0</td>\n",
       "<td style='text-align: right'>2</td>\n",
       "<td style='text-align: right'>0</td>\n",
       "<td>57vdnMXfheEeiVd_kzxUlg</td>\n",
       "<td style='text-align: right'>2</td>\n",
       "<td>user</td>\n",
       "<td style='text-align: right'>0</td>\n",
       "<td style='text-align: right'>0</td>\n",
       "<td style='text-align: right'>1</td>\n",
       "<td style='text-align: right'>0</td>\n",
       "<td style='text-align: right'>3.81</td>\n",
       "<td style='text-align: right'>40</td>\n",
       "<td style='text-align: right'>0</td>\n",
       "<td>[u'None']</td>\n",
       "<td style='text-align: right'>3</td>\n",
       "<td style='text-align: right'>0</td>\n",
       "<td>Amber</td>\n",
       "<td style='text-align: right'>0</td>\n",
       "<td style='text-align: right'>2</td>\n",
       "</tr>\n",
       "<tr>\n",
       "<td>2008-06-05</td>\n",
       "<td style='text-align: right'>440</td>\n",
       "<td style='text-align: right'>1</td>\n",
       "<td style='text-align: right'>1</td>\n",
       "<td style='text-align: right'>112</td>\n",
       "<td style='text-align: right'>45</td>\n",
       "<td>6DbvYyAvTtXTmVOAG32Djw</td>\n",
       "<td style='text-align: right'>9</td>\n",
       "<td>user</td>\n",
       "<td style='text-align: right'>15</td>\n",
       "<td style='text-align: right'>469</td>\n",
       "<td style='text-align: right'>21</td>\n",
       "<td style='text-align: right'>0</td>\n",
       "<td style='text-align: right'>4.04</td>\n",
       "<td style='text-align: right'>188</td>\n",
       "<td style='text-align: right'>7</td>\n",
       "<td>[u'2011', u'2010']</td>\n",
       "<td style='text-align: right'>46</td>\n",
       "<td style='text-align: right'>470</td>\n",
       "<td>Sharon</td>\n",
       "<td style='text-align: right'>2</td>\n",
       "<td style='text-align: right'>112</td>\n",
       "</tr>\n",
       "<tr>\n",
       "<td>2010-06-12</td>\n",
       "<td style='text-align: right'>99</td>\n",
       "<td style='text-align: right'>0</td>\n",
       "<td style='text-align: right'>0</td>\n",
       "<td style='text-align: right'>10</td>\n",
       "<td style='text-align: right'>5</td>\n",
       "<td>3vYsjC90S80legSDDTmqcA</td>\n",
       "<td style='text-align: right'>10</td>\n",
       "<td>user</td>\n",
       "<td style='text-align: right'>3</td>\n",
       "<td style='text-align: right'>28</td>\n",
       "<td style='text-align: right'>8</td>\n",
       "<td style='text-align: right'>0</td>\n",
       "<td style='text-align: right'>3.97</td>\n",
       "<td style='text-align: right'>71</td>\n",
       "<td style='text-align: right'>0</td>\n",
       "<td>[u'2013', u'2012']</td>\n",
       "<td style='text-align: right'>8</td>\n",
       "<td style='text-align: right'>12</td>\n",
       "<td>Donna</td>\n",
       "<td style='text-align: right'>0</td>\n",
       "<td style='text-align: right'>10</td>\n",
       "</tr>\n",
       "<tr>\n",
       "<td>2009-03-30</td>\n",
       "<td style='text-align: right'>65</td>\n",
       "<td style='text-align: right'>1</td>\n",
       "<td style='text-align: right'>1</td>\n",
       "<td style='text-align: right'>13</td>\n",
       "<td style='text-align: right'>15</td>\n",
       "<td>CFyvX-AZh6cunAMu_zoF_w</td>\n",
       "<td style='text-align: right'>8</td>\n",
       "<td>user</td>\n",
       "<td style='text-align: right'>8</td>\n",
       "<td style='text-align: right'>21</td>\n",
       "<td style='text-align: right'>10</td>\n",
       "<td style='text-align: right'>0</td>\n",
       "<td style='text-align: right'>3.61</td>\n",
       "<td style='text-align: right'>167</td>\n",
       "<td style='text-align: right'>3</td>\n",
       "<td>[u'2011', u'2012', u'2013', u'2014', u'2010']</td>\n",
       "<td style='text-align: right'>7</td>\n",
       "<td style='text-align: right'>3</td>\n",
       "<td>Rosalie</td>\n",
       "<td style='text-align: right'>0</td>\n",
       "<td style='text-align: right'>13</td>\n",
       "</tr>\n",
       "<tr>\n",
       "<td>2012-07-24</td>\n",
       "<td style='text-align: right'>7</td>\n",
       "<td style='text-align: right'>0</td>\n",
       "<td style='text-align: right'>0</td>\n",
       "<td style='text-align: right'>0</td>\n",
       "<td style='text-align: right'>0</td>\n",
       "<td>cYXznfbPK_ShlepnUiLpcw</td>\n",
       "<td style='text-align: right'>1</td>\n",
       "<td>user</td>\n",
       "<td style='text-align: right'>0</td>\n",
       "<td style='text-align: right'>1</td>\n",
       "<td style='text-align: right'>1</td>\n",
       "<td style='text-align: right'>0</td>\n",
       "<td style='text-align: right'>3.94</td>\n",
       "<td style='text-align: right'>14</td>\n",
       "<td style='text-align: right'>0</td>\n",
       "<td>[u'None']</td>\n",
       "<td style='text-align: right'>1</td>\n",
       "<td style='text-align: right'>0</td>\n",
       "<td>Je'Amour</td>\n",
       "<td style='text-align: right'>0</td>\n",
       "<td style='text-align: right'>0</td>\n",
       "</tr>\n",
       "</tbody>\n",
       "</table>\n",
       "<p><strong>...</strong></p>"
      ]
     },
     "metadata": {},
     "output_type": "display_data"
    }
   ],
   "source": [
    "# Extract JSON file and display\n",
    "filename= 'yelp_academic_dataset_users_nofriendlist_PA.json'\n",
    "t1 = etl.fromjson(filename)\n",
    "t1.display(10)"
   ]
  },
  {
   "cell_type": "code",
   "execution_count": 13,
   "metadata": {
    "collapsed": false
   },
   "outputs": [
    {
     "data": {
      "text/html": [
       "<table class='petl'>\n",
       "<thead>\n",
       "<tr>\n",
       "<th>user_id</th>\n",
       "<th>review_count</th>\n",
       "<th>fans</th>\n",
       "<th>elite</th>\n",
       "<th>yelping_since</th>\n",
       "<th>average_stars</th>\n",
       "</tr>\n",
       "</thead>\n",
       "<tbody>\n",
       "<tr>\n",
       "<td>v10dHdqf42tUkxbYVnFW6w</td>\n",
       "<td style='text-align: right'>591</td>\n",
       "<td style='text-align: right'>53</td>\n",
       "<td>[u'2009', u'2008', u'2010', u'2011']</td>\n",
       "<td>2007-12-10</td>\n",
       "<td style='text-align: right'>3.23</td>\n",
       "</tr>\n",
       "<tr>\n",
       "<td>UrOofvcBl0gAbKPAEaj83A</td>\n",
       "<td style='text-align: right'>338</td>\n",
       "<td style='text-align: right'>37</td>\n",
       "<td>[u'2014', u'2015']</td>\n",
       "<td>2011-03-27</td>\n",
       "<td style='text-align: right'>3.91</td>\n",
       "</tr>\n",
       "<tr>\n",
       "<td>-ONyyxFUhDatBG3vw6PkUw</td>\n",
       "<td style='text-align: right'>11</td>\n",
       "<td style='text-align: right'>0</td>\n",
       "<td>[u'None']</td>\n",
       "<td>2012-11-22</td>\n",
       "<td style='text-align: right'>3.73</td>\n",
       "</tr>\n",
       "<tr>\n",
       "<td>p03AKnMXXbgetIEHHFP3wQ</td>\n",
       "<td style='text-align: right'>359</td>\n",
       "<td style='text-align: right'>43</td>\n",
       "<td>[u'2017', u'2012', u'2013', u'2015', u'2016', u'2014']</td>\n",
       "<td>2010-03-29</td>\n",
       "<td style='text-align: right'>3.54</td>\n",
       "</tr>\n",
       "<tr>\n",
       "<td>7rKWM_1lPM4oGdXegFjp9g</td>\n",
       "<td style='text-align: right'>42</td>\n",
       "<td style='text-align: right'>3</td>\n",
       "<td>[u'None']</td>\n",
       "<td>2010-07-12</td>\n",
       "<td style='text-align: right'>3.9</td>\n",
       "</tr>\n",
       "<tr>\n",
       "<td>57vdnMXfheEeiVd_kzxUlg</td>\n",
       "<td style='text-align: right'>40</td>\n",
       "<td style='text-align: right'>2</td>\n",
       "<td>[u'None']</td>\n",
       "<td>2012-09-03</td>\n",
       "<td style='text-align: right'>3.81</td>\n",
       "</tr>\n",
       "<tr>\n",
       "<td>6DbvYyAvTtXTmVOAG32Djw</td>\n",
       "<td style='text-align: right'>188</td>\n",
       "<td style='text-align: right'>9</td>\n",
       "<td>[u'2011', u'2010']</td>\n",
       "<td>2008-06-05</td>\n",
       "<td style='text-align: right'>4.04</td>\n",
       "</tr>\n",
       "<tr>\n",
       "<td>3vYsjC90S80legSDDTmqcA</td>\n",
       "<td style='text-align: right'>71</td>\n",
       "<td style='text-align: right'>10</td>\n",
       "<td>[u'2013', u'2012']</td>\n",
       "<td>2010-06-12</td>\n",
       "<td style='text-align: right'>3.97</td>\n",
       "</tr>\n",
       "<tr>\n",
       "<td>CFyvX-AZh6cunAMu_zoF_w</td>\n",
       "<td style='text-align: right'>167</td>\n",
       "<td style='text-align: right'>8</td>\n",
       "<td>[u'2011', u'2012', u'2013', u'2014', u'2010']</td>\n",
       "<td>2009-03-30</td>\n",
       "<td style='text-align: right'>3.61</td>\n",
       "</tr>\n",
       "<tr>\n",
       "<td>cYXznfbPK_ShlepnUiLpcw</td>\n",
       "<td style='text-align: right'>14</td>\n",
       "<td style='text-align: right'>1</td>\n",
       "<td>[u'None']</td>\n",
       "<td>2012-07-24</td>\n",
       "<td style='text-align: right'>3.94</td>\n",
       "</tr>\n",
       "</tbody>\n",
       "</table>\n",
       "<p><strong>...</strong></p>"
      ]
     },
     "metadata": {},
     "output_type": "display_data"
    }
   ],
   "source": [
    "'''creating the users dimension:\n",
    "user_id= varchar(20)\n",
    "friends_count= INT\n",
    "review_count= INT\n",
    "fans= INT\n",
    "is_elite= Binary\n",
    "yelping_since= Date\n",
    "average_stars = FLOAT'''\n",
    "\n",
    "t2 = t1.cut(['user_id','review_count','fans','elite','yelping_since','average_stars'])\n",
    "t2.display(10)"
   ]
  },
  {
   "cell_type": "markdown",
   "metadata": {},
   "source": [
    "#### Transform"
   ]
  },
  {
   "cell_type": "code",
   "execution_count": 14,
   "metadata": {
    "collapsed": false
   },
   "outputs": [
    {
     "name": "stdout",
     "output_type": "stream",
     "text": [
      "user_id \tCounter({'unicode': 52141})\n",
      "review_count \tCounter({'int': 52141})\n",
      "fans \tCounter({'int': 52141})\n",
      "elite \tCounter({'unicode': 52141})\n",
      "yelping_since \tCounter({'unicode': 52141})\n",
      "average_stars \tCounter({'float': 52141})\n"
     ]
    }
   ],
   "source": [
    "fields = t2.fieldnames()\n",
    "for f in fields:\n",
    "    print f,'\\t', t2.typecounter(f)"
   ]
  },
  {
   "cell_type": "code",
   "execution_count": 15,
   "metadata": {
    "collapsed": false
   },
   "outputs": [
    {
     "data": {
      "text/html": [
       "<table class='petl'>\n",
       "<thead>\n",
       "<tr>\n",
       "<th>user_id</th>\n",
       "<th>review_count</th>\n",
       "<th>fans</th>\n",
       "<th>elite</th>\n",
       "<th>yelping_since</th>\n",
       "<th>average_stars</th>\n",
       "</tr>\n",
       "</thead>\n",
       "<tbody>\n",
       "<tr>\n",
       "<td>v10dHdqf42tUkxbYVnFW6w</td>\n",
       "<td style='text-align: right'>591</td>\n",
       "<td style='text-align: right'>53</td>\n",
       "<td style='text-align: right'>1</td>\n",
       "<td>2007-12-10</td>\n",
       "<td style='text-align: right'>3.23</td>\n",
       "</tr>\n",
       "<tr>\n",
       "<td>UrOofvcBl0gAbKPAEaj83A</td>\n",
       "<td style='text-align: right'>338</td>\n",
       "<td style='text-align: right'>37</td>\n",
       "<td style='text-align: right'>1</td>\n",
       "<td>2011-03-27</td>\n",
       "<td style='text-align: right'>3.91</td>\n",
       "</tr>\n",
       "<tr>\n",
       "<td>-ONyyxFUhDatBG3vw6PkUw</td>\n",
       "<td style='text-align: right'>11</td>\n",
       "<td style='text-align: right'>0</td>\n",
       "<td style='text-align: right'>0</td>\n",
       "<td>2012-11-22</td>\n",
       "<td style='text-align: right'>3.73</td>\n",
       "</tr>\n",
       "<tr>\n",
       "<td>p03AKnMXXbgetIEHHFP3wQ</td>\n",
       "<td style='text-align: right'>359</td>\n",
       "<td style='text-align: right'>43</td>\n",
       "<td style='text-align: right'>1</td>\n",
       "<td>2010-03-29</td>\n",
       "<td style='text-align: right'>3.54</td>\n",
       "</tr>\n",
       "<tr>\n",
       "<td>7rKWM_1lPM4oGdXegFjp9g</td>\n",
       "<td style='text-align: right'>42</td>\n",
       "<td style='text-align: right'>3</td>\n",
       "<td style='text-align: right'>0</td>\n",
       "<td>2010-07-12</td>\n",
       "<td style='text-align: right'>3.9</td>\n",
       "</tr>\n",
       "<tr>\n",
       "<td>57vdnMXfheEeiVd_kzxUlg</td>\n",
       "<td style='text-align: right'>40</td>\n",
       "<td style='text-align: right'>2</td>\n",
       "<td style='text-align: right'>0</td>\n",
       "<td>2012-09-03</td>\n",
       "<td style='text-align: right'>3.81</td>\n",
       "</tr>\n",
       "<tr>\n",
       "<td>6DbvYyAvTtXTmVOAG32Djw</td>\n",
       "<td style='text-align: right'>188</td>\n",
       "<td style='text-align: right'>9</td>\n",
       "<td style='text-align: right'>1</td>\n",
       "<td>2008-06-05</td>\n",
       "<td style='text-align: right'>4.04</td>\n",
       "</tr>\n",
       "<tr>\n",
       "<td>3vYsjC90S80legSDDTmqcA</td>\n",
       "<td style='text-align: right'>71</td>\n",
       "<td style='text-align: right'>10</td>\n",
       "<td style='text-align: right'>1</td>\n",
       "<td>2010-06-12</td>\n",
       "<td style='text-align: right'>3.97</td>\n",
       "</tr>\n",
       "<tr>\n",
       "<td>CFyvX-AZh6cunAMu_zoF_w</td>\n",
       "<td style='text-align: right'>167</td>\n",
       "<td style='text-align: right'>8</td>\n",
       "<td style='text-align: right'>1</td>\n",
       "<td>2009-03-30</td>\n",
       "<td style='text-align: right'>3.61</td>\n",
       "</tr>\n",
       "<tr>\n",
       "<td>cYXznfbPK_ShlepnUiLpcw</td>\n",
       "<td style='text-align: right'>14</td>\n",
       "<td style='text-align: right'>1</td>\n",
       "<td style='text-align: right'>0</td>\n",
       "<td>2012-07-24</td>\n",
       "<td style='text-align: right'>3.94</td>\n",
       "</tr>\n",
       "</tbody>\n",
       "</table>\n",
       "<p><strong>...</strong></p>"
      ]
     },
     "metadata": {},
     "output_type": "display_data"
    }
   ],
   "source": [
    "#convet unicode type to binary (creating is_elite field)\n",
    "def to_binary(text):\n",
    "    if text[3:7] == 'None':\n",
    "        return 0 \n",
    "    return 1\n",
    "\n",
    "t3 = t2.convert('elite' , to_binary)\n",
    "t3.display(10)"
   ]
  },
  {
   "cell_type": "code",
   "execution_count": 16,
   "metadata": {
    "collapsed": false,
    "scrolled": true
   },
   "outputs": [
    {
     "data": {
      "text/html": [
       "<table class='petl'>\n",
       "<thead>\n",
       "<tr>\n",
       "<th>user_id</th>\n",
       "<th>review_count</th>\n",
       "<th>fans</th>\n",
       "<th>elite</th>\n",
       "<th>yelping_since</th>\n",
       "<th>average_stars</th>\n",
       "<th>t4_friends</th>\n",
       "</tr>\n",
       "</thead>\n",
       "<tbody>\n",
       "<tr>\n",
       "<td>--26jc8nCJBy4-7r3ZtmiQ</td>\n",
       "<td style='text-align: right'>2</td>\n",
       "<td style='text-align: right'>0</td>\n",
       "<td style='text-align: right'>0</td>\n",
       "<td>2014-08-03</td>\n",
       "<td style='text-align: right'>5.0</td>\n",
       "<td style='text-align: right'>0</td>\n",
       "</tr>\n",
       "<tr>\n",
       "<td>--6CV8BPNofy7jt1JavD-g</td>\n",
       "<td style='text-align: right'>32</td>\n",
       "<td style='text-align: right'>2</td>\n",
       "<td style='text-align: right'>0</td>\n",
       "<td>2011-08-29</td>\n",
       "<td style='text-align: right'>3.38</td>\n",
       "<td style='text-align: right'>1</td>\n",
       "</tr>\n",
       "<tr>\n",
       "<td>--8EvC9O7Ycim8vCP4Cj0w</td>\n",
       "<td style='text-align: right'>4</td>\n",
       "<td style='text-align: right'>0</td>\n",
       "<td style='text-align: right'>0</td>\n",
       "<td>2014-08-14</td>\n",
       "<td style='text-align: right'>3.75</td>\n",
       "<td style='text-align: right'>33</td>\n",
       "</tr>\n",
       "<tr>\n",
       "<td>--CH8yRGXhO2MmbF-4BWXg</td>\n",
       "<td style='text-align: right'>12</td>\n",
       "<td style='text-align: right'>0</td>\n",
       "<td style='text-align: right'>0</td>\n",
       "<td>2011-07-18</td>\n",
       "<td style='text-align: right'>2.33</td>\n",
       "<td style='text-align: right'>0</td>\n",
       "</tr>\n",
       "<tr>\n",
       "<td>--EMqnd727rtC0G5Oc-Mrg</td>\n",
       "<td style='text-align: right'>28</td>\n",
       "<td style='text-align: right'>0</td>\n",
       "<td style='text-align: right'>0</td>\n",
       "<td>2008-08-05</td>\n",
       "<td style='text-align: right'>3.82</td>\n",
       "<td style='text-align: right'>1</td>\n",
       "</tr>\n",
       "<tr>\n",
       "<td>--OECAoqfSTBaZ3biOyzwA</td>\n",
       "<td style='text-align: right'>4</td>\n",
       "<td style='text-align: right'>0</td>\n",
       "<td style='text-align: right'>0</td>\n",
       "<td>2016-09-20</td>\n",
       "<td style='text-align: right'>4.25</td>\n",
       "<td style='text-align: right'>0</td>\n",
       "</tr>\n",
       "<tr>\n",
       "<td>--RBfYfIpx44V5Kux2fPFA</td>\n",
       "<td style='text-align: right'>11</td>\n",
       "<td style='text-align: right'>0</td>\n",
       "<td style='text-align: right'>0</td>\n",
       "<td>2013-06-24</td>\n",
       "<td style='text-align: right'>4.27</td>\n",
       "<td style='text-align: right'>0</td>\n",
       "</tr>\n",
       "<tr>\n",
       "<td>--TvGNywm2I1iwNWZmerBA</td>\n",
       "<td style='text-align: right'>1</td>\n",
       "<td style='text-align: right'>0</td>\n",
       "<td style='text-align: right'>0</td>\n",
       "<td>2012-04-27</td>\n",
       "<td style='text-align: right'>1.0</td>\n",
       "<td style='text-align: right'>0</td>\n",
       "</tr>\n",
       "<tr>\n",
       "<td>--Yrq6JLmQNdbZkWJsHy5Q</td>\n",
       "<td style='text-align: right'>145</td>\n",
       "<td style='text-align: right'>8</td>\n",
       "<td style='text-align: right'>1</td>\n",
       "<td>2010-03-12</td>\n",
       "<td style='text-align: right'>4.14</td>\n",
       "<td style='text-align: right'>61</td>\n",
       "</tr>\n",
       "<tr>\n",
       "<td>--_WHb1Fw3fH6RXbxpExgA</td>\n",
       "<td style='text-align: right'>1</td>\n",
       "<td style='text-align: right'>0</td>\n",
       "<td style='text-align: right'>0</td>\n",
       "<td>2013-01-14</td>\n",
       "<td style='text-align: right'>5.0</td>\n",
       "<td style='text-align: right'>1</td>\n",
       "</tr>\n",
       "</tbody>\n",
       "</table>\n",
       "<p><strong>...</strong></p>"
      ]
     },
     "metadata": {},
     "output_type": "display_data"
    }
   ],
   "source": [
    "#build the friends_count column by join (users and friends)\n",
    "\n",
    "source = 'Pittsburgh_full_friend_text.json'\n",
    "t4 = etl.fromjson(source)\n",
    "t5 = t3.join(t4, # right table\n",
    "                   lkey='user_id',rkey='user_id', #join equality columns\n",
    "                   rprefix='t4_') # prefixes of columns from each table (not mandatory)\n",
    "\n",
    "def friend_count(text):\n",
    "    if text[0]=='[' and text[-1]==']':\n",
    "        items =  text[1:-1].split(', ') # turn values to list\n",
    "        if text[3:7]== 'None':\n",
    "            return 0\n",
    "        return len(items)\n",
    "\n",
    "t6 = t5.convert('t4_friends' , friend_count)\n",
    "t6.display(10)"
   ]
  },
  {
   "cell_type": "code",
   "execution_count": 17,
   "metadata": {
    "collapsed": false
   },
   "outputs": [
    {
     "data": {
      "text/html": [
       "<table class='petl'>\n",
       "<thead>\n",
       "<tr>\n",
       "<th>user_id</th>\n",
       "<th>yelp_user_id</th>\n",
       "<th>review_count</th>\n",
       "<th>fans</th>\n",
       "<th>is_elite</th>\n",
       "<th>yelping_since</th>\n",
       "<th>average_stars</th>\n",
       "<th>friends_count</th>\n",
       "</tr>\n",
       "</thead>\n",
       "<tbody>\n",
       "<tr>\n",
       "<td style='text-align: right'>1</td>\n",
       "<td>--26jc8nCJBy4-7r3ZtmiQ</td>\n",
       "<td style='text-align: right'>2</td>\n",
       "<td style='text-align: right'>0</td>\n",
       "<td style='text-align: right'>0</td>\n",
       "<td>2014-08-03</td>\n",
       "<td style='text-align: right'>5.0</td>\n",
       "<td style='text-align: right'>0</td>\n",
       "</tr>\n",
       "<tr>\n",
       "<td style='text-align: right'>2</td>\n",
       "<td>--6CV8BPNofy7jt1JavD-g</td>\n",
       "<td style='text-align: right'>32</td>\n",
       "<td style='text-align: right'>2</td>\n",
       "<td style='text-align: right'>0</td>\n",
       "<td>2011-08-29</td>\n",
       "<td style='text-align: right'>3.38</td>\n",
       "<td style='text-align: right'>1</td>\n",
       "</tr>\n",
       "<tr>\n",
       "<td style='text-align: right'>3</td>\n",
       "<td>--8EvC9O7Ycim8vCP4Cj0w</td>\n",
       "<td style='text-align: right'>4</td>\n",
       "<td style='text-align: right'>0</td>\n",
       "<td style='text-align: right'>0</td>\n",
       "<td>2014-08-14</td>\n",
       "<td style='text-align: right'>3.75</td>\n",
       "<td style='text-align: right'>33</td>\n",
       "</tr>\n",
       "<tr>\n",
       "<td style='text-align: right'>4</td>\n",
       "<td>--CH8yRGXhO2MmbF-4BWXg</td>\n",
       "<td style='text-align: right'>12</td>\n",
       "<td style='text-align: right'>0</td>\n",
       "<td style='text-align: right'>0</td>\n",
       "<td>2011-07-18</td>\n",
       "<td style='text-align: right'>2.33</td>\n",
       "<td style='text-align: right'>0</td>\n",
       "</tr>\n",
       "<tr>\n",
       "<td style='text-align: right'>5</td>\n",
       "<td>--EMqnd727rtC0G5Oc-Mrg</td>\n",
       "<td style='text-align: right'>28</td>\n",
       "<td style='text-align: right'>0</td>\n",
       "<td style='text-align: right'>0</td>\n",
       "<td>2008-08-05</td>\n",
       "<td style='text-align: right'>3.82</td>\n",
       "<td style='text-align: right'>1</td>\n",
       "</tr>\n",
       "<tr>\n",
       "<td style='text-align: right'>6</td>\n",
       "<td>--OECAoqfSTBaZ3biOyzwA</td>\n",
       "<td style='text-align: right'>4</td>\n",
       "<td style='text-align: right'>0</td>\n",
       "<td style='text-align: right'>0</td>\n",
       "<td>2016-09-20</td>\n",
       "<td style='text-align: right'>4.25</td>\n",
       "<td style='text-align: right'>0</td>\n",
       "</tr>\n",
       "<tr>\n",
       "<td style='text-align: right'>7</td>\n",
       "<td>--RBfYfIpx44V5Kux2fPFA</td>\n",
       "<td style='text-align: right'>11</td>\n",
       "<td style='text-align: right'>0</td>\n",
       "<td style='text-align: right'>0</td>\n",
       "<td>2013-06-24</td>\n",
       "<td style='text-align: right'>4.27</td>\n",
       "<td style='text-align: right'>0</td>\n",
       "</tr>\n",
       "<tr>\n",
       "<td style='text-align: right'>8</td>\n",
       "<td>--TvGNywm2I1iwNWZmerBA</td>\n",
       "<td style='text-align: right'>1</td>\n",
       "<td style='text-align: right'>0</td>\n",
       "<td style='text-align: right'>0</td>\n",
       "<td>2012-04-27</td>\n",
       "<td style='text-align: right'>1.0</td>\n",
       "<td style='text-align: right'>0</td>\n",
       "</tr>\n",
       "<tr>\n",
       "<td style='text-align: right'>9</td>\n",
       "<td>--Yrq6JLmQNdbZkWJsHy5Q</td>\n",
       "<td style='text-align: right'>145</td>\n",
       "<td style='text-align: right'>8</td>\n",
       "<td style='text-align: right'>1</td>\n",
       "<td>2010-03-12</td>\n",
       "<td style='text-align: right'>4.14</td>\n",
       "<td style='text-align: right'>61</td>\n",
       "</tr>\n",
       "<tr>\n",
       "<td style='text-align: right'>10</td>\n",
       "<td>--_WHb1Fw3fH6RXbxpExgA</td>\n",
       "<td style='text-align: right'>1</td>\n",
       "<td style='text-align: right'>0</td>\n",
       "<td style='text-align: right'>0</td>\n",
       "<td>2013-01-14</td>\n",
       "<td style='text-align: right'>5.0</td>\n",
       "<td style='text-align: right'>1</td>\n",
       "</tr>\n",
       "</tbody>\n",
       "</table>\n",
       "<p><strong>...</strong></p>"
      ]
     },
     "metadata": {},
     "output_type": "display_data"
    }
   ],
   "source": [
    "# adding new user ID and rename the table\n",
    "\n",
    "t7 = t6.addrownumbers()\n",
    "t_users = t7.rename({'row':'user_id','user_id':'yelp_user_id','elite':'is_elite','t4_friends':'friends_count'})\n",
    "t_users.display(10)"
   ]
  },
  {
   "cell_type": "code",
   "execution_count": 18,
   "metadata": {
    "collapsed": false
   },
   "outputs": [
    {
     "name": "stdout",
     "output_type": "stream",
     "text": [
      "user_id \tCounter({'int': 52141})\n",
      "yelp_user_id \tCounter({'unicode': 52141})\n",
      "review_count \tCounter({'int': 52141})\n",
      "fans \tCounter({'int': 52141})\n",
      "is_elite \tCounter({'int': 52141})\n",
      "yelping_since \tCounter({'unicode': 52141})\n",
      "average_stars \tCounter({'float': 52141})\n",
      "friends_count \tCounter({'int': 52141})\n"
     ]
    }
   ],
   "source": [
    "#Validate the fields type\n",
    "fields = t_users.fieldnames()\n",
    "for f in fields:\n",
    "    print f,'\\t', t_users.typecounter(f)"
   ]
  },
  {
   "cell_type": "markdown",
   "metadata": {},
   "source": [
    "#### Load"
   ]
  },
  {
   "cell_type": "code",
   "execution_count": 19,
   "metadata": {
    "collapsed": false
   },
   "outputs": [],
   "source": [
    "#Connect to DB\n",
    "try:\n",
    "    con = mdb.connect(\n",
    "                   host = '127.0.0.1', user = 'root', passwd = 'root', use_unicode=True, charset=\"utf8\")\n",
    "except:\n",
    "    con = mdb.connect(\n",
    "                   host = '127.0.0.1', user = 'root', passwd = '1234', use_unicode=True, charset=\"utf8\")\n",
    "# setting a cursor\n",
    "cur = con.cursor()     # get the cursor"
   ]
  },
  {
   "cell_type": "code",
   "execution_count": 20,
   "metadata": {
    "collapsed": false
   },
   "outputs": [
    {
     "name": "stderr",
     "output_type": "stream",
     "text": [
      "C:\\Program Files\\Anaconda2\\lib\\site-packages\\ipykernel\\__main__.py:2: Warning: Changing sql mode 'NO_AUTO_CREATE_USER' is deprecated. It will be removed in a future release.\n",
      "  from ipykernel import kernelapp as app\n",
      "C:\\Program Files\\Anaconda2\\lib\\site-packages\\MySQLdb\\cursors.py:206: Warning: Data truncated for column 'yelp_user_id' at row 1\n",
      "  r = r + self.execute(query, a)\n"
     ]
    }
   ],
   "source": [
    "# append the data to existing tables\n",
    "cur.execute('SET SQL_MODE=ANSI_QUOTES')\n",
    "t_users.appenddb(cur,'dim_users',schema='yelp_pittsburgh',commit=True)"
   ]
  },
  {
   "cell_type": "code",
   "execution_count": 21,
   "metadata": {
    "collapsed": true
   },
   "outputs": [],
   "source": [
    "#Closing the Cursor\n",
    "cur.close()"
   ]
  },
  {
   "cell_type": "markdown",
   "metadata": {},
   "source": [
    "## Business"
   ]
  },
  {
   "cell_type": "markdown",
   "metadata": {},
   "source": [
    "### Extract"
   ]
  },
  {
   "cell_type": "code",
   "execution_count": 22,
   "metadata": {
    "collapsed": false
   },
   "outputs": [],
   "source": [
    "# Open and display the bussiness json file.\n",
    "filename= 'yelp_academic_dataset_business_PA.json'\n",
    "t1 = etl.fromjson(filename)\n",
    "#t1.display(10)"
   ]
  },
  {
   "cell_type": "code",
   "execution_count": 23,
   "metadata": {
    "collapsed": false
   },
   "outputs": [
    {
     "name": "stdout",
     "output_type": "stream",
     "text": [
      "city \tCounter({'unicode': 8091})\n",
      "review_count \tCounter({'int': 8091})\n",
      "neighborhood \tCounter({'NoneType': 4086, 'unicode': 4005})\n",
      "name \tCounter({'unicode': 8091})\n",
      "business_id \tCounter({'unicode': 8091})\n",
      "longitude \tCounter({'float': 8091})\n",
      "postal_code \tCounter({'float': 8070, 'NoneType': 21})\n",
      "hours \tCounter({'unicode': 5599, 'NoneType': 2492})\n",
      "state \tCounter({'unicode': 8091})\n",
      "is_open \tCounter({'int': 8091})\n",
      "stars \tCounter({'float': 8091})\n",
      "address \tCounter({'unicode': 7975, 'NoneType': 116})\n",
      "latitude \tCounter({'float': 8091})\n",
      "attributes \tCounter({'unicode': 7263, 'NoneType': 828})\n",
      "type \tCounter({'unicode': 8091})\n",
      "categories \tCounter({'unicode': 8080, 'NoneType': 11})\n"
     ]
    }
   ],
   "source": [
    "#Check the types of the data\n",
    "fields = t1.fieldnames()\n",
    "for f in fields:\n",
    "    print f,'\\t', t1.typecounter(f)"
   ]
  },
  {
   "cell_type": "markdown",
   "metadata": {},
   "source": [
    "### Business Catagories\n",
    "We wish to reduce the number of categories in Yelp to 12 main categories. In order to be able to get insights from those 12 categories, we will implement them as 12 Binary columns in our Business Dimention.\n"
   ]
  },
  {
   "cell_type": "code",
   "execution_count": 24,
   "metadata": {
    "collapsed": false
   },
   "outputs": [],
   "source": [
    "#Extract csv file- for mapping the categories\n",
    "csv_filename = \"category.csv\"\n",
    "map_categories_table = etl.fromcsv(csv_filename)\n",
    "#map_categories_table.display(5)"
   ]
  },
  {
   "cell_type": "code",
   "execution_count": 25,
   "metadata": {
    "collapsed": true
   },
   "outputs": [],
   "source": [
    "#Create dictionary to map all categories to 10 main \n",
    "categories_dic = {}\n",
    "for row in map_categories_table:\n",
    "    categories_dic[row[0]] = row[1]"
   ]
  },
  {
   "cell_type": "markdown",
   "metadata": {},
   "source": [
    "### Transform"
   ]
  },
  {
   "cell_type": "code",
   "execution_count": 26,
   "metadata": {
    "collapsed": true
   },
   "outputs": [],
   "source": [
    "#Choose only businesses from Pittsburgh\n",
    "#t2 = etl.select(t1, \"{city} =='Pittsburgh'\")\n",
    "t2 = t1"
   ]
  },
  {
   "cell_type": "code",
   "execution_count": 27,
   "metadata": {
    "collapsed": false
   },
   "outputs": [],
   "source": [
    "#Order the fields (and display)\n",
    "t3 = t2.cut(['business_id','name','is_open','neighborhood','latitude','longitude','stars','review_count','categories'])\n",
    "#t3.display(1)"
   ]
  },
  {
   "cell_type": "markdown",
   "metadata": {},
   "source": [
    "#### order and split the categories"
   ]
  },
  {
   "cell_type": "code",
   "execution_count": 28,
   "metadata": {
    "collapsed": false
   },
   "outputs": [
    {
     "name": "stdout",
     "output_type": "stream",
     "text": [
      "{u'8': 1, u'3': 1, None: 1, u'4': 1}\n",
      "<type 'dict'>\n"
     ]
    }
   ],
   "source": [
    "#Create the function for the convertion that reduces the categories.\n",
    "def reduce_categories(text):\n",
    "    if text[0]=='[' and text[-1]==']':\n",
    "        items =  text[1:-1].split(', ') # turn values to list\n",
    "    else:\n",
    "        return None\n",
    "    output = {}\n",
    "    for i in items:\n",
    "        key = categories_dic.get(i[2:-1])\n",
    "        value = 1\n",
    "        output[key]=int(value)\n",
    "    return output\n",
    "\n",
    "#Test\n",
    "sample = t3[1][8]\n",
    "print reduce_categories(sample)\n",
    "print type(reduce_categories(sample))"
   ]
  },
  {
   "cell_type": "code",
   "execution_count": 29,
   "metadata": {
    "collapsed": false
   },
   "outputs": [],
   "source": [
    "# Convert the data to reduce the categories\n",
    "t4 = t3.convert('categories',reduce_categories)\n",
    "t4.typecounter('categories')\n",
    "#unpack the dictionary in category column to 12 seperate columns\n",
    "t5 = t4.unpackdict('categories')\n",
    "#t5.display(1)"
   ]
  },
  {
   "cell_type": "code",
   "execution_count": 30,
   "metadata": {
    "collapsed": false
   },
   "outputs": [],
   "source": [
    "# Order fileds and change category fields name from number to the real name\n",
    "t6 = etl.rename(t5, {'1': 'food','2': 'art & enteraitment','3': 'stores','4': 'beauty & spa','5': 'health','6': 'finance','7': 'turists','8': 'cars & transportation', '9': 'bars & alcohol','10': 'other','11': 'fashion','12': 'real estate'})\n",
    "t7 = t6.cut(['business_id','name','is_open','neighborhood','latitude','longitude','stars','review_count', 'food', 'art & enteraitment', 'stores', 'beauty & spa', 'health', 'finance', 'turists', 'cars & transportation', 'bars & alcohol', 'other', 'fashion', 'real estate'])\n",
    "#t7.display(10)"
   ]
  },
  {
   "cell_type": "code",
   "execution_count": 31,
   "metadata": {
    "collapsed": false
   },
   "outputs": [],
   "source": [
    "# change None to 0 in the categories fields\n",
    "def None_to_0(text):\n",
    "    if text == None:\n",
    "        return 0\n",
    "    else:\n",
    "        return text\n",
    "t8 = etl.convert(t7, ('food', 'art & enteraitment', 'stores', 'beauty & spa', 'health', 'finance', 'turists', 'cars & transportation', 'bars & alcohol', 'other', 'fashion', 'real estate'), None_to_0)\n",
    "#t8.display(10)"
   ]
  },
  {
   "cell_type": "code",
   "execution_count": 32,
   "metadata": {
    "collapsed": false
   },
   "outputs": [
    {
     "data": {
      "text/html": [
       "<table class='petl'>\n",
       "<thead>\n",
       "<tr>\n",
       "<th>business_id</th>\n",
       "<th>yelp_business_id</th>\n",
       "<th>business_name</th>\n",
       "<th>is_open</th>\n",
       "<th>neighborhood</th>\n",
       "<th>latitude</th>\n",
       "<th>longitude</th>\n",
       "<th>stars</th>\n",
       "<th>review_count</th>\n",
       "<th>food</th>\n",
       "<th>art & enteraitment</th>\n",
       "<th>stores</th>\n",
       "<th>beauty & spa</th>\n",
       "<th>health</th>\n",
       "<th>finance</th>\n",
       "<th>turists</th>\n",
       "<th>cars & transportation</th>\n",
       "<th>bars & alcohol</th>\n",
       "<th>other</th>\n",
       "<th>fashion</th>\n",
       "<th>real estate</th>\n",
       "</tr>\n",
       "</thead>\n",
       "<tbody>\n",
       "<tr>\n",
       "<td style='text-align: right'>1</td>\n",
       "<td>cnGIivYRLxpF7tBVR_JwWA</td>\n",
       "<td>Plush Salon and Spa</td>\n",
       "<td style='text-align: right'>1</td>\n",
       "<td>None</td>\n",
       "<td style='text-align: right'>40.4445439533</td>\n",
       "<td style='text-align: right'>-80.1745398943</td>\n",
       "<td style='text-align: right'>4.0</td>\n",
       "<td style='text-align: right'>4</td>\n",
       "<td style='text-align: right'>0</td>\n",
       "<td style='text-align: right'>0</td>\n",
       "<td style='text-align: right'>1</td>\n",
       "<td style='text-align: right'>1</td>\n",
       "<td style='text-align: right'>0</td>\n",
       "<td style='text-align: right'>0</td>\n",
       "<td style='text-align: right'>0</td>\n",
       "<td style='text-align: right'>1</td>\n",
       "<td style='text-align: right'>0</td>\n",
       "<td style='text-align: right'>0</td>\n",
       "<td style='text-align: right'>0</td>\n",
       "<td style='text-align: right'>0</td>\n",
       "</tr>\n",
       "<tr>\n",
       "<td style='text-align: right'>2</td>\n",
       "<td>P3LisOj7DktgGa7C5FYpnA</td>\n",
       "<td>Benjamin Franklin Plumbing</td>\n",
       "<td style='text-align: right'>1</td>\n",
       "<td>West View</td>\n",
       "<td style='text-align: right'>40.5341627</td>\n",
       "<td style='text-align: right'>-80.0498873</td>\n",
       "<td style='text-align: right'>4.0</td>\n",
       "<td style='text-align: right'>8</td>\n",
       "<td style='text-align: right'>0</td>\n",
       "<td style='text-align: right'>0</td>\n",
       "<td style='text-align: right'>0</td>\n",
       "<td style='text-align: right'>0</td>\n",
       "<td style='text-align: right'>0</td>\n",
       "<td style='text-align: right'>0</td>\n",
       "<td style='text-align: right'>0</td>\n",
       "<td style='text-align: right'>0</td>\n",
       "<td style='text-align: right'>0</td>\n",
       "<td style='text-align: right'>1</td>\n",
       "<td style='text-align: right'>0</td>\n",
       "<td style='text-align: right'>0</td>\n",
       "</tr>\n",
       "<tr>\n",
       "<td style='text-align: right'>3</td>\n",
       "<td>93otbGHE0s0m-lU1osvg9w</td>\n",
       "<td>Rivertowne</td>\n",
       "<td style='text-align: right'>1</td>\n",
       "<td>North Side</td>\n",
       "<td style='text-align: right'>40.4459861</td>\n",
       "<td style='text-align: right'>-80.0108802</td>\n",
       "<td style='text-align: right'>3.0</td>\n",
       "<td style='text-align: right'>102</td>\n",
       "<td style='text-align: right'>1</td>\n",
       "<td style='text-align: right'>1</td>\n",
       "<td style='text-align: right'>0</td>\n",
       "<td style='text-align: right'>0</td>\n",
       "<td style='text-align: right'>0</td>\n",
       "<td style='text-align: right'>0</td>\n",
       "<td style='text-align: right'>0</td>\n",
       "<td style='text-align: right'>0</td>\n",
       "<td style='text-align: right'>1</td>\n",
       "<td style='text-align: right'>0</td>\n",
       "<td style='text-align: right'>0</td>\n",
       "<td style='text-align: right'>0</td>\n",
       "</tr>\n",
       "<tr>\n",
       "<td style='text-align: right'>4</td>\n",
       "<td>csdZolWIWvkIHIqsCmV6sg</td>\n",
       "<td>City Vista</td>\n",
       "<td style='text-align: right'>1</td>\n",
       "<td>Greentree</td>\n",
       "<td style='text-align: right'>40.4263863165</td>\n",
       "<td style='text-align: right'>-80.037872133</td>\n",
       "<td style='text-align: right'>2.0</td>\n",
       "<td style='text-align: right'>5</td>\n",
       "<td style='text-align: right'>0</td>\n",
       "<td style='text-align: right'>1</td>\n",
       "<td style='text-align: right'>0</td>\n",
       "<td style='text-align: right'>0</td>\n",
       "<td style='text-align: right'>0</td>\n",
       "<td style='text-align: right'>0</td>\n",
       "<td style='text-align: right'>1</td>\n",
       "<td style='text-align: right'>0</td>\n",
       "<td style='text-align: right'>0</td>\n",
       "<td style='text-align: right'>1</td>\n",
       "<td style='text-align: right'>0</td>\n",
       "<td style='text-align: right'>1</td>\n",
       "</tr>\n",
       "<tr>\n",
       "<td style='text-align: right'>5</td>\n",
       "<td>kdjrQ2tuY4eqo4JZWIx50Q</td>\n",
       "<td>The Scarehouse</td>\n",
       "<td style='text-align: right'>1</td>\n",
       "<td>Etna</td>\n",
       "<td style='text-align: right'>40.499285</td>\n",
       "<td style='text-align: right'>-79.944321</td>\n",
       "<td style='text-align: right'>3.5</td>\n",
       "<td style='text-align: right'>38</td>\n",
       "<td style='text-align: right'>0</td>\n",
       "<td style='text-align: right'>1</td>\n",
       "<td style='text-align: right'>0</td>\n",
       "<td style='text-align: right'>0</td>\n",
       "<td style='text-align: right'>0</td>\n",
       "<td style='text-align: right'>0</td>\n",
       "<td style='text-align: right'>0</td>\n",
       "<td style='text-align: right'>0</td>\n",
       "<td style='text-align: right'>0</td>\n",
       "<td style='text-align: right'>0</td>\n",
       "<td style='text-align: right'>0</td>\n",
       "<td style='text-align: right'>0</td>\n",
       "</tr>\n",
       "</tbody>\n",
       "</table>\n",
       "<p><strong>...</strong></p>"
      ]
     },
     "metadata": {},
     "output_type": "display_data"
    }
   ],
   "source": [
    "# add ID\n",
    "t9 = t8.addrownumbers()\n",
    "t_business = t9.rename({'row':'business_id', 'business_id':'yelp_business_id', 'name':'business_name'})\n",
    "t_business.display()"
   ]
  },
  {
   "cell_type": "markdown",
   "metadata": {},
   "source": [
    "### Load"
   ]
  },
  {
   "cell_type": "code",
   "execution_count": 33,
   "metadata": {
    "collapsed": false
   },
   "outputs": [
    {
     "name": "stdout",
     "output_type": "stream",
     "text": [
      "business_id \tCounter({'int': 8091})\n",
      "yelp_business_id \tCounter({'unicode': 8091})\n",
      "business_name \tCounter({'unicode': 8091})\n",
      "is_open \tCounter({'int': 8091})\n",
      "neighborhood \tCounter({'NoneType': 4086, 'unicode': 4005})\n",
      "latitude \tCounter({'float': 8091})\n",
      "longitude \tCounter({'float': 8091})\n",
      "stars \tCounter({'float': 8091})\n",
      "review_count \tCounter({'int': 8091})\n",
      "food \tCounter({'int': 8091})\n",
      "art & enteraitment \tCounter({'int': 8091})\n",
      "stores \tCounter({'int': 8091})\n",
      "beauty & spa \tCounter({'int': 8091})\n",
      "health \tCounter({'int': 8091})\n",
      "finance \tCounter({'int': 8091})\n",
      "turists \tCounter({'int': 8091})\n",
      "cars & transportation \tCounter({'int': 8091})\n",
      "bars & alcohol \tCounter({'int': 8091})\n",
      "other \tCounter({'int': 8091})\n",
      "fashion \tCounter({'int': 8091})\n",
      "real estate \tCounter({'int': 8091})\n"
     ]
    }
   ],
   "source": [
    "fields = t_business.fieldnames()\n",
    "for f in fields:\n",
    "    print f,'\\t', t_business.typecounter(f)"
   ]
  },
  {
   "cell_type": "code",
   "execution_count": 34,
   "metadata": {
    "collapsed": true
   },
   "outputs": [],
   "source": [
    "# setting a new cursor\n",
    "cur = con.cursor()"
   ]
  },
  {
   "cell_type": "code",
   "execution_count": 35,
   "metadata": {
    "collapsed": false
   },
   "outputs": [
    {
     "name": "stderr",
     "output_type": "stream",
     "text": [
      "C:\\Program Files\\Anaconda2\\lib\\site-packages\\MySQLdb\\cursors.py:206: Warning: Data truncated for column 'Yelp_business_id' at row 1\n",
      "  r = r + self.execute(query, a)\n",
      "C:\\Program Files\\Anaconda2\\lib\\site-packages\\MySQLdb\\cursors.py:206: Warning: Data truncated for column 'business_name' at row 1\n",
      "  r = r + self.execute(query, a)\n"
     ]
    }
   ],
   "source": [
    "cur.execute('USE yelp_Pittsburgh')\n",
    "cur.execute('SET SQL_MODE=ANSI_QUOTES')\n",
    "# append the data to existing tables\n",
    "t_business.appenddb(cur,'dim_business',schema='yelp_pittsburgh', commit=True)"
   ]
  },
  {
   "cell_type": "code",
   "execution_count": 36,
   "metadata": {
    "collapsed": true
   },
   "outputs": [],
   "source": [
    "#Closing the Cursor - Do we need to close and open it every time?\n",
    "cur.close()"
   ]
  },
  {
   "cell_type": "markdown",
   "metadata": {},
   "source": [
    "## Date"
   ]
  },
  {
   "cell_type": "code",
   "execution_count": 37,
   "metadata": {
    "collapsed": true
   },
   "outputs": [],
   "source": [
    "# setting a cursor\n",
    "cur = con.cursor()     # get the cursor"
   ]
  },
  {
   "cell_type": "markdown",
   "metadata": {},
   "source": [
    "#### append data to existing tables"
   ]
  },
  {
   "cell_type": "code",
   "execution_count": 38,
   "metadata": {
    "collapsed": false
   },
   "outputs": [
    {
     "name": "stderr",
     "output_type": "stream",
     "text": [
      "C:\\Program Files\\Anaconda2\\lib\\site-packages\\ipykernel\\__main__.py:3: Warning: PROCEDURE yelp_pittsburgh.BuildDate does not exist\n",
      "  app.launch_new_instance()\n"
     ]
    }
   ],
   "source": [
    "cur.execute(\"SET @currdate := '2005-01-01';\")\n",
    "cur.execute(\"SET @enddate := '2018-01-01';\")\n",
    "cur.execute(\"DROP PROCEDURE IF EXISTS BuildDate\")\n",
    " \n",
    "cur.execute(\"\"\" CREATE PROCEDURE BuildDate()\n",
    "         BEGIN\n",
    "        WHILE @currdate < @enddate DO\n",
    "            INSERT INTO dim_dates  (date, day, month, year, day_name)\n",
    "            VALUES (  @currdate,  DAY(@currdate),  MONTH(@currdate), \n",
    "              YEAR(@currdate), DAYNAME(@currdate));\n",
    "            SET @currdate := DATE_ADD(@currdate, INTERVAL 1 DAY);\n",
    "END WHILE;\n",
    "    END  \"\"\")\n",
    " \n",
    "cur.execute('CALL BuildDate();')\n",
    "con.commit()\n"
   ]
  },
  {
   "cell_type": "markdown",
   "metadata": {
    "collapsed": true
   },
   "source": [
    "### Add Holidays"
   ]
  },
  {
   "cell_type": "code",
   "execution_count": 39,
   "metadata": {
    "collapsed": false
   },
   "outputs": [
    {
     "data": {
      "text/plain": [
       "16L"
      ]
     },
     "execution_count": 39,
     "metadata": {},
     "output_type": "execute_result"
    }
   ],
   "source": [
    "# New Year\n",
    "cur.execute(\"\"\"\n",
    "update dim_dates \n",
    "set holiday = 'New Year''s Day'\n",
    "where day = 01 and month = 01;\n",
    "\"\"\")\n",
    "\n",
    "# Halloween\n",
    "cur.execute(\"\"\"\n",
    "update dim_dates \n",
    "set holiday = 'Halloween'\n",
    "where day = 31 and month = 10;\n",
    "\"\"\")\n",
    "\n",
    "# Independence Day\n",
    "cur.execute(\"\"\"\n",
    "update dim_dates \n",
    "set holiday = 'Independence Day, U.S'\n",
    "where day = 04 and month = 07;\n",
    "\"\"\")\n",
    "\n",
    "# Memorial Day\n",
    "cur.execute(\"\"\"\n",
    "update dim_dates \n",
    "set holiday = 'Memorial Day'\n",
    "where date = '2005-05-30' or date = '2006-05-29' or date = '2007-05-28' or date = '2008-05-26' or date = '2009-05-25'\n",
    "or date = '2010-05-31' or date = '2011-05-30' or date = '2012-05-28' or date = '2013-05-27' or date = '2014-05-26'\n",
    "or date = '2015-05-25' or date = '2016-05-30' or date = '2017-05-29';\n",
    "\"\"\")\n",
    "\n",
    "# Thanksgiving\n",
    "cur.execute(\"\"\"\n",
    "update dim_dates \n",
    "set holiday = 'Thanksgiving Day'\n",
    "where date = '2005-11-23' or date = '2006-11-22' or date = '2007-11-28' or date = '2008-11-27' or date = '2009-11-25'\n",
    "or date = '2010-11-24' or date = '2011-11-23' or date = '2012-11-22' or date = '2013-11-27' or date = '2014-11-26'\n",
    "or date = '2015-11-25' or date = '2016-11-24' or date = '2017-11-23';\n",
    "\"\"\")\n",
    "\n",
    "# Christmas Day\n",
    "cur.execute(\"\"\"\n",
    "update dim_dates \n",
    "set holiday = 'Christmas Day'\n",
    "where day = 25 and month = 12;\n",
    "\"\"\")\n",
    "\n",
    "# Christmas Eve\n",
    "cur.execute(\"\"\"\n",
    "update dim_dates \n",
    "set holiday = 'Christmas Eve'\n",
    "where day = 24 and month = 12;\n",
    "\"\"\")\n",
    "\n",
    "# Black Friday\n",
    "cur.execute(\"\"\"\n",
    "update dim_dates \n",
    "set holiday = 'Black Friday'\n",
    "where day_name = 'Friday' and month = 11 and day between 21 and 29;\n",
    "\"\"\")\n"
   ]
  },
  {
   "cell_type": "code",
   "execution_count": 40,
   "metadata": {
    "collapsed": true
   },
   "outputs": [],
   "source": [
    "con.commit()\n",
    "cur.close()"
   ]
  },
  {
   "cell_type": "markdown",
   "metadata": {},
   "source": [
    "## Reviews"
   ]
  },
  {
   "cell_type": "markdown",
   "metadata": {
    "collapsed": true
   },
   "source": [
    "### Extract"
   ]
  },
  {
   "cell_type": "code",
   "execution_count": 41,
   "metadata": {
    "collapsed": true
   },
   "outputs": [],
   "source": [
    "filename= 'yelp_academic_dataset_review_drop_PA.json'"
   ]
  },
  {
   "cell_type": "code",
   "execution_count": 42,
   "metadata": {
    "collapsed": false
   },
   "outputs": [
    {
     "name": "stdout",
     "output_type": "stream",
     "text": [
      "funny \tCounter({'int': 179774})\n",
      "user_id \tCounter({'unicode': 179774})\n",
      "review_id \tCounter({'unicode': 179774})\n",
      "business_id \tCounter({'unicode': 179774})\n",
      "stars \tCounter({'int': 179774})\n",
      "date \tCounter({'unicode': 179774})\n",
      "useful \tCounter({'int': 179774})\n",
      "type \tCounter({'unicode': 179774})\n",
      "cool \tCounter({'int': 179774})\n"
     ]
    }
   ],
   "source": [
    "t1 = etl.fromjson(filename)\n",
    "\n",
    "fields = t1.fieldnames()\n",
    "\n",
    "for f in fields:\n",
    "    print f,'\\t', t1.typecounter(f)"
   ]
  },
  {
   "cell_type": "markdown",
   "metadata": {},
   "source": [
    "Due to the current types of data, we need to do the following:\n",
    " 1. Add ascending numbers to the rows and call it \"review_id\" (this will be used for the auto-increamented review_ID field).\n",
    " 2. Aggragate the columns `funny`, `cool` and `useful` to the \"votes_aggregate\" column.\n",
    " 3. Change the user_id, business_id, date_id to their Foreign keys (in the DB). This will be done during the Load.\n"
   ]
  },
  {
   "cell_type": "code",
   "execution_count": 43,
   "metadata": {
    "collapsed": false
   },
   "outputs": [],
   "source": [
    "t2 = t1.addrownumbers()\n",
    "#t2.display(10)"
   ]
  },
  {
   "cell_type": "code",
   "execution_count": 44,
   "metadata": {
    "collapsed": false
   },
   "outputs": [],
   "source": [
    "t5 = t2.rename({'row':'review_id','review_id':'yelp_review_id',  'user_id':'yelp_user_id', 'business_id':'yelp_business_id'})\n",
    "#t5.display(10)"
   ]
  },
  {
   "cell_type": "code",
   "execution_count": 45,
   "metadata": {
    "collapsed": false
   },
   "outputs": [],
   "source": [
    "def votes_aggregate(row):\n",
    "    return row['funny']+row['cool']+row['useful']\n",
    "\n",
    "t6=t5.addfield('votes_aggregate', votes_aggregate)\n",
    "#t6.display(10)"
   ]
  },
  {
   "cell_type": "code",
   "execution_count": 46,
   "metadata": {
    "collapsed": false
   },
   "outputs": [],
   "source": [
    "t7 = t6.cut(['review_id','yelp_review_id', 'yelp_user_id', 'yelp_business_id', 'date', 'stars', 'votes_aggregate' ])\n",
    "#t7.display(10)"
   ]
  },
  {
   "cell_type": "markdown",
   "metadata": {},
   "source": [
    "#### add the Foreign Keys from the different dimentions table\n",
    "Note: We are doing this with PETL, because most computers are not strong enough for doing in in as a MySQL execution."
   ]
  },
  {
   "cell_type": "code",
   "execution_count": 47,
   "metadata": {
    "collapsed": false
   },
   "outputs": [
    {
     "data": {
      "text/html": [
       "<table class='petl'>\n",
       "<thead>\n",
       "<tr>\n",
       "<th>review_id</th>\n",
       "<th>yelp_review_id</th>\n",
       "<th>yelp_business_id</th>\n",
       "<th>date</th>\n",
       "<th>stars</th>\n",
       "<th>votes_aggregate</th>\n",
       "<th>user_id</th>\n",
       "</tr>\n",
       "</thead>\n",
       "<tbody>\n",
       "<tr>\n",
       "<td style='text-align: right'>65833</td>\n",
       "<td>9eo2MpfI-JjVP-98DB5PCQ</td>\n",
       "<td>iRhB506lbc0kU5289zyHzg</td>\n",
       "<td>2014-12-15</td>\n",
       "<td style='text-align: right'>5</td>\n",
       "<td style='text-align: right'>3</td>\n",
       "<td style='text-align: right'>1</td>\n",
       "</tr>\n",
       "<tr>\n",
       "<td style='text-align: right'>132346</td>\n",
       "<td>WpUMBp7hamQ88N-uibAfkw</td>\n",
       "<td>X-b4-QvZLENnf3yFwhpSXQ</td>\n",
       "<td>2011-09-27</td>\n",
       "<td style='text-align: right'>5</td>\n",
       "<td style='text-align: right'>1</td>\n",
       "<td style='text-align: right'>2</td>\n",
       "</tr>\n",
       "<tr>\n",
       "<td style='text-align: right'>101603</td>\n",
       "<td>Y0fLM9tWvU3NcfJkYlYSuw</td>\n",
       "<td>Rzw3_l2uDv-OSaHdPCJgjQ</td>\n",
       "<td>2015-05-17</td>\n",
       "<td style='text-align: right'>4</td>\n",
       "<td style='text-align: right'>0</td>\n",
       "<td style='text-align: right'>3</td>\n",
       "</tr>\n",
       "<tr>\n",
       "<td style='text-align: right'>58635</td>\n",
       "<td>uaD2CBVogeVjYC_5CcQ8aQ</td>\n",
       "<td>o5w4WlufJ3KryVMGRgu_FA</td>\n",
       "<td>2015-12-11</td>\n",
       "<td style='text-align: right'>4</td>\n",
       "<td style='text-align: right'>0</td>\n",
       "<td style='text-align: right'>4</td>\n",
       "</tr>\n",
       "<tr>\n",
       "<td style='text-align: right'>67816</td>\n",
       "<td>O5FzP4FIyntoxaDLOtwgUw</td>\n",
       "<td>TZpTyyGvQkKPnt59PVUGhg</td>\n",
       "<td>2015-12-11</td>\n",
       "<td style='text-align: right'>5</td>\n",
       "<td style='text-align: right'>0</td>\n",
       "<td style='text-align: right'>4</td>\n",
       "</tr>\n",
       "<tr>\n",
       "<td style='text-align: right'>96090</td>\n",
       "<td>h4QeZRppF3DDXQ5ECJaNIw</td>\n",
       "<td>mnI_n7A8sxgOSmtgI3wzQQ</td>\n",
       "<td>2015-12-11</td>\n",
       "<td style='text-align: right'>5</td>\n",
       "<td style='text-align: right'>0</td>\n",
       "<td style='text-align: right'>4</td>\n",
       "</tr>\n",
       "<tr>\n",
       "<td style='text-align: right'>164168</td>\n",
       "<td>RWBLnBQ6mS20gHfrVfQARQ</td>\n",
       "<td>_f_8h3qwMqZkGtK1qVgN1g</td>\n",
       "<td>2015-12-11</td>\n",
       "<td style='text-align: right'>1</td>\n",
       "<td style='text-align: right'>0</td>\n",
       "<td style='text-align: right'>4</td>\n",
       "</tr>\n",
       "<tr>\n",
       "<td style='text-align: right'>175700</td>\n",
       "<td>HicFVXD2ihgpnWm8hZmJxA</td>\n",
       "<td>fquYX17KU0N1Urk1iB2P5g</td>\n",
       "<td>2015-02-13</td>\n",
       "<td style='text-align: right'>5</td>\n",
       "<td style='text-align: right'>1</td>\n",
       "<td style='text-align: right'>4</td>\n",
       "</tr>\n",
       "<tr>\n",
       "<td style='text-align: right'>30941</td>\n",
       "<td>Zn3lodQY9O24JUr3IqXW5Q</td>\n",
       "<td>b_XIKJ2nNzksuWhfMTEehQ</td>\n",
       "<td>2008-10-14</td>\n",
       "<td style='text-align: right'>5</td>\n",
       "<td style='text-align: right'>1</td>\n",
       "<td style='text-align: right'>5</td>\n",
       "</tr>\n",
       "<tr>\n",
       "<td style='text-align: right'>31436</td>\n",
       "<td>u9Gf29hgLuv9ZA6nEpbPOg</td>\n",
       "<td>6b5RLz7szHcSTGKjvKWR_w</td>\n",
       "<td>2008-09-04</td>\n",
       "<td style='text-align: right'>5</td>\n",
       "<td style='text-align: right'>4</td>\n",
       "<td style='text-align: right'>5</td>\n",
       "</tr>\n",
       "</tbody>\n",
       "</table>\n",
       "<p><strong>...</strong></p>"
      ]
     },
     "metadata": {},
     "output_type": "display_data"
    }
   ],
   "source": [
    "#TEST\n",
    "#t7 = etl.head(t7, 10) #THIS IS THE TEST - SHOULD BE DELETED\n",
    "\n",
    "# Add the foriegn key - User ID \n",
    "t8 = t7.leftjoin(t_users.cut('user_id','yelp_user_id'),\n",
    "                 lkey='yelp_user_id',rkey='yelp_user_id').cutout('yelp_user_id')\n",
    "\n",
    "t8.display(10)"
   ]
  },
  {
   "cell_type": "code",
   "execution_count": 48,
   "metadata": {
    "collapsed": false
   },
   "outputs": [
    {
     "data": {
      "text/html": [
       "<table class='petl'>\n",
       "<thead>\n",
       "<tr>\n",
       "<th>review_id</th>\n",
       "<th>yelp_review_id</th>\n",
       "<th>date</th>\n",
       "<th>stars</th>\n",
       "<th>votes_aggregate</th>\n",
       "<th>user_id</th>\n",
       "<th>business_id</th>\n",
       "</tr>\n",
       "</thead>\n",
       "<tbody>\n",
       "<tr>\n",
       "<td style='text-align: right'>161316</td>\n",
       "<td>q6zDnAyfyzEhpFZYU8huPA</td>\n",
       "<td>2016-01-16</td>\n",
       "<td style='text-align: right'>4</td>\n",
       "<td style='text-align: right'>0</td>\n",
       "<td style='text-align: right'>2863</td>\n",
       "<td style='text-align: right'>5716</td>\n",
       "</tr>\n",
       "<tr>\n",
       "<td style='text-align: right'>161317</td>\n",
       "<td>grm_MOzOKIw-icfJXv0-KQ</td>\n",
       "<td>2017-01-16</td>\n",
       "<td style='text-align: right'>4</td>\n",
       "<td style='text-align: right'>1</td>\n",
       "<td style='text-align: right'>29804</td>\n",
       "<td style='text-align: right'>5716</td>\n",
       "</tr>\n",
       "<tr>\n",
       "<td style='text-align: right'>161315</td>\n",
       "<td>OSKmqFqyoMG7JzHZrQBlIQ</td>\n",
       "<td>2016-01-02</td>\n",
       "<td style='text-align: right'>5</td>\n",
       "<td style='text-align: right'>0</td>\n",
       "<td style='text-align: right'>37017</td>\n",
       "<td style='text-align: right'>5716</td>\n",
       "</tr>\n",
       "<tr>\n",
       "<td style='text-align: right'>161318</td>\n",
       "<td>jUJN-ye9-FXCvbOYHWQObw</td>\n",
       "<td>2016-09-09</td>\n",
       "<td style='text-align: right'>3</td>\n",
       "<td style='text-align: right'>0</td>\n",
       "<td style='text-align: right'>49454</td>\n",
       "<td style='text-align: right'>5716</td>\n",
       "</tr>\n",
       "<tr>\n",
       "<td style='text-align: right'>161319</td>\n",
       "<td>fHr9YK4-LDyD2kGduRjmrw</td>\n",
       "<td>2015-01-31</td>\n",
       "<td style='text-align: right'>1</td>\n",
       "<td style='text-align: right'>0</td>\n",
       "<td style='text-align: right'>17422</td>\n",
       "<td style='text-align: right'>5716</td>\n",
       "</tr>\n",
       "<tr>\n",
       "<td style='text-align: right'>161314</td>\n",
       "<td>YGEBymy_9OgZ7_a7Ee0NEA</td>\n",
       "<td>2013-04-13</td>\n",
       "<td style='text-align: right'>5</td>\n",
       "<td style='text-align: right'>0</td>\n",
       "<td style='text-align: right'>27167</td>\n",
       "<td style='text-align: right'>5716</td>\n",
       "</tr>\n",
       "<tr>\n",
       "<td style='text-align: right'>382</td>\n",
       "<td>fcRGUBJ3TXLaKeL_2kmvGA</td>\n",
       "<td>2016-01-29</td>\n",
       "<td style='text-align: right'>5</td>\n",
       "<td style='text-align: right'>0</td>\n",
       "<td style='text-align: right'>29130</td>\n",
       "<td style='text-align: right'>4620</td>\n",
       "</tr>\n",
       "<tr>\n",
       "<td style='text-align: right'>385</td>\n",
       "<td>ERw06vyyjlFsxTO72KQL8g</td>\n",
       "<td>2013-05-17</td>\n",
       "<td style='text-align: right'>5</td>\n",
       "<td style='text-align: right'>1</td>\n",
       "<td style='text-align: right'>40398</td>\n",
       "<td style='text-align: right'>4620</td>\n",
       "</tr>\n",
       "<tr>\n",
       "<td style='text-align: right'>386</td>\n",
       "<td>Mt6fkdPA3wkupkAqaG1_Cg</td>\n",
       "<td>2010-05-23</td>\n",
       "<td style='text-align: right'>5</td>\n",
       "<td style='text-align: right'>3</td>\n",
       "<td style='text-align: right'>10403</td>\n",
       "<td style='text-align: right'>4620</td>\n",
       "</tr>\n",
       "<tr>\n",
       "<td style='text-align: right'>383</td>\n",
       "<td>_Lyk4DMbW2AVm-BgvLgGkQ</td>\n",
       "<td>2012-09-29</td>\n",
       "<td style='text-align: right'>5</td>\n",
       "<td style='text-align: right'>1</td>\n",
       "<td style='text-align: right'>19491</td>\n",
       "<td style='text-align: right'>4620</td>\n",
       "</tr>\n",
       "</tbody>\n",
       "</table>\n",
       "<p><strong>...</strong></p>"
      ]
     },
     "metadata": {},
     "output_type": "display_data"
    }
   ],
   "source": [
    "# Add the foriegn key - Business ID\n",
    "t9 = t8.leftjoin(t_business.cut('business_id','yelp_business_id'),\n",
    "            lkey='yelp_business_id', rkey = 'yelp_business_id').cutout('yelp_business_id')\n",
    "\n",
    "t9.display(10)"
   ]
  },
  {
   "cell_type": "markdown",
   "metadata": {},
   "source": [
    "In order to get the date ID, we use the table that was loaded to the DB."
   ]
  },
  {
   "cell_type": "code",
   "execution_count": 56,
   "metadata": {
    "collapsed": false
   },
   "outputs": [
    {
     "data": {
      "text/html": [
       "<table class='petl'>\n",
       "<thead>\n",
       "<tr>\n",
       "<th>date_id</th>\n",
       "<th>date</th>\n",
       "</tr>\n",
       "</thead>\n",
       "<tbody>\n",
       "<tr>\n",
       "<td style='text-align: right'>1</td>\n",
       "<td>2005-01-01</td>\n",
       "</tr>\n",
       "<tr>\n",
       "<td style='text-align: right'>2</td>\n",
       "<td>2005-01-02</td>\n",
       "</tr>\n",
       "<tr>\n",
       "<td style='text-align: right'>3</td>\n",
       "<td>2005-01-03</td>\n",
       "</tr>\n",
       "<tr>\n",
       "<td style='text-align: right'>4</td>\n",
       "<td>2005-01-04</td>\n",
       "</tr>\n",
       "<tr>\n",
       "<td style='text-align: right'>5</td>\n",
       "<td>2005-01-05</td>\n",
       "</tr>\n",
       "<tr>\n",
       "<td style='text-align: right'>6</td>\n",
       "<td>2005-01-06</td>\n",
       "</tr>\n",
       "<tr>\n",
       "<td style='text-align: right'>7</td>\n",
       "<td>2005-01-07</td>\n",
       "</tr>\n",
       "<tr>\n",
       "<td style='text-align: right'>8</td>\n",
       "<td>2005-01-08</td>\n",
       "</tr>\n",
       "<tr>\n",
       "<td style='text-align: right'>9</td>\n",
       "<td>2005-01-09</td>\n",
       "</tr>\n",
       "<tr>\n",
       "<td style='text-align: right'>10</td>\n",
       "<td>2005-01-10</td>\n",
       "</tr>\n",
       "</tbody>\n",
       "</table>\n",
       "<p><strong>...</strong></p>"
      ]
     },
     "metadata": {},
     "output_type": "display_data"
    }
   ],
   "source": [
    "t_dates = etl.fromdb(con, '''SELECT date_id, DATE_FORMAT(dim_dates.date, '%Y-%m-%d') AS date FROM dim_dates;''')\n",
    "t_dates.display(10)"
   ]
  },
  {
   "cell_type": "code",
   "execution_count": 59,
   "metadata": {
    "collapsed": false
   },
   "outputs": [
    {
     "data": {
      "text/html": [
       "<table class='petl'>\n",
       "<thead>\n",
       "<tr>\n",
       "<th>review_id</th>\n",
       "<th>yelp_review_id</th>\n",
       "<th>stars</th>\n",
       "<th>votes_aggregate</th>\n",
       "<th>user_id</th>\n",
       "<th>business_id</th>\n",
       "<th>date_id</th>\n",
       "</tr>\n",
       "</thead>\n",
       "<tbody>\n",
       "<tr>\n",
       "<td style='text-align: right'>51362</td>\n",
       "<td>HoWAaMSmUJJ0o7VMGeu82Q</td>\n",
       "<td style='text-align: right'>5</td>\n",
       "<td style='text-align: right'>1</td>\n",
       "<td style='text-align: right'>10335</td>\n",
       "<td style='text-align: right'>256</td>\n",
       "<td style='text-align: right'>103</td>\n",
       "</tr>\n",
       "<tr>\n",
       "<td style='text-align: right'>9463</td>\n",
       "<td>LNe9pUoCJcVWq2KqCfqqJg</td>\n",
       "<td style='text-align: right'>5</td>\n",
       "<td style='text-align: right'>0</td>\n",
       "<td style='text-align: right'>17179</td>\n",
       "<td style='text-align: right'>2229</td>\n",
       "<td style='text-align: right'>124</td>\n",
       "</tr>\n",
       "<tr>\n",
       "<td style='text-align: right'>121981</td>\n",
       "<td>D4FC0t2LyyDfqaECrztOvg</td>\n",
       "<td style='text-align: right'>4</td>\n",
       "<td style='text-align: right'>1</td>\n",
       "<td style='text-align: right'>32607</td>\n",
       "<td style='text-align: right'>1618</td>\n",
       "<td style='text-align: right'>135</td>\n",
       "</tr>\n",
       "<tr>\n",
       "<td style='text-align: right'>144796</td>\n",
       "<td>aK0D6xt5pTmVVTIW-0O0sQ</td>\n",
       "<td style='text-align: right'>4</td>\n",
       "<td style='text-align: right'>0</td>\n",
       "<td style='text-align: right'>32607</td>\n",
       "<td style='text-align: right'>6077</td>\n",
       "<td style='text-align: right'>135</td>\n",
       "</tr>\n",
       "<tr>\n",
       "<td style='text-align: right'>85320</td>\n",
       "<td>YQ9JNQMzvZn-IaY7j0z_Jg</td>\n",
       "<td style='text-align: right'>3</td>\n",
       "<td style='text-align: right'>0</td>\n",
       "<td style='text-align: right'>32607</td>\n",
       "<td style='text-align: right'>6389</td>\n",
       "<td style='text-align: right'>135</td>\n",
       "</tr>\n",
       "<tr>\n",
       "<td style='text-align: right'>163574</td>\n",
       "<td>JhHURTnnmYVQzx82vjgGjg</td>\n",
       "<td style='text-align: right'>5</td>\n",
       "<td style='text-align: right'>0</td>\n",
       "<td style='text-align: right'>32607</td>\n",
       "<td style='text-align: right'>3581</td>\n",
       "<td style='text-align: right'>135</td>\n",
       "</tr>\n",
       "<tr>\n",
       "<td style='text-align: right'>170840</td>\n",
       "<td>vM4cPcEAJ7H5yN56ukMIIw</td>\n",
       "<td style='text-align: right'>5</td>\n",
       "<td style='text-align: right'>2</td>\n",
       "<td style='text-align: right'>32607</td>\n",
       "<td style='text-align: right'>2495</td>\n",
       "<td style='text-align: right'>135</td>\n",
       "</tr>\n",
       "<tr>\n",
       "<td style='text-align: right'>175919</td>\n",
       "<td>k9Eyxp8enSJU2l39bW9sjQ</td>\n",
       "<td style='text-align: right'>5</td>\n",
       "<td style='text-align: right'>1</td>\n",
       "<td style='text-align: right'>32607</td>\n",
       "<td style='text-align: right'>509</td>\n",
       "<td style='text-align: right'>135</td>\n",
       "</tr>\n",
       "<tr>\n",
       "<td style='text-align: right'>128756</td>\n",
       "<td>mCfN7MIbg9FONW8S2xZKzw</td>\n",
       "<td style='text-align: right'>3</td>\n",
       "<td style='text-align: right'>1</td>\n",
       "<td style='text-align: right'>32607</td>\n",
       "<td style='text-align: right'>5656</td>\n",
       "<td style='text-align: right'>146</td>\n",
       "</tr>\n",
       "<tr>\n",
       "<td style='text-align: right'>70170</td>\n",
       "<td>euU8avFp6j1noN70fulylQ</td>\n",
       "<td style='text-align: right'>3</td>\n",
       "<td style='text-align: right'>0</td>\n",
       "<td style='text-align: right'>32607</td>\n",
       "<td style='text-align: right'>5569</td>\n",
       "<td style='text-align: right'>146</td>\n",
       "</tr>\n",
       "</tbody>\n",
       "</table>\n",
       "<p><strong>...</strong></p>"
      ]
     },
     "metadata": {},
     "output_type": "display_data"
    }
   ],
   "source": [
    "# Add the foriegn key - Date ID\n",
    "t10 = t9.leftjoin(t_dates,\n",
    "            lkey='date', rkey = 'date').cutout('date')\n",
    "\n",
    "t10.display(10)"
   ]
  },
  {
   "cell_type": "code",
   "execution_count": null,
   "metadata": {
    "collapsed": true
   },
   "outputs": [],
   "source": []
  },
  {
   "cell_type": "code",
   "execution_count": null,
   "metadata": {
    "collapsed": false
   },
   "outputs": [
    {
     "name": "stderr",
     "output_type": "stream",
     "text": [
      "C:\\Program Files\\Anaconda2\\lib\\site-packages\\MySQLdb\\cursors.py:206: Warning: Data truncated for column 'yelp_review_id' at row 1\n",
      "  r = r + self.execute(query, a)\n"
     ]
    }
   ],
   "source": [
    "# setting a cursor\n",
    "cur = con.cursor()\n",
    "\n",
    "cur.execute('USE yelp_Pittsburgh')\n",
    "cur.execute('SET SQL_MODE=ANSI_QUOTES')\n",
    "\n",
    "# append the data to existing tables - loading by \"chunks\"\n",
    "start = 0\n",
    "end = 20000\n",
    "row_num = etl.nrows(t10)\n",
    "while end < row_num:\n",
    "    t10.rowslice(start, end).appenddb(cur,'fact_reviews',schema='yelp_pittsburgh', commit=True)\n",
    "    start = end\n",
    "    end += 20000\n",
    "\n",
    "    #Add the last chunk of data\n",
    "t10.rowslice(start, row_num).appenddb(cur,'fact_reviews',schema='yelp_pittsburgh', commit=True)"
   ]
  },
  {
   "cell_type": "markdown",
   "metadata": {},
   "source": []
  },
  {
   "cell_type": "code",
   "execution_count": null,
   "metadata": {
    "collapsed": false
   },
   "outputs": [],
   "source": []
  },
  {
   "cell_type": "code",
   "execution_count": null,
   "metadata": {
    "collapsed": true
   },
   "outputs": [],
   "source": []
  },
  {
   "cell_type": "code",
   "execution_count": null,
   "metadata": {
    "collapsed": false
   },
   "outputs": [],
   "source": []
  },
  {
   "cell_type": "code",
   "execution_count": null,
   "metadata": {
    "collapsed": false
   },
   "outputs": [],
   "source": [
    "con.commit()\n",
    "cur.close()"
   ]
  }
 ],
 "metadata": {
  "anaconda-cloud": {},
  "kernelspec": {
   "display_name": "Python [default]",
   "language": "python",
   "name": "python2"
  },
  "language_info": {
   "codemirror_mode": {
    "name": "ipython",
    "version": 2
   },
   "file_extension": ".py",
   "mimetype": "text/x-python",
   "name": "python",
   "nbconvert_exporter": "python",
   "pygments_lexer": "ipython2",
   "version": "2.7.12"
  }
 },
 "nbformat": 4,
 "nbformat_minor": 0
}
