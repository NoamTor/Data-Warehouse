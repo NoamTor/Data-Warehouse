{
 "cells": [
  {
   "cell_type": "markdown",
   "metadata": {},
   "source": [
    "# ETL for Reviews"
   ]
  },
  {
   "cell_type": "code",
   "execution_count": 1,
   "metadata": {
    "collapsed": false
   },
   "outputs": [],
   "source": [
    "import petl as etl"
   ]
  },
  {
   "cell_type": "markdown",
   "metadata": {},
   "source": [
    "# Extract"
   ]
  },
  {
   "cell_type": "code",
   "execution_count": 2,
   "metadata": {
    "collapsed": true
   },
   "outputs": [],
   "source": [
    "filename= 'yelp_academic_dataset_review_drop_PA.json'"
   ]
  },
  {
   "cell_type": "code",
   "execution_count": 3,
   "metadata": {
    "collapsed": false,
    "scrolled": true
   },
   "outputs": [],
   "source": [
    "source = etl.sources.ZipSource('Pittsburgh_json.zip','yelp_academic_dataset_review_drop_PA.json') # where is the data\n",
    "t1 = etl.fromjson(source)"
   ]
  },
  {
   "cell_type": "code",
   "execution_count": 4,
   "metadata": {
    "collapsed": false
   },
   "outputs": [
    {
     "name": "stdout",
     "output_type": "stream",
     "text": [
      "funny \tCounter({'int': 179774})\n",
      "user_id \tCounter({'unicode': 179774})\n",
      "review_id \tCounter({'unicode': 179774})\n",
      "business_id \tCounter({'unicode': 179774})\n",
      "stars \tCounter({'int': 179774})\n",
      "date \tCounter({'unicode': 179774})\n",
      "useful \tCounter({'int': 179774})\n",
      "type \tCounter({'unicode': 179774})\n",
      "cool \tCounter({'int': 179774})\n"
     ]
    }
   ],
   "source": [
    "fields = t1.fieldnames()\n",
    "\n",
    "for f in fields:\n",
    "    print f,'\\t', t1.typecounter(f)"
   ]
  },
  {
   "cell_type": "markdown",
   "metadata": {},
   "source": [
    "Due to the current types of data, we need to do the following:\n",
    " 1. Add ascending numbers to the rows and call it \"review_id\" (this will be used for the auto-increamented review_ID field).\n",
    " 2. Aggragate the columns `funny`, `cool` and `useful` to the \"votes_aggregate\" column.\n",
    " 3. Change the user_id, business_id, date_id to their Foreign keys (in the DB). This will be done during the Load."
   ]
  },
  {
   "cell_type": "code",
   "execution_count": 5,
   "metadata": {
    "collapsed": false
   },
   "outputs": [
    {
     "data": {
      "text/html": [
       "<table class='petl'>\n",
       "<thead>\n",
       "<tr>\n",
       "<th>row</th>\n",
       "<th>funny</th>\n",
       "<th>user_id</th>\n",
       "<th>review_id</th>\n",
       "<th>business_id</th>\n",
       "<th>stars</th>\n",
       "<th>date</th>\n",
       "<th>useful</th>\n",
       "<th>type</th>\n",
       "<th>cool</th>\n",
       "</tr>\n",
       "</thead>\n",
       "<tbody>\n",
       "<tr>\n",
       "<td style='text-align: right'>1</td>\n",
       "<td style='text-align: right'>0</td>\n",
       "<td>hzw-qTUVpmLAKjdkoUNh8A</td>\n",
       "<td>Awq_6cyNjK1-qPZAwnXjjQ</td>\n",
       "<td>7p6tHUA1Pknh0DVWqz86lA</td>\n",
       "<td style='text-align: right'>1</td>\n",
       "<td>2016-08-27</td>\n",
       "<td style='text-align: right'>0</td>\n",
       "<td>review</td>\n",
       "<td style='text-align: right'>0</td>\n",
       "</tr>\n",
       "<tr>\n",
       "<td style='text-align: right'>2</td>\n",
       "<td style='text-align: right'>0</td>\n",
       "<td>mldKxVI59o3LhK3ITG6mnA</td>\n",
       "<td>96YkAuJzlT54qZZWNebFUg</td>\n",
       "<td>7p6tHUA1Pknh0DVWqz86lA</td>\n",
       "<td style='text-align: right'>5</td>\n",
       "<td>2015-06-15</td>\n",
       "<td style='text-align: right'>0</td>\n",
       "<td>review</td>\n",
       "<td style='text-align: right'>0</td>\n",
       "</tr>\n",
       "<tr>\n",
       "<td style='text-align: right'>3</td>\n",
       "<td style='text-align: right'>0</td>\n",
       "<td>SaedHW9i7k4lHR8tgwtMgQ</td>\n",
       "<td>OfZRG7RgKA118zDtj6yo-g</td>\n",
       "<td>7p6tHUA1Pknh0DVWqz86lA</td>\n",
       "<td style='text-align: right'>5</td>\n",
       "<td>2014-01-16</td>\n",
       "<td style='text-align: right'>0</td>\n",
       "<td>review</td>\n",
       "<td style='text-align: right'>0</td>\n",
       "</tr>\n",
       "<tr>\n",
       "<td style='text-align: right'>4</td>\n",
       "<td style='text-align: right'>0</td>\n",
       "<td>87CKG39VfXYRupM3VRfReg</td>\n",
       "<td>YEgNOZDCeLuQimfNVYC2AA</td>\n",
       "<td>7p6tHUA1Pknh0DVWqz86lA</td>\n",
       "<td style='text-align: right'>1</td>\n",
       "<td>2013-10-09</td>\n",
       "<td style='text-align: right'>2</td>\n",
       "<td>review</td>\n",
       "<td style='text-align: right'>0</td>\n",
       "</tr>\n",
       "<tr>\n",
       "<td style='text-align: right'>5</td>\n",
       "<td style='text-align: right'>0</td>\n",
       "<td>kESRYcaODjB6s9p1-alBTw</td>\n",
       "<td>tEBhqaLMYBvxhkdxr1Pr7g</td>\n",
       "<td>7p6tHUA1Pknh0DVWqz86lA</td>\n",
       "<td style='text-align: right'>5</td>\n",
       "<td>2015-02-25</td>\n",
       "<td style='text-align: right'>1</td>\n",
       "<td>review</td>\n",
       "<td style='text-align: right'>1</td>\n",
       "</tr>\n",
       "<tr>\n",
       "<td style='text-align: right'>6</td>\n",
       "<td style='text-align: right'>0</td>\n",
       "<td>07XUD-8jPwtpgMGYT_veJw</td>\n",
       "<td>HvlhVHFsjqr1SXiJLqPtNA</td>\n",
       "<td>7p6tHUA1Pknh0DVWqz86lA</td>\n",
       "<td style='text-align: right'>1</td>\n",
       "<td>2013-01-03</td>\n",
       "<td style='text-align: right'>9</td>\n",
       "<td>review</td>\n",
       "<td style='text-align: right'>0</td>\n",
       "</tr>\n",
       "<tr>\n",
       "<td style='text-align: right'>7</td>\n",
       "<td style='text-align: right'>0</td>\n",
       "<td>-9YbyjrujLmFVORF3PA0YQ</td>\n",
       "<td>S-JbWPzCCxgP288Ao-_qYQ</td>\n",
       "<td>95s7ZRceq-mYD-a7DZntnQ</td>\n",
       "<td style='text-align: right'>1</td>\n",
       "<td>2015-08-04</td>\n",
       "<td style='text-align: right'>0</td>\n",
       "<td>review</td>\n",
       "<td style='text-align: right'>0</td>\n",
       "</tr>\n",
       "<tr>\n",
       "<td style='text-align: right'>8</td>\n",
       "<td style='text-align: right'>0</td>\n",
       "<td>V6IBbUN_bBfzd5s8LlLTlw</td>\n",
       "<td>L2eNJp3tYOoM9Kr0ouDztg</td>\n",
       "<td>95s7ZRceq-mYD-a7DZntnQ</td>\n",
       "<td style='text-align: right'>1</td>\n",
       "<td>2014-12-08</td>\n",
       "<td style='text-align: right'>1</td>\n",
       "<td>review</td>\n",
       "<td style='text-align: right'>0</td>\n",
       "</tr>\n",
       "<tr>\n",
       "<td style='text-align: right'>9</td>\n",
       "<td style='text-align: right'>1</td>\n",
       "<td>-UPUYET3Pwm99zq-uHl7gg</td>\n",
       "<td>OPBHCs-lcEVWbEZY7rKNUg</td>\n",
       "<td>0Wy4gw8krao9nGq-sHWFSQ</td>\n",
       "<td style='text-align: right'>3</td>\n",
       "<td>2013-12-01</td>\n",
       "<td style='text-align: right'>1</td>\n",
       "<td>review</td>\n",
       "<td style='text-align: right'>1</td>\n",
       "</tr>\n",
       "<tr>\n",
       "<td style='text-align: right'>10</td>\n",
       "<td style='text-align: right'>0</td>\n",
       "<td>WLrFY6_Z32lb_ifcIvRvkw</td>\n",
       "<td>SjgayD75MU7yTWEs_cGbwg</td>\n",
       "<td>0Wy4gw8krao9nGq-sHWFSQ</td>\n",
       "<td style='text-align: right'>3</td>\n",
       "<td>2013-05-06</td>\n",
       "<td style='text-align: right'>0</td>\n",
       "<td>review</td>\n",
       "<td style='text-align: right'>0</td>\n",
       "</tr>\n",
       "</tbody>\n",
       "</table>\n",
       "<p><strong>...</strong></p>"
      ]
     },
     "metadata": {},
     "output_type": "display_data"
    }
   ],
   "source": [
    "t2 = t1.addrownumbers()\n",
    "t2.display(10)"
   ]
  },
  {
   "cell_type": "code",
   "execution_count": 8,
   "metadata": {
    "collapsed": true
   },
   "outputs": [],
   "source": [
    "t3 = etl.rename(t2, 'review_id', 'yelp_review_id')\n",
    "\n",
    "t4 = etl.rename(t3, 'row', 'review_id')"
   ]
  },
  {
   "cell_type": "code",
   "execution_count": 9,
   "metadata": {
    "collapsed": false
   },
   "outputs": [
    {
     "data": {
      "text/html": [
       "<table class='petl'>\n",
       "<thead>\n",
       "<tr>\n",
       "<th>review_id</th>\n",
       "<th>funny</th>\n",
       "<th>user_id</th>\n",
       "<th>yelp_review_id</th>\n",
       "<th>business_id</th>\n",
       "<th>stars</th>\n",
       "<th>date</th>\n",
       "<th>useful</th>\n",
       "<th>type</th>\n",
       "<th>cool</th>\n",
       "<th>votes_aggregate</th>\n",
       "</tr>\n",
       "</thead>\n",
       "<tbody>\n",
       "<tr>\n",
       "<td style='text-align: right'>1</td>\n",
       "<td style='text-align: right'>0</td>\n",
       "<td>hzw-qTUVpmLAKjdkoUNh8A</td>\n",
       "<td>Awq_6cyNjK1-qPZAwnXjjQ</td>\n",
       "<td>7p6tHUA1Pknh0DVWqz86lA</td>\n",
       "<td style='text-align: right'>1</td>\n",
       "<td>2016-08-27</td>\n",
       "<td style='text-align: right'>0</td>\n",
       "<td>review</td>\n",
       "<td style='text-align: right'>0</td>\n",
       "<td style='text-align: right'>0</td>\n",
       "</tr>\n",
       "<tr>\n",
       "<td style='text-align: right'>2</td>\n",
       "<td style='text-align: right'>0</td>\n",
       "<td>mldKxVI59o3LhK3ITG6mnA</td>\n",
       "<td>96YkAuJzlT54qZZWNebFUg</td>\n",
       "<td>7p6tHUA1Pknh0DVWqz86lA</td>\n",
       "<td style='text-align: right'>5</td>\n",
       "<td>2015-06-15</td>\n",
       "<td style='text-align: right'>0</td>\n",
       "<td>review</td>\n",
       "<td style='text-align: right'>0</td>\n",
       "<td style='text-align: right'>0</td>\n",
       "</tr>\n",
       "<tr>\n",
       "<td style='text-align: right'>3</td>\n",
       "<td style='text-align: right'>0</td>\n",
       "<td>SaedHW9i7k4lHR8tgwtMgQ</td>\n",
       "<td>OfZRG7RgKA118zDtj6yo-g</td>\n",
       "<td>7p6tHUA1Pknh0DVWqz86lA</td>\n",
       "<td style='text-align: right'>5</td>\n",
       "<td>2014-01-16</td>\n",
       "<td style='text-align: right'>0</td>\n",
       "<td>review</td>\n",
       "<td style='text-align: right'>0</td>\n",
       "<td style='text-align: right'>0</td>\n",
       "</tr>\n",
       "<tr>\n",
       "<td style='text-align: right'>4</td>\n",
       "<td style='text-align: right'>0</td>\n",
       "<td>87CKG39VfXYRupM3VRfReg</td>\n",
       "<td>YEgNOZDCeLuQimfNVYC2AA</td>\n",
       "<td>7p6tHUA1Pknh0DVWqz86lA</td>\n",
       "<td style='text-align: right'>1</td>\n",
       "<td>2013-10-09</td>\n",
       "<td style='text-align: right'>2</td>\n",
       "<td>review</td>\n",
       "<td style='text-align: right'>0</td>\n",
       "<td style='text-align: right'>2</td>\n",
       "</tr>\n",
       "<tr>\n",
       "<td style='text-align: right'>5</td>\n",
       "<td style='text-align: right'>0</td>\n",
       "<td>kESRYcaODjB6s9p1-alBTw</td>\n",
       "<td>tEBhqaLMYBvxhkdxr1Pr7g</td>\n",
       "<td>7p6tHUA1Pknh0DVWqz86lA</td>\n",
       "<td style='text-align: right'>5</td>\n",
       "<td>2015-02-25</td>\n",
       "<td style='text-align: right'>1</td>\n",
       "<td>review</td>\n",
       "<td style='text-align: right'>1</td>\n",
       "<td style='text-align: right'>2</td>\n",
       "</tr>\n",
       "<tr>\n",
       "<td style='text-align: right'>6</td>\n",
       "<td style='text-align: right'>0</td>\n",
       "<td>07XUD-8jPwtpgMGYT_veJw</td>\n",
       "<td>HvlhVHFsjqr1SXiJLqPtNA</td>\n",
       "<td>7p6tHUA1Pknh0DVWqz86lA</td>\n",
       "<td style='text-align: right'>1</td>\n",
       "<td>2013-01-03</td>\n",
       "<td style='text-align: right'>9</td>\n",
       "<td>review</td>\n",
       "<td style='text-align: right'>0</td>\n",
       "<td style='text-align: right'>9</td>\n",
       "</tr>\n",
       "<tr>\n",
       "<td style='text-align: right'>7</td>\n",
       "<td style='text-align: right'>0</td>\n",
       "<td>-9YbyjrujLmFVORF3PA0YQ</td>\n",
       "<td>S-JbWPzCCxgP288Ao-_qYQ</td>\n",
       "<td>95s7ZRceq-mYD-a7DZntnQ</td>\n",
       "<td style='text-align: right'>1</td>\n",
       "<td>2015-08-04</td>\n",
       "<td style='text-align: right'>0</td>\n",
       "<td>review</td>\n",
       "<td style='text-align: right'>0</td>\n",
       "<td style='text-align: right'>0</td>\n",
       "</tr>\n",
       "<tr>\n",
       "<td style='text-align: right'>8</td>\n",
       "<td style='text-align: right'>0</td>\n",
       "<td>V6IBbUN_bBfzd5s8LlLTlw</td>\n",
       "<td>L2eNJp3tYOoM9Kr0ouDztg</td>\n",
       "<td>95s7ZRceq-mYD-a7DZntnQ</td>\n",
       "<td style='text-align: right'>1</td>\n",
       "<td>2014-12-08</td>\n",
       "<td style='text-align: right'>1</td>\n",
       "<td>review</td>\n",
       "<td style='text-align: right'>0</td>\n",
       "<td style='text-align: right'>1</td>\n",
       "</tr>\n",
       "<tr>\n",
       "<td style='text-align: right'>9</td>\n",
       "<td style='text-align: right'>1</td>\n",
       "<td>-UPUYET3Pwm99zq-uHl7gg</td>\n",
       "<td>OPBHCs-lcEVWbEZY7rKNUg</td>\n",
       "<td>0Wy4gw8krao9nGq-sHWFSQ</td>\n",
       "<td style='text-align: right'>3</td>\n",
       "<td>2013-12-01</td>\n",
       "<td style='text-align: right'>1</td>\n",
       "<td>review</td>\n",
       "<td style='text-align: right'>1</td>\n",
       "<td style='text-align: right'>3</td>\n",
       "</tr>\n",
       "<tr>\n",
       "<td style='text-align: right'>10</td>\n",
       "<td style='text-align: right'>0</td>\n",
       "<td>WLrFY6_Z32lb_ifcIvRvkw</td>\n",
       "<td>SjgayD75MU7yTWEs_cGbwg</td>\n",
       "<td>0Wy4gw8krao9nGq-sHWFSQ</td>\n",
       "<td style='text-align: right'>3</td>\n",
       "<td>2013-05-06</td>\n",
       "<td style='text-align: right'>0</td>\n",
       "<td>review</td>\n",
       "<td style='text-align: right'>0</td>\n",
       "<td style='text-align: right'>0</td>\n",
       "</tr>\n",
       "</tbody>\n",
       "</table>\n",
       "<p><strong>...</strong></p>"
      ]
     },
     "metadata": {},
     "output_type": "display_data"
    }
   ],
   "source": [
    "def votes_aggregate(row):\n",
    "    return row['funny']+row['cool']+row['useful']\n",
    "t5=t4.addfield('votes_aggregate', votes_aggregate)\n",
    "t5.display(10)"
   ]
  },
  {
   "cell_type": "code",
   "execution_count": null,
   "metadata": {
    "collapsed": true
   },
   "outputs": [],
   "source": []
  },
  {
   "cell_type": "code",
   "execution_count": null,
   "metadata": {
    "collapsed": true
   },
   "outputs": [],
   "source": [
    "out_facts_reviews = t3.cut(['review_id', 'user_id', ''])"
   ]
  }
 ],
 "metadata": {
  "anaconda-cloud": {},
  "kernelspec": {
   "display_name": "Python [default]",
   "language": "python",
   "name": "python2"
  },
  "language_info": {
   "codemirror_mode": {
    "name": "ipython",
    "version": 2
   },
   "file_extension": ".py",
   "mimetype": "text/x-python",
   "name": "python",
   "nbconvert_exporter": "python",
   "pygments_lexer": "ipython2",
   "version": "2.7.12"
  }
 },
 "nbformat": 4,
 "nbformat_minor": 0
}
