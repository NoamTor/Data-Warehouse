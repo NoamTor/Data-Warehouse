{
 "cells": [
  {
   "cell_type": "markdown",
   "metadata": {},
   "source": [
    "# 1. Creating the Scheme in the Local Host"
   ]
  },
  {
   "cell_type": "markdown",
   "metadata": {},
   "source": [
    "### Create MYSQL connector"
   ]
  },
  {
   "cell_type": "code",
   "execution_count": 45,
   "metadata": {
    "collapsed": true
   },
   "outputs": [],
   "source": [
    "import MySQLdb as mdb"
   ]
  },
  {
   "cell_type": "code",
   "execution_count": 46,
   "metadata": {
    "collapsed": false
   },
   "outputs": [],
   "source": [
    "# creating connection\n",
    "con = mdb.connect(\n",
    "                host = '127.0.0.1', user = 'root', passwd = 'root') #optional - db=\"schema_name\"  "
   ]
  },
  {
   "cell_type": "code",
   "execution_count": 47,
   "metadata": {
    "collapsed": false
   },
   "outputs": [],
   "source": [
    "# setting a cursor\n",
    "cursor = con.cursor()     # get the cursor"
   ]
  },
  {
   "cell_type": "markdown",
   "metadata": {},
   "source": [
    "### DDL - Create Schema"
   ]
  },
  {
   "cell_type": "code",
   "execution_count": 50,
   "metadata": {
    "collapsed": false
   },
   "outputs": [
    {
     "name": "stderr",
     "output_type": "stream",
     "text": [
      "C:\\Program Files\\Anaconda2\\lib\\site-packages\\ipykernel\\__main__.py:4: Warning: Changing sql mode 'NO_AUTO_CREATE_USER' is deprecated. It will be removed in a future release.\n"
     ]
    },
    {
     "data": {
      "text/plain": [
       "0L"
      ]
     },
     "execution_count": 50,
     "metadata": {},
     "output_type": "execute_result"
    }
   ],
   "source": [
    "cursor.execute(\"DROP SCHEMA IF EXISTS Yelp_Pittsburgh ;\")\n",
    "cursor.execute(\"CREATE SCHEMA IF NOT EXISTS Yelp_Pittsburgh ;\")\n",
    "cursor.execute(\"USE Yelp_Pittsburgh ;\")\n",
    "cursor.execute('SET SQL_MODE=ANSI_QUOTES') #important for petl operation - use this kind of quotes"
   ]
  },
  {
   "cell_type": "markdown",
   "metadata": {},
   "source": [
    "### Create Tables"
   ]
  },
  {
   "cell_type": "code",
   "execution_count": 54,
   "metadata": {
    "collapsed": false,
    "scrolled": true
   },
   "outputs": [
    {
     "name": "stderr",
     "output_type": "stream",
     "text": [
      "C:\\Program Files\\Anaconda2\\lib\\site-packages\\ipykernel\\__main__.py:12: Warning: Table 'dim_users' already exists\n"
     ]
    },
    {
     "data": {
      "text/plain": [
       "0L"
      ]
     },
     "execution_count": 54,
     "metadata": {},
     "output_type": "execute_result"
    }
   ],
   "source": [
    "#dim_users table creation\n",
    "cursor.execute(\"\"\"\n",
    "    CREATE TABLE IF NOT EXISTS dim_users (\n",
    "        `user_id` int(11) NOT NULL AUTO_INCREMENT,\n",
    "        `yelp_user_id` VARCHAR(20) NOT NULL,\n",
    "        `review_count` INT(11),\n",
    "        `fans` INT(11),\n",
    "        `is_elite` BINARY NOT NULL,\n",
    "        `yelping_since` DATE,\n",
    "        `friends_count` INT(11) NOT NULL,\n",
    "        PRIMARY KEY (`user_id`));\n",
    "        \"\"\")"
   ]
  },
  {
   "cell_type": "code",
   "execution_count": 55,
   "metadata": {
    "collapsed": false
   },
   "outputs": [
    {
     "data": {
      "text/plain": [
       "0L"
      ]
     },
     "execution_count": 55,
     "metadata": {},
     "output_type": "execute_result"
    }
   ],
   "source": [
    "#dim_business table creation\n",
    "cursor.execute(\"\"\"\n",
    "    CREATE TABLE IF NOT EXISTS dim_business (       \n",
    "        `business_id` INT(11) NOT NULL AUTO_INCREMENT,\n",
    "        `Yelp_business_id` VARCHAR(20) NOT NULL,\n",
    "        `business_name` VARCHAR(20) NOT NULL,\n",
    "        `is_open` BINARY NOT NULL,\n",
    "        `neighborhood` VARCHAR(20) NOT NULL,\n",
    "        `latitude` FLOAT(11),\n",
    "        `longitude` FLOAT(11),\n",
    "        `stars` FLOAT(11),\n",
    "        `review_count` INT(11) NOT NULL,\n",
    "        `category` VARCHAR(20),\n",
    "        `checkin_sum` INT(11),\n",
    "        PRIMARY KEY (`business_id`));\n",
    "        \"\"\")"
   ]
  },
  {
   "cell_type": "code",
   "execution_count": null,
   "metadata": {
    "collapsed": true
   },
   "outputs": [],
   "source": [
    "#dim_dates table creation\n",
    "cursor.execute(\"\"\"\n",
    "    CREATE TABLE IF NOT EXISTS dim_dates (       \n",
    "        `date_id` INT(11) NOT NULL AUTO_INCREMENT,\n",
    "        `date` DATE NOT NULL,\n",
    "        `day` INT(11) NOT NULL,\n",
    "        `month` INT(11) NOT NULL,\n",
    "        `year` INT(11)\n",
    "        `day_name` VARCHAR(45) NOT NULL,\n",
    "        `holiday` VARCHAR(45),\n",
    "        PRIMARY KEY (`date_id`));\n",
    "        \"\"\")"
   ]
  },
  {
   "cell_type": "code",
   "execution_count": 18,
   "metadata": {
    "collapsed": false
   },
   "outputs": [
    {
     "data": {
      "text/plain": [
       "0L"
      ]
     },
     "execution_count": 18,
     "metadata": {},
     "output_type": "execute_result"
    }
   ],
   "source": [
    "#fact_review table creation\n",
    "cursor.execute(\"\"\"\n",
    "    CREATE TABLE IF NOT EXISTS fact_reviews (\n",
    "        `review_id` INT(11) NOT NULL AUTO_INCREMENT,\n",
    "        `yelp_review_id VARCHAR(20) NOT NULL,\n",
    "        `user_id` INT(11) NOT NULL,\n",
    "        `business_id` INT(11) NOT NULL,\n",
    "        `date_id` int(11) NOT NULL,\n",
    "        `stars` FLOAT(11),\n",
    "        `votes_aggregate` INT(11),\n",
    "        PRIMARY KEY (`ID`)\n",
    "        ) ;   \"\"\")"
   ]
  },
  {
   "cell_type": "code",
   "execution_count": 20,
   "metadata": {
    "collapsed": false
   },
   "outputs": [],
   "source": [
    "#commit changes\n",
    "con.commit()"
   ]
  },
  {
   "cell_type": "markdown",
   "metadata": {},
   "source": [
    "### Closing the connection"
   ]
  },
  {
   "cell_type": "code",
   "execution_count": 21,
   "metadata": {
    "collapsed": true
   },
   "outputs": [],
   "source": [
    "#closing the connection\n",
    "cursor.close()\n",
    "con.close()"
   ]
  },
  {
   "cell_type": "markdown",
   "metadata": {},
   "source": [
    "# 2. ETL"
   ]
  },
  {
   "cell_type": "markdown",
   "metadata": {},
   "source": [
    "## Users"
   ]
  },
  {
   "cell_type": "markdown",
   "metadata": {},
   "source": [
    "## Business"
   ]
  },
  {
   "cell_type": "markdown",
   "metadata": {},
   "source": [
    "## Date"
   ]
  },
  {
   "cell_type": "markdown",
   "metadata": {},
   "source": [
    "## Reviews"
   ]
  },
  {
   "cell_type": "code",
   "execution_count": 2,
   "metadata": {
    "collapsed": false
   },
   "outputs": [
    {
     "ename": "ImportError",
     "evalue": "No module named petl",
     "output_type": "error",
     "traceback": [
      "\u001b[0;31m---------------------------------------------------------------------------\u001b[0m",
      "\u001b[0;31mImportError\u001b[0m                               Traceback (most recent call last)",
      "\u001b[0;32m<ipython-input-2-e20c9fe359d0>\u001b[0m in \u001b[0;36m<module>\u001b[0;34m()\u001b[0m\n\u001b[0;32m----> 1\u001b[0;31m \u001b[1;32mimport\u001b[0m \u001b[0mpetl\u001b[0m \u001b[1;32mas\u001b[0m \u001b[0metl\u001b[0m\u001b[1;33m\u001b[0m\u001b[0m\n\u001b[0m",
      "\u001b[0;31mImportError\u001b[0m: No module named petl"
     ]
    }
   ],
   "source": [
    "import petl as etl"
   ]
  },
  {
   "cell_type": "code",
   "execution_count": null,
   "metadata": {
    "collapsed": true
   },
   "outputs": [],
   "source": []
  }
 ],
 "metadata": {
  "anaconda-cloud": {},
  "kernelspec": {
   "display_name": "Python [default]",
   "language": "python",
   "name": "python2"
  },
  "language_info": {
   "codemirror_mode": {
    "name": "ipython",
    "version": 2
   },
   "file_extension": ".py",
   "mimetype": "text/x-python",
   "name": "python",
   "nbconvert_exporter": "python",
   "pygments_lexer": "ipython2",
   "version": "2.7.12"
  }
 },
 "nbformat": 4,
 "nbformat_minor": 0
}
