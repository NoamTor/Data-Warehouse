{
 "cells": [
  {
   "cell_type": "markdown",
   "metadata": {},
   "source": [
    "# ETL with Python"
   ]
  },
  {
   "cell_type": "markdown",
   "metadata": {},
   "source": [
    "# pETL package\n",
    "pETL is a general purpose Python package for extracting, transforming and loading tables of data.\n",
    "<br>\n",
    "Extract & Load : http://petl.readthedocs.io/en/latest/io.html\n",
    "<br>\n",
    "transform: http://petl.readthedocs.io/en/latest/transform.html"
   ]
  },
  {
   "cell_type": "markdown",
   "metadata": {},
   "source": [
    "install petl by running ```pip install petl``` in Command-Line"
   ]
  },
  {
   "cell_type": "code",
   "execution_count": 4,
   "metadata": {
    "collapsed": false
   },
   "outputs": [],
   "source": [
    "import petl as etl\n",
    "import datetime"
   ]
  },
  {
   "cell_type": "markdown",
   "metadata": {},
   "source": [
    "# Extract"
   ]
  },
  {
   "cell_type": "markdown",
   "metadata": {},
   "source": [
    "### Extract JSON file and display"
   ]
  },
  {
   "cell_type": "code",
   "execution_count": 5,
   "metadata": {
    "collapsed": true
   },
   "outputs": [],
   "source": [
    "filename= 'yelp_academic_dataset_users_nofriendlist_PA.json'"
   ]
  },
  {
   "cell_type": "code",
   "execution_count": 6,
   "metadata": {
    "collapsed": false,
    "scrolled": true
   },
   "outputs": [
    {
     "data": {
      "text/html": [
       "<table class='petl'>\n",
       "<thead>\n",
       "<tr>\n",
       "<th>yelping_since</th>\n",
       "<th>useful</th>\n",
       "<th>compliment_photos</th>\n",
       "<th>compliment_list</th>\n",
       "<th>compliment_funny</th>\n",
       "<th>compliment_plain</th>\n",
       "<th>user_id</th>\n",
       "<th>fans</th>\n",
       "<th>type</th>\n",
       "<th>compliment_note</th>\n",
       "<th>funny</th>\n",
       "<th>compliment_writer</th>\n",
       "<th>compliment_cute</th>\n",
       "<th>average_stars</th>\n",
       "<th>review_count</th>\n",
       "<th>compliment_more</th>\n",
       "<th>elite</th>\n",
       "<th>compliment_hot</th>\n",
       "<th>cool</th>\n",
       "<th>name</th>\n",
       "<th>compliment_profile</th>\n",
       "<th>compliment_cool</th>\n",
       "</tr>\n",
       "</thead>\n",
       "<tbody>\n",
       "<tr>\n",
       "<td>2007-12-10</td>\n",
       "<td style='text-align: right'>565</td>\n",
       "<td style='text-align: right'>20</td>\n",
       "<td style='text-align: right'>10</td>\n",
       "<td style='text-align: right'>251</td>\n",
       "<td style='text-align: right'>138</td>\n",
       "<td>v10dHdqf42tUkxbYVnFW6w</td>\n",
       "<td style='text-align: right'>53</td>\n",
       "<td>user</td>\n",
       "<td style='text-align: right'>194</td>\n",
       "<td style='text-align: right'>987</td>\n",
       "<td style='text-align: right'>39</td>\n",
       "<td style='text-align: right'>21</td>\n",
       "<td style='text-align: right'>3.23</td>\n",
       "<td style='text-align: right'>591</td>\n",
       "<td style='text-align: right'>17</td>\n",
       "<td>[u'2009', u'2008', u'2010', u'2011']</td>\n",
       "<td style='text-align: right'>191</td>\n",
       "<td style='text-align: right'>743</td>\n",
       "<td>Chris</td>\n",
       "<td style='text-align: right'>5</td>\n",
       "<td style='text-align: right'>251</td>\n",
       "</tr>\n",
       "<tr>\n",
       "<td>2011-03-27</td>\n",
       "<td style='text-align: right'>324</td>\n",
       "<td style='text-align: right'>121</td>\n",
       "<td style='text-align: right'>10</td>\n",
       "<td style='text-align: right'>222</td>\n",
       "<td style='text-align: right'>171</td>\n",
       "<td>UrOofvcBl0gAbKPAEaj83A</td>\n",
       "<td style='text-align: right'>37</td>\n",
       "<td>user</td>\n",
       "<td style='text-align: right'>175</td>\n",
       "<td style='text-align: right'>312</td>\n",
       "<td style='text-align: right'>172</td>\n",
       "<td style='text-align: right'>11</td>\n",
       "<td style='text-align: right'>3.91</td>\n",
       "<td style='text-align: right'>338</td>\n",
       "<td style='text-align: right'>38</td>\n",
       "<td>[u'2014', u'2015']</td>\n",
       "<td style='text-align: right'>213</td>\n",
       "<td style='text-align: right'>321</td>\n",
       "<td>Louise</td>\n",
       "<td style='text-align: right'>25</td>\n",
       "<td style='text-align: right'>222</td>\n",
       "</tr>\n",
       "<tr>\n",
       "<td>2012-11-22</td>\n",
       "<td style='text-align: right'>1</td>\n",
       "<td style='text-align: right'>0</td>\n",
       "<td style='text-align: right'>0</td>\n",
       "<td style='text-align: right'>0</td>\n",
       "<td style='text-align: right'>0</td>\n",
       "<td>-ONyyxFUhDatBG3vw6PkUw</td>\n",
       "<td style='text-align: right'>0</td>\n",
       "<td>user</td>\n",
       "<td style='text-align: right'>0</td>\n",
       "<td style='text-align: right'>0</td>\n",
       "<td style='text-align: right'>0</td>\n",
       "<td style='text-align: right'>0</td>\n",
       "<td style='text-align: right'>3.73</td>\n",
       "<td style='text-align: right'>11</td>\n",
       "<td style='text-align: right'>0</td>\n",
       "<td>[u'None']</td>\n",
       "<td style='text-align: right'>0</td>\n",
       "<td style='text-align: right'>0</td>\n",
       "<td>Kaitlin</td>\n",
       "<td style='text-align: right'>0</td>\n",
       "<td style='text-align: right'>0</td>\n",
       "</tr>\n",
       "<tr>\n",
       "<td>2010-03-29</td>\n",
       "<td style='text-align: right'>1143</td>\n",
       "<td style='text-align: right'>12</td>\n",
       "<td style='text-align: right'>1</td>\n",
       "<td style='text-align: right'>194</td>\n",
       "<td style='text-align: right'>173</td>\n",
       "<td>p03AKnMXXbgetIEHHFP3wQ</td>\n",
       "<td style='text-align: right'>43</td>\n",
       "<td>user</td>\n",
       "<td style='text-align: right'>77</td>\n",
       "<td style='text-align: right'>481</td>\n",
       "<td style='text-align: right'>84</td>\n",
       "<td style='text-align: right'>1</td>\n",
       "<td style='text-align: right'>3.54</td>\n",
       "<td style='text-align: right'>359</td>\n",
       "<td style='text-align: right'>8</td>\n",
       "<td>[u'2017', u'2012', u'2013', u'2015', u'2016', u'2014']</td>\n",
       "<td style='text-align: right'>140</td>\n",
       "<td style='text-align: right'>379</td>\n",
       "<td>Heather</td>\n",
       "<td style='text-align: right'>2</td>\n",
       "<td style='text-align: right'>194</td>\n",
       "</tr>\n",
       "<tr>\n",
       "<td>2010-07-12</td>\n",
       "<td style='text-align: right'>66</td>\n",
       "<td style='text-align: right'>0</td>\n",
       "<td style='text-align: right'>0</td>\n",
       "<td style='text-align: right'>0</td>\n",
       "<td style='text-align: right'>1</td>\n",
       "<td>7rKWM_1lPM4oGdXegFjp9g</td>\n",
       "<td style='text-align: right'>3</td>\n",
       "<td>user</td>\n",
       "<td style='text-align: right'>1</td>\n",
       "<td style='text-align: right'>8</td>\n",
       "<td style='text-align: right'>0</td>\n",
       "<td style='text-align: right'>0</td>\n",
       "<td style='text-align: right'>3.9</td>\n",
       "<td style='text-align: right'>42</td>\n",
       "<td style='text-align: right'>0</td>\n",
       "<td>[u'None']</td>\n",
       "<td style='text-align: right'>0</td>\n",
       "<td style='text-align: right'>11</td>\n",
       "<td>Angelica</td>\n",
       "<td style='text-align: right'>0</td>\n",
       "<td style='text-align: right'>0</td>\n",
       "</tr>\n",
       "<tr>\n",
       "<td>2012-09-03</td>\n",
       "<td style='text-align: right'>4</td>\n",
       "<td style='text-align: right'>0</td>\n",
       "<td style='text-align: right'>0</td>\n",
       "<td style='text-align: right'>2</td>\n",
       "<td style='text-align: right'>0</td>\n",
       "<td>57vdnMXfheEeiVd_kzxUlg</td>\n",
       "<td style='text-align: right'>2</td>\n",
       "<td>user</td>\n",
       "<td style='text-align: right'>0</td>\n",
       "<td style='text-align: right'>0</td>\n",
       "<td style='text-align: right'>1</td>\n",
       "<td style='text-align: right'>0</td>\n",
       "<td style='text-align: right'>3.81</td>\n",
       "<td style='text-align: right'>40</td>\n",
       "<td style='text-align: right'>0</td>\n",
       "<td>[u'None']</td>\n",
       "<td style='text-align: right'>3</td>\n",
       "<td style='text-align: right'>0</td>\n",
       "<td>Amber</td>\n",
       "<td style='text-align: right'>0</td>\n",
       "<td style='text-align: right'>2</td>\n",
       "</tr>\n",
       "<tr>\n",
       "<td>2008-06-05</td>\n",
       "<td style='text-align: right'>440</td>\n",
       "<td style='text-align: right'>1</td>\n",
       "<td style='text-align: right'>1</td>\n",
       "<td style='text-align: right'>112</td>\n",
       "<td style='text-align: right'>45</td>\n",
       "<td>6DbvYyAvTtXTmVOAG32Djw</td>\n",
       "<td style='text-align: right'>9</td>\n",
       "<td>user</td>\n",
       "<td style='text-align: right'>15</td>\n",
       "<td style='text-align: right'>469</td>\n",
       "<td style='text-align: right'>21</td>\n",
       "<td style='text-align: right'>0</td>\n",
       "<td style='text-align: right'>4.04</td>\n",
       "<td style='text-align: right'>188</td>\n",
       "<td style='text-align: right'>7</td>\n",
       "<td>[u'2011', u'2010']</td>\n",
       "<td style='text-align: right'>46</td>\n",
       "<td style='text-align: right'>470</td>\n",
       "<td>Sharon</td>\n",
       "<td style='text-align: right'>2</td>\n",
       "<td style='text-align: right'>112</td>\n",
       "</tr>\n",
       "<tr>\n",
       "<td>2010-06-12</td>\n",
       "<td style='text-align: right'>99</td>\n",
       "<td style='text-align: right'>0</td>\n",
       "<td style='text-align: right'>0</td>\n",
       "<td style='text-align: right'>10</td>\n",
       "<td style='text-align: right'>5</td>\n",
       "<td>3vYsjC90S80legSDDTmqcA</td>\n",
       "<td style='text-align: right'>10</td>\n",
       "<td>user</td>\n",
       "<td style='text-align: right'>3</td>\n",
       "<td style='text-align: right'>28</td>\n",
       "<td style='text-align: right'>8</td>\n",
       "<td style='text-align: right'>0</td>\n",
       "<td style='text-align: right'>3.97</td>\n",
       "<td style='text-align: right'>71</td>\n",
       "<td style='text-align: right'>0</td>\n",
       "<td>[u'2013', u'2012']</td>\n",
       "<td style='text-align: right'>8</td>\n",
       "<td style='text-align: right'>12</td>\n",
       "<td>Donna</td>\n",
       "<td style='text-align: right'>0</td>\n",
       "<td style='text-align: right'>10</td>\n",
       "</tr>\n",
       "<tr>\n",
       "<td>2009-03-30</td>\n",
       "<td style='text-align: right'>65</td>\n",
       "<td style='text-align: right'>1</td>\n",
       "<td style='text-align: right'>1</td>\n",
       "<td style='text-align: right'>13</td>\n",
       "<td style='text-align: right'>15</td>\n",
       "<td>CFyvX-AZh6cunAMu_zoF_w</td>\n",
       "<td style='text-align: right'>8</td>\n",
       "<td>user</td>\n",
       "<td style='text-align: right'>8</td>\n",
       "<td style='text-align: right'>21</td>\n",
       "<td style='text-align: right'>10</td>\n",
       "<td style='text-align: right'>0</td>\n",
       "<td style='text-align: right'>3.61</td>\n",
       "<td style='text-align: right'>167</td>\n",
       "<td style='text-align: right'>3</td>\n",
       "<td>[u'2011', u'2012', u'2013', u'2014', u'2010']</td>\n",
       "<td style='text-align: right'>7</td>\n",
       "<td style='text-align: right'>3</td>\n",
       "<td>Rosalie</td>\n",
       "<td style='text-align: right'>0</td>\n",
       "<td style='text-align: right'>13</td>\n",
       "</tr>\n",
       "<tr>\n",
       "<td>2012-07-24</td>\n",
       "<td style='text-align: right'>7</td>\n",
       "<td style='text-align: right'>0</td>\n",
       "<td style='text-align: right'>0</td>\n",
       "<td style='text-align: right'>0</td>\n",
       "<td style='text-align: right'>0</td>\n",
       "<td>cYXznfbPK_ShlepnUiLpcw</td>\n",
       "<td style='text-align: right'>1</td>\n",
       "<td>user</td>\n",
       "<td style='text-align: right'>0</td>\n",
       "<td style='text-align: right'>1</td>\n",
       "<td style='text-align: right'>1</td>\n",
       "<td style='text-align: right'>0</td>\n",
       "<td style='text-align: right'>3.94</td>\n",
       "<td style='text-align: right'>14</td>\n",
       "<td style='text-align: right'>0</td>\n",
       "<td>[u'None']</td>\n",
       "<td style='text-align: right'>1</td>\n",
       "<td style='text-align: right'>0</td>\n",
       "<td>Je'Amour</td>\n",
       "<td style='text-align: right'>0</td>\n",
       "<td style='text-align: right'>0</td>\n",
       "</tr>\n",
       "</tbody>\n",
       "</table>\n",
       "<p><strong>...</strong></p>"
      ]
     },
     "metadata": {},
     "output_type": "display_data"
    }
   ],
   "source": [
    "t1 = etl.fromjson(filename)\n",
    "t1.display(10)"
   ]
  },
  {
   "cell_type": "markdown",
   "metadata": {},
   "source": [
    "creating the users dimension:  \n",
    "user_id= varchar(20)\n",
    "friends_count= INT\n",
    "review_count= INT\n",
    "fans= INT\n",
    "is_elite= Binary\n",
    "yelping_since= Date"
   ]
  },
  {
   "cell_type": "code",
   "execution_count": 7,
   "metadata": {
    "collapsed": false
   },
   "outputs": [
    {
     "data": {
      "text/html": [
       "<table class='petl'>\n",
       "<thead>\n",
       "<tr>\n",
       "<th>user_id</th>\n",
       "<th>review_count</th>\n",
       "<th>fans</th>\n",
       "<th>elite</th>\n",
       "<th>yelping_since</th>\n",
       "</tr>\n",
       "</thead>\n",
       "<tbody>\n",
       "<tr>\n",
       "<td>v10dHdqf42tUkxbYVnFW6w</td>\n",
       "<td style='text-align: right'>591</td>\n",
       "<td style='text-align: right'>53</td>\n",
       "<td>[u'2009', u'2008', u'2010', u'2011']</td>\n",
       "<td>2007-12-10</td>\n",
       "</tr>\n",
       "<tr>\n",
       "<td>UrOofvcBl0gAbKPAEaj83A</td>\n",
       "<td style='text-align: right'>338</td>\n",
       "<td style='text-align: right'>37</td>\n",
       "<td>[u'2014', u'2015']</td>\n",
       "<td>2011-03-27</td>\n",
       "</tr>\n",
       "<tr>\n",
       "<td>-ONyyxFUhDatBG3vw6PkUw</td>\n",
       "<td style='text-align: right'>11</td>\n",
       "<td style='text-align: right'>0</td>\n",
       "<td>[u'None']</td>\n",
       "<td>2012-11-22</td>\n",
       "</tr>\n",
       "<tr>\n",
       "<td>p03AKnMXXbgetIEHHFP3wQ</td>\n",
       "<td style='text-align: right'>359</td>\n",
       "<td style='text-align: right'>43</td>\n",
       "<td>[u'2017', u'2012', u'2013', u'2015', u'2016', u'2014']</td>\n",
       "<td>2010-03-29</td>\n",
       "</tr>\n",
       "<tr>\n",
       "<td>7rKWM_1lPM4oGdXegFjp9g</td>\n",
       "<td style='text-align: right'>42</td>\n",
       "<td style='text-align: right'>3</td>\n",
       "<td>[u'None']</td>\n",
       "<td>2010-07-12</td>\n",
       "</tr>\n",
       "<tr>\n",
       "<td>57vdnMXfheEeiVd_kzxUlg</td>\n",
       "<td style='text-align: right'>40</td>\n",
       "<td style='text-align: right'>2</td>\n",
       "<td>[u'None']</td>\n",
       "<td>2012-09-03</td>\n",
       "</tr>\n",
       "<tr>\n",
       "<td>6DbvYyAvTtXTmVOAG32Djw</td>\n",
       "<td style='text-align: right'>188</td>\n",
       "<td style='text-align: right'>9</td>\n",
       "<td>[u'2011', u'2010']</td>\n",
       "<td>2008-06-05</td>\n",
       "</tr>\n",
       "<tr>\n",
       "<td>3vYsjC90S80legSDDTmqcA</td>\n",
       "<td style='text-align: right'>71</td>\n",
       "<td style='text-align: right'>10</td>\n",
       "<td>[u'2013', u'2012']</td>\n",
       "<td>2010-06-12</td>\n",
       "</tr>\n",
       "<tr>\n",
       "<td>CFyvX-AZh6cunAMu_zoF_w</td>\n",
       "<td style='text-align: right'>167</td>\n",
       "<td style='text-align: right'>8</td>\n",
       "<td>[u'2011', u'2012', u'2013', u'2014', u'2010']</td>\n",
       "<td>2009-03-30</td>\n",
       "</tr>\n",
       "<tr>\n",
       "<td>cYXznfbPK_ShlepnUiLpcw</td>\n",
       "<td style='text-align: right'>14</td>\n",
       "<td style='text-align: right'>1</td>\n",
       "<td>[u'None']</td>\n",
       "<td>2012-07-24</td>\n",
       "</tr>\n",
       "</tbody>\n",
       "</table>\n",
       "<p><strong>...</strong></p>"
      ]
     },
     "metadata": {},
     "output_type": "display_data"
    }
   ],
   "source": [
    "t2 = t1.cut(['user_id','review_count','fans','elite','yelping_since'])\n",
    "t2.display(10)"
   ]
  },
  {
   "cell_type": "markdown",
   "metadata": {},
   "source": [
    "# Transform"
   ]
  },
  {
   "cell_type": "code",
   "execution_count": 8,
   "metadata": {
    "collapsed": false,
    "scrolled": true
   },
   "outputs": [
    {
     "name": "stdout",
     "output_type": "stream",
     "text": [
      "user_id \tCounter({'unicode': 52141})\n",
      "review_count \tCounter({'int': 52141})\n",
      "fans \tCounter({'int': 52141})\n",
      "elite \tCounter({'unicode': 52141})\n",
      "yelping_since \tCounter({'unicode': 52141})\n"
     ]
    }
   ],
   "source": [
    "fields = t2.fieldnames()\n",
    "for f in fields:\n",
    "    print f,'\\t', t2.typecounter(f)"
   ]
  },
  {
   "cell_type": "markdown",
   "metadata": {},
   "source": [
    "convet unicode type to binary (creating is_elite field)"
   ]
  },
  {
   "cell_type": "code",
   "execution_count": 9,
   "metadata": {
    "collapsed": false
   },
   "outputs": [
    {
     "data": {
      "text/html": [
       "<table class='petl'>\n",
       "<thead>\n",
       "<tr>\n",
       "<th>user_id</th>\n",
       "<th>review_count</th>\n",
       "<th>fans</th>\n",
       "<th>elite</th>\n",
       "<th>yelping_since</th>\n",
       "</tr>\n",
       "</thead>\n",
       "<tbody>\n",
       "<tr>\n",
       "<td>v10dHdqf42tUkxbYVnFW6w</td>\n",
       "<td style='text-align: right'>591</td>\n",
       "<td style='text-align: right'>53</td>\n",
       "<td style='text-align: right'>1</td>\n",
       "<td>2007-12-10</td>\n",
       "</tr>\n",
       "<tr>\n",
       "<td>UrOofvcBl0gAbKPAEaj83A</td>\n",
       "<td style='text-align: right'>338</td>\n",
       "<td style='text-align: right'>37</td>\n",
       "<td style='text-align: right'>1</td>\n",
       "<td>2011-03-27</td>\n",
       "</tr>\n",
       "<tr>\n",
       "<td>-ONyyxFUhDatBG3vw6PkUw</td>\n",
       "<td style='text-align: right'>11</td>\n",
       "<td style='text-align: right'>0</td>\n",
       "<td style='text-align: right'>0</td>\n",
       "<td>2012-11-22</td>\n",
       "</tr>\n",
       "<tr>\n",
       "<td>p03AKnMXXbgetIEHHFP3wQ</td>\n",
       "<td style='text-align: right'>359</td>\n",
       "<td style='text-align: right'>43</td>\n",
       "<td style='text-align: right'>1</td>\n",
       "<td>2010-03-29</td>\n",
       "</tr>\n",
       "<tr>\n",
       "<td>7rKWM_1lPM4oGdXegFjp9g</td>\n",
       "<td style='text-align: right'>42</td>\n",
       "<td style='text-align: right'>3</td>\n",
       "<td style='text-align: right'>0</td>\n",
       "<td>2010-07-12</td>\n",
       "</tr>\n",
       "<tr>\n",
       "<td>57vdnMXfheEeiVd_kzxUlg</td>\n",
       "<td style='text-align: right'>40</td>\n",
       "<td style='text-align: right'>2</td>\n",
       "<td style='text-align: right'>0</td>\n",
       "<td>2012-09-03</td>\n",
       "</tr>\n",
       "<tr>\n",
       "<td>6DbvYyAvTtXTmVOAG32Djw</td>\n",
       "<td style='text-align: right'>188</td>\n",
       "<td style='text-align: right'>9</td>\n",
       "<td style='text-align: right'>1</td>\n",
       "<td>2008-06-05</td>\n",
       "</tr>\n",
       "<tr>\n",
       "<td>3vYsjC90S80legSDDTmqcA</td>\n",
       "<td style='text-align: right'>71</td>\n",
       "<td style='text-align: right'>10</td>\n",
       "<td style='text-align: right'>1</td>\n",
       "<td>2010-06-12</td>\n",
       "</tr>\n",
       "<tr>\n",
       "<td>CFyvX-AZh6cunAMu_zoF_w</td>\n",
       "<td style='text-align: right'>167</td>\n",
       "<td style='text-align: right'>8</td>\n",
       "<td style='text-align: right'>1</td>\n",
       "<td>2009-03-30</td>\n",
       "</tr>\n",
       "<tr>\n",
       "<td>cYXznfbPK_ShlepnUiLpcw</td>\n",
       "<td style='text-align: right'>14</td>\n",
       "<td style='text-align: right'>1</td>\n",
       "<td style='text-align: right'>0</td>\n",
       "<td>2012-07-24</td>\n",
       "</tr>\n",
       "</tbody>\n",
       "</table>\n",
       "<p><strong>...</strong></p>"
      ]
     },
     "metadata": {},
     "output_type": "display_data"
    }
   ],
   "source": [
    "def to_binary(text):\n",
    "    if text[3:7] == 'None':\n",
    "        return 0 \n",
    "    return 1\n",
    "\n",
    "t3 = t2.convert('elite' , to_binary)\n",
    "t3.display(10)\n"
   ]
  },
  {
   "cell_type": "markdown",
   "metadata": {},
   "source": [
    "build the friends_count column by join (users and friends)"
   ]
  },
  {
   "cell_type": "code",
   "execution_count": 10,
   "metadata": {
    "collapsed": false
   },
   "outputs": [
    {
     "data": {
      "text/html": [
       "<table class='petl'>\n",
       "<thead>\n",
       "<tr>\n",
       "<th>user_id</th>\n",
       "<th>review_count</th>\n",
       "<th>fans</th>\n",
       "<th>elite</th>\n",
       "<th>yelping_since</th>\n",
       "<th>t4_friends</th>\n",
       "</tr>\n",
       "</thead>\n",
       "<tbody>\n",
       "<tr>\n",
       "<td>--26jc8nCJBy4-7r3ZtmiQ</td>\n",
       "<td style='text-align: right'>2</td>\n",
       "<td style='text-align: right'>0</td>\n",
       "<td style='text-align: right'>0</td>\n",
       "<td>2014-08-03</td>\n",
       "<td style='text-align: right'>0</td>\n",
       "</tr>\n",
       "<tr>\n",
       "<td>--6CV8BPNofy7jt1JavD-g</td>\n",
       "<td style='text-align: right'>32</td>\n",
       "<td style='text-align: right'>2</td>\n",
       "<td style='text-align: right'>0</td>\n",
       "<td>2011-08-29</td>\n",
       "<td style='text-align: right'>1</td>\n",
       "</tr>\n",
       "<tr>\n",
       "<td>--8EvC9O7Ycim8vCP4Cj0w</td>\n",
       "<td style='text-align: right'>4</td>\n",
       "<td style='text-align: right'>0</td>\n",
       "<td style='text-align: right'>0</td>\n",
       "<td>2014-08-14</td>\n",
       "<td style='text-align: right'>33</td>\n",
       "</tr>\n",
       "<tr>\n",
       "<td>--CH8yRGXhO2MmbF-4BWXg</td>\n",
       "<td style='text-align: right'>12</td>\n",
       "<td style='text-align: right'>0</td>\n",
       "<td style='text-align: right'>0</td>\n",
       "<td>2011-07-18</td>\n",
       "<td style='text-align: right'>0</td>\n",
       "</tr>\n",
       "<tr>\n",
       "<td>--EMqnd727rtC0G5Oc-Mrg</td>\n",
       "<td style='text-align: right'>28</td>\n",
       "<td style='text-align: right'>0</td>\n",
       "<td style='text-align: right'>0</td>\n",
       "<td>2008-08-05</td>\n",
       "<td style='text-align: right'>1</td>\n",
       "</tr>\n",
       "<tr>\n",
       "<td>--OECAoqfSTBaZ3biOyzwA</td>\n",
       "<td style='text-align: right'>4</td>\n",
       "<td style='text-align: right'>0</td>\n",
       "<td style='text-align: right'>0</td>\n",
       "<td>2016-09-20</td>\n",
       "<td style='text-align: right'>0</td>\n",
       "</tr>\n",
       "<tr>\n",
       "<td>--RBfYfIpx44V5Kux2fPFA</td>\n",
       "<td style='text-align: right'>11</td>\n",
       "<td style='text-align: right'>0</td>\n",
       "<td style='text-align: right'>0</td>\n",
       "<td>2013-06-24</td>\n",
       "<td style='text-align: right'>0</td>\n",
       "</tr>\n",
       "<tr>\n",
       "<td>--TvGNywm2I1iwNWZmerBA</td>\n",
       "<td style='text-align: right'>1</td>\n",
       "<td style='text-align: right'>0</td>\n",
       "<td style='text-align: right'>0</td>\n",
       "<td>2012-04-27</td>\n",
       "<td style='text-align: right'>0</td>\n",
       "</tr>\n",
       "<tr>\n",
       "<td>--Yrq6JLmQNdbZkWJsHy5Q</td>\n",
       "<td style='text-align: right'>145</td>\n",
       "<td style='text-align: right'>8</td>\n",
       "<td style='text-align: right'>1</td>\n",
       "<td>2010-03-12</td>\n",
       "<td style='text-align: right'>61</td>\n",
       "</tr>\n",
       "<tr>\n",
       "<td>--_WHb1Fw3fH6RXbxpExgA</td>\n",
       "<td style='text-align: right'>1</td>\n",
       "<td style='text-align: right'>0</td>\n",
       "<td style='text-align: right'>0</td>\n",
       "<td>2013-01-14</td>\n",
       "<td style='text-align: right'>1</td>\n",
       "</tr>\n",
       "</tbody>\n",
       "</table>\n",
       "<p><strong>...</strong></p>"
      ]
     },
     "metadata": {},
     "output_type": "display_data"
    }
   ],
   "source": [
    "source = 'Pittsburgh_full_friend_text.json'\n",
    "t4 = etl.fromjson(source)\n",
    "t5 = t3.join(t4, # right table\n",
    "                   lkey='user_id',rkey='user_id', #join equality columns\n",
    "                   rprefix='t4_') # prefixes of columns from each table (not mandatory)\n",
    "\n",
    "def friend_count(text):\n",
    "    if text[0]=='[' and text[-1]==']':\n",
    "        items =  text[1:-1].split(', ') # turn values to list\n",
    "        if text[3:7]== 'None':\n",
    "            return 0\n",
    "        return len(items)\n",
    "\n",
    "t6 = t5.convert('t4_friends' , friend_count)\n",
    "t6.display(10)"
   ]
  },
  {
   "cell_type": "markdown",
   "metadata": {},
   "source": [
    "adding new user ID and rename the table"
   ]
  },
  {
   "cell_type": "code",
   "execution_count": 11,
   "metadata": {
    "collapsed": false,
    "scrolled": true
   },
   "outputs": [
    {
     "data": {
      "text/html": [
       "<table class='petl'>\n",
       "<thead>\n",
       "<tr>\n",
       "<th>User_ID</th>\n",
       "<th>old_user_id</th>\n",
       "<th>review_count</th>\n",
       "<th>fans</th>\n",
       "<th>is_elite</th>\n",
       "<th>yelping_since</th>\n",
       "<th>friends_count</th>\n",
       "</tr>\n",
       "</thead>\n",
       "<tbody>\n",
       "<tr>\n",
       "<td style='text-align: right'>1</td>\n",
       "<td>--26jc8nCJBy4-7r3ZtmiQ</td>\n",
       "<td style='text-align: right'>2</td>\n",
       "<td style='text-align: right'>0</td>\n",
       "<td style='text-align: right'>0</td>\n",
       "<td>2014-08-03</td>\n",
       "<td style='text-align: right'>0</td>\n",
       "</tr>\n",
       "<tr>\n",
       "<td style='text-align: right'>2</td>\n",
       "<td>--6CV8BPNofy7jt1JavD-g</td>\n",
       "<td style='text-align: right'>32</td>\n",
       "<td style='text-align: right'>2</td>\n",
       "<td style='text-align: right'>0</td>\n",
       "<td>2011-08-29</td>\n",
       "<td style='text-align: right'>1</td>\n",
       "</tr>\n",
       "<tr>\n",
       "<td style='text-align: right'>3</td>\n",
       "<td>--8EvC9O7Ycim8vCP4Cj0w</td>\n",
       "<td style='text-align: right'>4</td>\n",
       "<td style='text-align: right'>0</td>\n",
       "<td style='text-align: right'>0</td>\n",
       "<td>2014-08-14</td>\n",
       "<td style='text-align: right'>33</td>\n",
       "</tr>\n",
       "<tr>\n",
       "<td style='text-align: right'>4</td>\n",
       "<td>--CH8yRGXhO2MmbF-4BWXg</td>\n",
       "<td style='text-align: right'>12</td>\n",
       "<td style='text-align: right'>0</td>\n",
       "<td style='text-align: right'>0</td>\n",
       "<td>2011-07-18</td>\n",
       "<td style='text-align: right'>0</td>\n",
       "</tr>\n",
       "<tr>\n",
       "<td style='text-align: right'>5</td>\n",
       "<td>--EMqnd727rtC0G5Oc-Mrg</td>\n",
       "<td style='text-align: right'>28</td>\n",
       "<td style='text-align: right'>0</td>\n",
       "<td style='text-align: right'>0</td>\n",
       "<td>2008-08-05</td>\n",
       "<td style='text-align: right'>1</td>\n",
       "</tr>\n",
       "<tr>\n",
       "<td style='text-align: right'>6</td>\n",
       "<td>--OECAoqfSTBaZ3biOyzwA</td>\n",
       "<td style='text-align: right'>4</td>\n",
       "<td style='text-align: right'>0</td>\n",
       "<td style='text-align: right'>0</td>\n",
       "<td>2016-09-20</td>\n",
       "<td style='text-align: right'>0</td>\n",
       "</tr>\n",
       "<tr>\n",
       "<td style='text-align: right'>7</td>\n",
       "<td>--RBfYfIpx44V5Kux2fPFA</td>\n",
       "<td style='text-align: right'>11</td>\n",
       "<td style='text-align: right'>0</td>\n",
       "<td style='text-align: right'>0</td>\n",
       "<td>2013-06-24</td>\n",
       "<td style='text-align: right'>0</td>\n",
       "</tr>\n",
       "<tr>\n",
       "<td style='text-align: right'>8</td>\n",
       "<td>--TvGNywm2I1iwNWZmerBA</td>\n",
       "<td style='text-align: right'>1</td>\n",
       "<td style='text-align: right'>0</td>\n",
       "<td style='text-align: right'>0</td>\n",
       "<td>2012-04-27</td>\n",
       "<td style='text-align: right'>0</td>\n",
       "</tr>\n",
       "<tr>\n",
       "<td style='text-align: right'>9</td>\n",
       "<td>--Yrq6JLmQNdbZkWJsHy5Q</td>\n",
       "<td style='text-align: right'>145</td>\n",
       "<td style='text-align: right'>8</td>\n",
       "<td style='text-align: right'>1</td>\n",
       "<td>2010-03-12</td>\n",
       "<td style='text-align: right'>61</td>\n",
       "</tr>\n",
       "<tr>\n",
       "<td style='text-align: right'>10</td>\n",
       "<td>--_WHb1Fw3fH6RXbxpExgA</td>\n",
       "<td style='text-align: right'>1</td>\n",
       "<td style='text-align: right'>0</td>\n",
       "<td style='text-align: right'>0</td>\n",
       "<td>2013-01-14</td>\n",
       "<td style='text-align: right'>1</td>\n",
       "</tr>\n",
       "</tbody>\n",
       "</table>\n",
       "<p><strong>...</strong></p>"
      ]
     },
     "metadata": {},
     "output_type": "display_data"
    }
   ],
   "source": [
    "t7 = t6.addrownumbers()\n",
    "t8 = t7.rename({'row':'User_ID','user_id':'old_user_id','elite':'is_elite','t4_friends':'friends_count'})\n",
    "t8.display(10)\n"
   ]
  },
  {
   "cell_type": "code",
   "execution_count": 12,
   "metadata": {
    "collapsed": false
   },
   "outputs": [
    {
     "name": "stdout",
     "output_type": "stream",
     "text": [
      "User_ID \tCounter({'int': 52141})\n",
      "old_user_id \tCounter({'unicode': 52141})\n",
      "review_count \tCounter({'int': 52141})\n",
      "fans \tCounter({'int': 52141})\n",
      "is_elite \tCounter({'int': 52141})\n",
      "yelping_since \tCounter({'unicode': 52141})\n",
      "friends_count \tCounter({'int': 52141})\n"
     ]
    }
   ],
   "source": [
    "fields = t8.fieldnames()\n",
    "for f in fields:\n",
    "    print f,'\\t', t8.typecounter(f)"
   ]
  },
  {
   "cell_type": "markdown",
   "metadata": {},
   "source": [
    "\n",
    "# Load"
   ]
  },
  {
   "cell_type": "markdown",
   "metadata": {},
   "source": [
    "We can save the ouput in multiple ways. First - Let's try csv (that we already know how to load to MySQL)"
   ]
  },
  {
   "cell_type": "markdown",
   "metadata": {},
   "source": [
    "Now we will work with MySQL cursor to load the data - First we'll create the schema and tables"
   ]
  },
  {
   "cell_type": "code",
   "execution_count": 18,
   "metadata": {
    "collapsed": false
   },
   "outputs": [],
   "source": [
    "import MySQLdb as mdb"
   ]
  },
  {
   "cell_type": "code",
   "execution_count": 19,
   "metadata": {
    "collapsed": false
   },
   "outputs": [],
   "source": [
    "con = mdb.connect(\n",
    "                host = '127.0.0.1', user = 'root', passwd = 'root') #optional - db=\"schema_name\"  \n",
    "# setting a cursor\n",
    "cur = con.cursor()     # get the cursor"
   ]
  },
  {
   "cell_type": "markdown",
   "metadata": {},
   "source": [
    "#### append data to existing tables"
   ]
  },
  {
   "cell_type": "code",
   "execution_count": 21,
   "metadata": {
    "collapsed": false
   },
   "outputs": [
    {
     "ename": "OperationalError",
     "evalue": "(1054, \"Unknown column 'old_user_id' in 'field list'\")",
     "output_type": "error",
     "traceback": [
      "\u001b[0;31m---------------------------------------------------------------------------\u001b[0m",
      "\u001b[0;31mOperationalError\u001b[0m                          Traceback (most recent call last)",
      "\u001b[0;32m<ipython-input-21-86447525f21f>\u001b[0m in \u001b[0;36m<module>\u001b[0;34m()\u001b[0m\n\u001b[1;32m      1\u001b[0m \u001b[0mcur\u001b[0m\u001b[1;33m.\u001b[0m\u001b[0mexecute\u001b[0m\u001b[1;33m(\u001b[0m\u001b[1;34m'SET SQL_MODE=ANSI_QUOTES'\u001b[0m\u001b[1;33m)\u001b[0m\u001b[1;33m\u001b[0m\u001b[0m\n\u001b[0;32m----> 2\u001b[0;31m \u001b[0mt8\u001b[0m\u001b[1;33m.\u001b[0m\u001b[0mappenddb\u001b[0m\u001b[1;33m(\u001b[0m\u001b[0mcur\u001b[0m\u001b[1;33m,\u001b[0m\u001b[1;34m'dim_users'\u001b[0m\u001b[1;33m,\u001b[0m\u001b[0mschema\u001b[0m\u001b[1;33m=\u001b[0m\u001b[1;34m'yelp_pittsburgh'\u001b[0m\u001b[1;33m,\u001b[0m\u001b[0mcommit\u001b[0m\u001b[1;33m=\u001b[0m\u001b[0mTrue\u001b[0m\u001b[1;33m)\u001b[0m\u001b[1;33m\u001b[0m\u001b[0m\n\u001b[0m",
      "\u001b[0;32mC:\\Program Files\\Anaconda2\\lib\\site-packages\\petl\\io\\db.pyc\u001b[0m in \u001b[0;36mappenddb\u001b[0;34m(table, dbo, tablename, schema, commit)\u001b[0m\n\u001b[1;32m    622\u001b[0m     \u001b[1;32mtry\u001b[0m\u001b[1;33m:\u001b[0m\u001b[1;33m\u001b[0m\u001b[0m\n\u001b[1;32m    623\u001b[0m         _todb(table, dbo, tablename, schema=schema, commit=commit,\n\u001b[0;32m--> 624\u001b[0;31m               truncate=False)\n\u001b[0m\u001b[1;32m    625\u001b[0m \u001b[1;33m\u001b[0m\u001b[0m\n\u001b[1;32m    626\u001b[0m     \u001b[1;32mfinally\u001b[0m\u001b[1;33m:\u001b[0m\u001b[1;33m\u001b[0m\u001b[0m\n",
      "\u001b[0;32mC:\\Program Files\\Anaconda2\\lib\\site-packages\\petl\\io\\db.pyc\u001b[0m in \u001b[0;36m_todb\u001b[0;34m(table, dbo, tablename, schema, commit, truncate)\u001b[0m\n\u001b[1;32m    360\u001b[0m         \u001b[0mdebug\u001b[0m\u001b[1;33m(\u001b[0m\u001b[1;34m'assuming %r is standard DB-API 2.0 cursor'\u001b[0m\u001b[1;33m)\u001b[0m\u001b[1;33m\u001b[0m\u001b[0m\n\u001b[1;32m    361\u001b[0m         _todb_dbapi_cursor(table, dbo, tablename, schema=schema, commit=commit,\n\u001b[0;32m--> 362\u001b[0;31m                            truncate=truncate)\n\u001b[0m\u001b[1;32m    363\u001b[0m \u001b[1;33m\u001b[0m\u001b[0m\n\u001b[1;32m    364\u001b[0m     \u001b[1;31m# does it quack like an SQLAlchemy engine?\u001b[0m\u001b[1;33m\u001b[0m\u001b[1;33m\u001b[0m\u001b[0m\n",
      "\u001b[0;32mC:\\Program Files\\Anaconda2\\lib\\site-packages\\petl\\io\\db.pyc\u001b[0m in \u001b[0;36m_todb_dbapi_cursor\u001b[0;34m(table, cursor, tablename, schema, commit, truncate)\u001b[0m\n\u001b[1;32m    526\u001b[0m     \u001b[0minsertquery\u001b[0m \u001b[1;33m=\u001b[0m \u001b[0mSQL_INSERT_QUERY\u001b[0m \u001b[1;33m%\u001b[0m \u001b[1;33m(\u001b[0m\u001b[0mtablename\u001b[0m\u001b[1;33m,\u001b[0m \u001b[0minsertcolnames\u001b[0m\u001b[1;33m,\u001b[0m \u001b[0mplaceholders\u001b[0m\u001b[1;33m)\u001b[0m\u001b[1;33m\u001b[0m\u001b[0m\n\u001b[1;32m    527\u001b[0m     \u001b[0mdebug\u001b[0m\u001b[1;33m(\u001b[0m\u001b[1;34m'insert data via query %r'\u001b[0m \u001b[1;33m%\u001b[0m \u001b[0minsertquery\u001b[0m\u001b[1;33m)\u001b[0m\u001b[1;33m\u001b[0m\u001b[0m\n\u001b[0;32m--> 528\u001b[0;31m     \u001b[0mcursor\u001b[0m\u001b[1;33m.\u001b[0m\u001b[0mexecutemany\u001b[0m\u001b[1;33m(\u001b[0m\u001b[0minsertquery\u001b[0m\u001b[1;33m,\u001b[0m \u001b[0mit\u001b[0m\u001b[1;33m)\u001b[0m\u001b[1;33m\u001b[0m\u001b[0m\n\u001b[0m\u001b[1;32m    529\u001b[0m \u001b[1;33m\u001b[0m\u001b[0m\n\u001b[1;32m    530\u001b[0m     \u001b[1;31m# N.B., don't close the cursor, leave that to the application\u001b[0m\u001b[1;33m\u001b[0m\u001b[1;33m\u001b[0m\u001b[0m\n",
      "\u001b[0;32mC:\\Program Files\\Anaconda2\\lib\\site-packages\\MySQLdb\\cursors.pyc\u001b[0m in \u001b[0;36mexecutemany\u001b[0;34m(self, query, args)\u001b[0m\n\u001b[1;32m    204\u001b[0m             \u001b[0mr\u001b[0m \u001b[1;33m=\u001b[0m \u001b[1;36m0\u001b[0m\u001b[1;33m\u001b[0m\u001b[0m\n\u001b[1;32m    205\u001b[0m             \u001b[1;32mfor\u001b[0m \u001b[0ma\u001b[0m \u001b[1;32min\u001b[0m \u001b[0margs\u001b[0m\u001b[1;33m:\u001b[0m\u001b[1;33m\u001b[0m\u001b[0m\n\u001b[0;32m--> 206\u001b[0;31m                 \u001b[0mr\u001b[0m \u001b[1;33m=\u001b[0m \u001b[0mr\u001b[0m \u001b[1;33m+\u001b[0m \u001b[0mself\u001b[0m\u001b[1;33m.\u001b[0m\u001b[0mexecute\u001b[0m\u001b[1;33m(\u001b[0m\u001b[0mquery\u001b[0m\u001b[1;33m,\u001b[0m \u001b[0ma\u001b[0m\u001b[1;33m)\u001b[0m\u001b[1;33m\u001b[0m\u001b[0m\n\u001b[0m\u001b[1;32m    207\u001b[0m             \u001b[1;32mreturn\u001b[0m \u001b[0mr\u001b[0m\u001b[1;33m\u001b[0m\u001b[0m\n\u001b[1;32m    208\u001b[0m         \u001b[0mp\u001b[0m \u001b[1;33m=\u001b[0m \u001b[0mm\u001b[0m\u001b[1;33m.\u001b[0m\u001b[0mstart\u001b[0m\u001b[1;33m(\u001b[0m\u001b[1;36m1\u001b[0m\u001b[1;33m)\u001b[0m\u001b[1;33m\u001b[0m\u001b[0m\n",
      "\u001b[0;32mC:\\Program Files\\Anaconda2\\lib\\site-packages\\MySQLdb\\cursors.pyc\u001b[0m in \u001b[0;36mexecute\u001b[0;34m(self, query, args)\u001b[0m\n\u001b[1;32m    172\u001b[0m             \u001b[1;32mdel\u001b[0m \u001b[0mtb\u001b[0m\u001b[1;33m\u001b[0m\u001b[0m\n\u001b[1;32m    173\u001b[0m             \u001b[0mself\u001b[0m\u001b[1;33m.\u001b[0m\u001b[0mmessages\u001b[0m\u001b[1;33m.\u001b[0m\u001b[0mappend\u001b[0m\u001b[1;33m(\u001b[0m\u001b[1;33m(\u001b[0m\u001b[0mexc\u001b[0m\u001b[1;33m,\u001b[0m \u001b[0mvalue\u001b[0m\u001b[1;33m)\u001b[0m\u001b[1;33m)\u001b[0m\u001b[1;33m\u001b[0m\u001b[0m\n\u001b[0;32m--> 174\u001b[0;31m             \u001b[0mself\u001b[0m\u001b[1;33m.\u001b[0m\u001b[0merrorhandler\u001b[0m\u001b[1;33m(\u001b[0m\u001b[0mself\u001b[0m\u001b[1;33m,\u001b[0m \u001b[0mexc\u001b[0m\u001b[1;33m,\u001b[0m \u001b[0mvalue\u001b[0m\u001b[1;33m)\u001b[0m\u001b[1;33m\u001b[0m\u001b[0m\n\u001b[0m\u001b[1;32m    175\u001b[0m         \u001b[0mself\u001b[0m\u001b[1;33m.\u001b[0m\u001b[0m_executed\u001b[0m \u001b[1;33m=\u001b[0m \u001b[0mquery\u001b[0m\u001b[1;33m\u001b[0m\u001b[0m\n\u001b[1;32m    176\u001b[0m         \u001b[1;32mif\u001b[0m \u001b[1;32mnot\u001b[0m \u001b[0mself\u001b[0m\u001b[1;33m.\u001b[0m\u001b[0m_defer_warnings\u001b[0m\u001b[1;33m:\u001b[0m \u001b[0mself\u001b[0m\u001b[1;33m.\u001b[0m\u001b[0m_warning_check\u001b[0m\u001b[1;33m(\u001b[0m\u001b[1;33m)\u001b[0m\u001b[1;33m\u001b[0m\u001b[0m\n",
      "\u001b[0;32mC:\\Program Files\\Anaconda2\\lib\\site-packages\\MySQLdb\\connections.pyc\u001b[0m in \u001b[0;36mdefaulterrorhandler\u001b[0;34m(***failed resolving arguments***)\u001b[0m\n\u001b[1;32m     34\u001b[0m     \u001b[1;32mdel\u001b[0m \u001b[0mcursor\u001b[0m\u001b[1;33m\u001b[0m\u001b[0m\n\u001b[1;32m     35\u001b[0m     \u001b[1;32mdel\u001b[0m \u001b[0mconnection\u001b[0m\u001b[1;33m\u001b[0m\u001b[0m\n\u001b[0;32m---> 36\u001b[0;31m     \u001b[1;32mraise\u001b[0m \u001b[0merrorclass\u001b[0m\u001b[1;33m,\u001b[0m \u001b[0merrorvalue\u001b[0m\u001b[1;33m\u001b[0m\u001b[0m\n\u001b[0m\u001b[1;32m     37\u001b[0m \u001b[1;33m\u001b[0m\u001b[0m\n\u001b[1;32m     38\u001b[0m \u001b[0mre_numeric_part\u001b[0m \u001b[1;33m=\u001b[0m \u001b[0mre\u001b[0m\u001b[1;33m.\u001b[0m\u001b[0mcompile\u001b[0m\u001b[1;33m(\u001b[0m\u001b[1;34mr\"^(\\d+)\"\u001b[0m\u001b[1;33m)\u001b[0m\u001b[1;33m\u001b[0m\u001b[0m\n",
      "\u001b[0;31mOperationalError\u001b[0m: (1054, \"Unknown column 'old_user_id' in 'field list'\")"
     ]
    }
   ],
   "source": [
    "cur.execute('SET SQL_MODE=ANSI_QUOTES')\n",
    "t8.appenddb(cur,'dim_users',schema='yelp_pittsburgh',commit=True)"
   ]
  },
  {
   "cell_type": "markdown",
   "metadata": {},
   "source": [
    "#### Now we can find all our data in MySQL server:"
   ]
  },
  {
   "cell_type": "code",
   "execution_count": 140,
   "metadata": {
    "collapsed": false
   },
   "outputs": [
    {
     "name": "stdout",
     "output_type": "stream",
     "text": [
      "(('North Korea', 'AS', 0.0, 0L), ('Namibia', 'AF', 6.8, 380L), ('Nauru', 'OC', 1.0, 57L), ('Nepal', 'AS', 0.2, 11L), ('Netherlands', 'EU', 9.4, 529L), ('New Zealand', 'OC', 9.3, 457L), ('Nicaragua', None, 3.5, 197L), ('Niger', 'AF', 0.1, 6L), ('Nigeria', 'AF', 9.1, 49L), ('Niue', 'OC', 7.0, 395L), ('Norway', 'EU', 6.7, 369L), ('Neverland', None, 0.0, 0L), ('Neverland', None, 0.0, 0L))\n"
     ]
    }
   ],
   "source": [
    "cur.execute(\"\"\" SELECT * \n",
    "                FROM drinks.countries\n",
    "                WHERE country like 'N%' ;\"\"\")\n",
    "\n",
    "print cur.fetchall()"
   ]
  },
  {
   "cell_type": "markdown",
   "metadata": {},
   "source": [
    "## P.S. - Pandas\n",
    "\n",
    "Another very commonly used package for data manipulation is Pandas (http://pandas.pydata.org/), used not only for ETL but for data analysis, visuialization and data mining. You're welcome to check out this package and use it in your projects."
   ]
  },
  {
   "cell_type": "code",
   "execution_count": 17,
   "metadata": {
    "collapsed": false
   },
   "outputs": [],
   "source": [
    "cur.close()"
   ]
  },
  {
   "cell_type": "code",
   "execution_count": null,
   "metadata": {
    "collapsed": true
   },
   "outputs": [],
   "source": []
  }
 ],
 "metadata": {
  "anaconda-cloud": {},
  "kernelspec": {
   "display_name": "Python [default]",
   "language": "python",
   "name": "python2"
  },
  "language_info": {
   "codemirror_mode": {
    "name": "ipython",
    "version": 2
   },
   "file_extension": ".py",
   "mimetype": "text/x-python",
   "name": "python",
   "nbconvert_exporter": "python",
   "pygments_lexer": "ipython2",
   "version": "2.7.12"
  }
 },
 "nbformat": 4,
 "nbformat_minor": 0
}
