{
 "cells": [
  {
   "cell_type": "markdown",
   "metadata": {},
   "source": [
    "# ETL with Python"
   ]
  },
  {
   "cell_type": "markdown",
   "metadata": {},
   "source": [
    "# pETL package\n",
    "pETL is a general purpose Python package for extracting, transforming and loading tables of data.\n",
    "<br>\n",
    "Extract & Load : http://petl.readthedocs.io/en/latest/io.html\n",
    "<br>\n",
    "transform: http://petl.readthedocs.io/en/latest/transform.html"
   ]
  },
  {
   "cell_type": "markdown",
   "metadata": {},
   "source": [
    "install petl by running ```pip install petl``` in Command-Line"
   ]
  },
  {
   "cell_type": "code",
   "execution_count": 1,
   "metadata": {
    "collapsed": false
   },
   "outputs": [],
   "source": [
    "import petl as etl\n",
    "import csv"
   ]
  },
  {
   "cell_type": "markdown",
   "metadata": {},
   "source": [
    "# Extract"
   ]
  },
  {
   "cell_type": "markdown",
   "metadata": {},
   "source": [
    "### Extract JSON file and display"
   ]
  },
  {
   "cell_type": "code",
   "execution_count": 2,
   "metadata": {
    "collapsed": true
   },
   "outputs": [],
   "source": [
    "filename= 'yelp_academic_dataset_business_PA.json'"
   ]
  },
  {
   "cell_type": "code",
   "execution_count": 3,
   "metadata": {
    "collapsed": false
   },
   "outputs": [
    {
     "data": {
      "text/html": [
       "<table class='petl'>\n",
       "<thead>\n",
       "<tr>\n",
       "<th>city</th>\n",
       "<th>review_count</th>\n",
       "<th>neighborhood</th>\n",
       "<th>name</th>\n",
       "<th>business_id</th>\n",
       "<th>longitude</th>\n",
       "<th>postal_code</th>\n",
       "<th>hours</th>\n",
       "<th>state</th>\n",
       "<th>is_open</th>\n",
       "<th>stars</th>\n",
       "<th>address</th>\n",
       "<th>latitude</th>\n",
       "<th>attributes</th>\n",
       "<th>type</th>\n",
       "<th>categories</th>\n",
       "</tr>\n",
       "</thead>\n",
       "<tbody>\n",
       "<tr>\n",
       "<td>Oakdale</td>\n",
       "<td style='text-align: right'>4</td>\n",
       "<td>None</td>\n",
       "<td>Plush Salon and Spa</td>\n",
       "<td>cnGIivYRLxpF7tBVR_JwWA</td>\n",
       "<td style='text-align: right'>-80.1745398943</td>\n",
       "<td style='text-align: right'>15071.0</td>\n",
       "<td>[u'Tuesday 10:0-21:0', u'Wednesday 10:0-21:0', u'Thursday 10:0-21:0', u'Friday 10:0-18:0', u'Saturday 9:0-16:0']</td>\n",
       "<td>PA</td>\n",
       "<td style='text-align: right'>1</td>\n",
       "<td style='text-align: right'>4.0</td>\n",
       "<td>7014 Steubenville Pike</td>\n",
       "<td style='text-align: right'>40.4445439533</td>\n",
       "<td>[u'AcceptsInsurance: False', u'BusinessAcceptsCreditCards: True', u\"BusinessParking: {'garage': False, 'street': False, 'validated': False, 'lot': True, 'valet': False}\", u'ByAppointmentOnly: True', u\"HairSpecializesIn: {'coloring': False, 'africanamerican': False, 'curly': False, 'perms': False, 'kids': False, 'extensions': False, 'asian': False, 'straightperms': False}\", u'RestaurantsPriceRange2: 3']</td>\n",
       "<td>business</td>\n",
       "<td>[u'Hair Removal', u'Beauty & Spas', u'Blow Dry/Out Services', u'Hair Stylists', u'Hair Extensions', u'Massage', u'Permanent Makeup', u'Waxing', u'Hair Salons']</td>\n",
       "</tr>\n",
       "<tr>\n",
       "<td>Pittsburgh</td>\n",
       "<td style='text-align: right'>8</td>\n",
       "<td>West View</td>\n",
       "<td>Benjamin Franklin Plumbing</td>\n",
       "<td>P3LisOj7DktgGa7C5FYpnA</td>\n",
       "<td style='text-align: right'>-80.0498873</td>\n",
       "<td style='text-align: right'>15237.0</td>\n",
       "<td>[u'Monday 9:30-9:0', u'Tuesday 9:30-9:0', u'Wednesday 9:30-9:0', u'Thursday 9:30-9:0', u'Friday 9:30-9:0', u'Saturday 9:30-9:0', u'Sunday 9:30-9:0']</td>\n",
       "<td>PA</td>\n",
       "<td style='text-align: right'>1</td>\n",
       "<td style='text-align: right'>4.0</td>\n",
       "<td>451 Rochester Rd</td>\n",
       "<td style='text-align: right'>40.5341627</td>\n",
       "<td>[u'BusinessAcceptsCreditCards: True']</td>\n",
       "<td>business</td>\n",
       "<td>[u'Plumbing', u'Home Services']</td>\n",
       "</tr>\n",
       "<tr>\n",
       "<td>Pittsburgh</td>\n",
       "<td style='text-align: right'>102</td>\n",
       "<td>North Side</td>\n",
       "<td>Rivertowne</td>\n",
       "<td>93otbGHE0s0m-lU1osvg9w</td>\n",
       "<td style='text-align: right'>-80.0108802</td>\n",
       "<td style='text-align: right'>15212.0</td>\n",
       "<td>None</td>\n",
       "<td>PA</td>\n",
       "<td style='text-align: right'>1</td>\n",
       "<td style='text-align: right'>3.0</td>\n",
       "<td>337 N Shore Dr</td>\n",
       "<td style='text-align: right'>40.4459861</td>\n",
       "<td>[u'Alcohol: full_bar', u\"Ambience: {'romantic': False, 'intimate': False, 'classy': False, 'hipster': False, 'divey': False, 'touristy': False, 'trendy': False, 'upscale': False, 'casual': True}\", u\"BestNights: {'monday': False, 'tuesday': False, 'friday': True, 'wednesday': False, 'thursday': False, 'sunday': True, 'saturday': True}\", u'BikeParking: True', u'BusinessAcceptsCreditCards: True', u\"BusinessParking: {'garage': False, 'street': True, 'validated': False, 'lot': False, 'valet': False}\", u'Caters: False', u'CoatCheck: False', u'GoodForDancing: False', u'GoodForKids: True', u\"GoodForMeal: {'dessert': False, 'latenight': False, 'lunch': True, 'dinner': True, 'breakfast': False, 'brunch': False}\", u'HappyHour: True', u'HasTV: True', u\"Music: {'dj': False, 'background_music': False, 'no_music': False, 'karaoke': False, 'live': False, 'video': False, 'jukebox': False}\", u'NoiseLevel: loud', u'OutdoorSeating: True', u'RestaurantsAttire: casual', u'RestaurantsDelivery: False', u'RestaurantsGoodForGroups: True', u'RestaurantsPriceRange2: 2', u'RestaurantsReservations: False', u'RestaurantsTableService: True', u'RestaurantsTakeOut: True', u'Smoking: no', u'WheelchairAccessible: True', u'WiFi: free']</td>\n",
       "<td>business</td>\n",
       "<td>[u'American (New)', u'Pubs', u'Nightlife', u'Bars', u'Restaurants']</td>\n",
       "</tr>\n",
       "<tr>\n",
       "<td>Pittsburgh</td>\n",
       "<td style='text-align: right'>5</td>\n",
       "<td>Greentree</td>\n",
       "<td>City Vista</td>\n",
       "<td>csdZolWIWvkIHIqsCmV6sg</td>\n",
       "<td style='text-align: right'>-80.037872133</td>\n",
       "<td style='text-align: right'>15220.0</td>\n",
       "<td>[u'Monday 10:0-18:0', u'Tuesday 10:0-18:0', u'Wednesday 10:0-18:0', u'Thursday 10:0-18:0', u'Friday 10:0-18:0', u'Saturday 10:0-17:0', u'Sunday 13:0-17:0']</td>\n",
       "<td>PA</td>\n",
       "<td style='text-align: right'>1</td>\n",
       "<td style='text-align: right'>2.0</td>\n",
       "<td>325 Elizabeth Dr</td>\n",
       "<td style='text-align: right'>40.4263863165</td>\n",
       "<td>[u'BusinessAcceptsCreditCards: True', u'ByAppointmentOnly: False']</td>\n",
       "<td>business</td>\n",
       "<td>[u'Hotels & Travel', u'Home Services', u'Hotels', u'Apartments', u'Event Planning & Services', u'Real Estate Services', u'Real Estate']</td>\n",
       "</tr>\n",
       "<tr>\n",
       "<td>Etna</td>\n",
       "<td style='text-align: right'>38</td>\n",
       "<td>Etna</td>\n",
       "<td>The Scarehouse</td>\n",
       "<td>kdjrQ2tuY4eqo4JZWIx50Q</td>\n",
       "<td style='text-align: right'>-79.944321</td>\n",
       "<td style='text-align: right'>15223.0</td>\n",
       "<td>[u'Thursday 19:0-22:0', u'Friday 19:0-0:0', u'Saturday 19:0-0:0', u'Sunday 19:0-22:0']</td>\n",
       "<td>PA</td>\n",
       "<td style='text-align: right'>1</td>\n",
       "<td style='text-align: right'>3.5</td>\n",
       "<td>118 Locust St</td>\n",
       "<td style='text-align: right'>40.499285</td>\n",
       "<td>[u'GoodForKids: False']</td>\n",
       "<td>business</td>\n",
       "<td>[u'Performing Arts', u'Arts & Entertainment']</td>\n",
       "</tr>\n",
       "<tr>\n",
       "<td>Pittsburgh</td>\n",
       "<td style='text-align: right'>5</td>\n",
       "<td>Bloomfield</td>\n",
       "<td>Verizon Wireless Premium Retailer</td>\n",
       "<td>h7ZW6c1Vi9V6_-gd2Ch_4g</td>\n",
       "<td style='text-align: right'>-79.946995</td>\n",
       "<td style='text-align: right'>15213.0</td>\n",
       "<td>[u'Monday 10:0-21:0', u'Tuesday 10:0-21:0', u'Wednesday 10:0-21:0', u'Thursday 10:0-21:0', u'Friday 10:0-21:0', u'Saturday 10:0-21:0', u'Sunday 11:0-17:0']</td>\n",
       "<td>PA</td>\n",
       "<td style='text-align: right'>1</td>\n",
       "<td style='text-align: right'>2.0</td>\n",
       "<td>4815 Centre Ave</td>\n",
       "<td style='text-align: right'>40.453725</td>\n",
       "<td>[u'BusinessAcceptsCreditCards: True', u\"BusinessParking: {'garage': False, 'street': False, 'validated': False, 'lot': True, 'valet': False}\", u'DogsAllowed: True', u'RestaurantsPriceRange2: 4', u'WheelchairAccessible: True']</td>\n",
       "<td>business</td>\n",
       "<td>[u'Shopping', u'Mobile Phones']</td>\n",
       "</tr>\n",
       "<tr>\n",
       "<td>Bridgeville</td>\n",
       "<td style='text-align: right'>8</td>\n",
       "<td>None</td>\n",
       "<td>My Favorite Sweet Shoppe</td>\n",
       "<td>CO7TpBuNFr_K0MTRaf9prw</td>\n",
       "<td style='text-align: right'>-80.0951019</td>\n",
       "<td style='text-align: right'>15017.0</td>\n",
       "<td>[u'Monday 10:0-20:0', u'Tuesday 10:0-20:0', u'Wednesday 10:0-20:0', u'Thursday 10:0-20:0', u'Friday 10:0-20:0', u'Saturday 10:0-20:0', u'Sunday 10:0-18:0']</td>\n",
       "<td>PA</td>\n",
       "<td style='text-align: right'>1</td>\n",
       "<td style='text-align: right'>5.0</td>\n",
       "<td>1597 Washington Pike</td>\n",
       "<td style='text-align: right'>40.3828646</td>\n",
       "<td>[u'BikeParking: False', u'BusinessAcceptsCreditCards: True', u\"BusinessParking: {'garage': False, 'street': False, 'validated': False, 'lot': False, 'valet': False}\", u'DogsAllowed: False', u'RestaurantsPriceRange2: 2', u'RestaurantsTakeOut: True', u'WheelchairAccessible: True']</td>\n",
       "<td>business</td>\n",
       "<td>[u'Chocolatiers & Shops', u'Candy Stores', u'Desserts', u'Gelato', u'Specialty Food', u'Food']</td>\n",
       "</tr>\n",
       "<tr>\n",
       "<td>Pittsburgh</td>\n",
       "<td style='text-align: right'>3</td>\n",
       "<td>Strip District</td>\n",
       "<td>Dulcinea Bakeshop</td>\n",
       "<td>HWrbZS1mxVRj2Y2VwMmDMg</td>\n",
       "<td style='text-align: right'>-79.9777282029</td>\n",
       "<td style='text-align: right'>15222.0</td>\n",
       "<td>None</td>\n",
       "<td>PA</td>\n",
       "<td style='text-align: right'>0</td>\n",
       "<td style='text-align: right'>4.5</td>\n",
       "<td>2627 Penn Ave</td>\n",
       "<td style='text-align: right'>40.4553505818</td>\n",
       "<td>[u'BikeParking: True', u'BusinessAcceptsCreditCards: True', u\"BusinessParking: {'garage': False, 'street': False, 'validated': False, 'lot': False, 'valet': False}\", u'RestaurantsPriceRange2: 1']</td>\n",
       "<td>business</td>\n",
       "<td>[u'Food', u'Bakeries']</td>\n",
       "</tr>\n",
       "<tr>\n",
       "<td>Pittsburgh</td>\n",
       "<td style='text-align: right'>145</td>\n",
       "<td>Oakland</td>\n",
       "<td>Conflict Kitchen</td>\n",
       "<td>jDqaz1jKdeWk_fTVCzc1Pg</td>\n",
       "<td style='text-align: right'>-79.9527347618</td>\n",
       "<td style='text-align: right'>15213.0</td>\n",
       "<td>[u'Monday 11:0-19:0', u'Tuesday 11:0-19:0', u'Wednesday 11:0-19:0', u'Thursday 11:0-19:0', u'Friday 11:0-19:0', u'Saturday 11:0-19:0', u'Sunday 11:0-19:0']</td>\n",
       "<td>PA</td>\n",
       "<td style='text-align: right'>1</td>\n",
       "<td style='text-align: right'>4.5</td>\n",
       "<td>221 Schenley Dr</td>\n",
       "<td style='text-align: right'>40.44258082</td>\n",
       "<td>[u'BikeParking: True', u'BusinessAcceptsCreditCards: True', u\"BusinessParking: {'garage': False, 'street': True, 'validated': False, 'lot': False, 'valet': False}\", u'ByAppointmentOnly: False', u\"GoodForMeal: {'dessert': False, 'latenight': False, 'lunch': False, 'dinner': False, 'breakfast': False, 'brunch': False}\", u'RestaurantsDelivery: False', u'RestaurantsPriceRange2: 1', u'RestaurantsTakeOut: True', u'WheelchairAccessible: True', u'RestaurantsAttire: casual', u'RestaurantsGoodForGroups: True']</td>\n",
       "<td>business</td>\n",
       "<td>[u'Food', u'Imported Food', u'Restaurants', u'Ethnic Food', u'Specialty Food']</td>\n",
       "</tr>\n",
       "<tr>\n",
       "<td>Pittsburgh</td>\n",
       "<td style='text-align: right'>25</td>\n",
       "<td>South Side</td>\n",
       "<td>Tusca Restaurant</td>\n",
       "<td>HYwbHY-srAOoH-t337DpMw</td>\n",
       "<td style='text-align: right'>-79.964962</td>\n",
       "<td style='text-align: right'>15203.0</td>\n",
       "<td>[u'Monday 11:30-21:0', u'Tuesday 11:30-21:0', u'Wednesday 11:30-21:0', u'Thursday 11:30-21:0', u'Friday 11:30-23:0', u'Friday 23:0-2:0', u'Saturday 11:30-23:0', u'Saturday 23:0-2:0', u'Sunday 11:30-21:0']</td>\n",
       "<td>PA</td>\n",
       "<td style='text-align: right'>0</td>\n",
       "<td style='text-align: right'>2.0</td>\n",
       "<td>2773 Sidney St</td>\n",
       "<td style='text-align: right'>40.4273611</td>\n",
       "<td>[u'Alcohol: full_bar', u'BYOB: False', u'BYOBCorkage: no', u'BusinessAcceptsCreditCards: True', u\"BusinessParking: {'garage': True, 'street': True, 'validated': False, 'lot': False, 'valet': False}\", u'GoodForKids: False', u\"GoodForMeal: {'dessert': False, 'latenight': False, 'lunch': False, 'dinner': True, 'breakfast': False, 'brunch': False}\", u'HasTV: False', u'OutdoorSeating: True', u'RestaurantsAttire: casual', u'RestaurantsDelivery: False', u'RestaurantsGoodForGroups: True', u'RestaurantsPriceRange2: 3', u'RestaurantsReservations: True', u'RestaurantsTableService: True', u'RestaurantsTakeOut: False', u'WheelchairAccessible: True']</td>\n",
       "<td>business</td>\n",
       "<td>[u'Tapas Bars', u'Restaurants']</td>\n",
       "</tr>\n",
       "</tbody>\n",
       "</table>\n",
       "<p><strong>...</strong></p>"
      ]
     },
     "metadata": {},
     "output_type": "display_data"
    }
   ],
   "source": [
    "t1 = etl.fromjson(filename)\n",
    "t1.display(10)"
   ]
  },
  {
   "cell_type": "markdown",
   "metadata": {},
   "source": [
    "#### See the number of records"
   ]
  },
  {
   "cell_type": "code",
   "execution_count": 4,
   "metadata": {
    "collapsed": false
   },
   "outputs": [
    {
     "data": {
      "text/plain": [
       "8091"
      ]
     },
     "execution_count": 4,
     "metadata": {},
     "output_type": "execute_result"
    }
   ],
   "source": [
    "t1.nrows()"
   ]
  },
  {
   "cell_type": "markdown",
   "metadata": {},
   "source": [
    "### Learning types"
   ]
  },
  {
   "cell_type": "code",
   "execution_count": 5,
   "metadata": {
    "collapsed": false
   },
   "outputs": [
    {
     "ename": "NameError",
     "evalue": "name 'fields' is not defined",
     "output_type": "error",
     "traceback": [
      "\u001b[0;31m---------------------------------------------------------------------------\u001b[0m",
      "\u001b[0;31mNameError\u001b[0m                                 Traceback (most recent call last)",
      "\u001b[0;32m<ipython-input-5-8f9bb6d0bae3>\u001b[0m in \u001b[0;36m<module>\u001b[0;34m()\u001b[0m\n\u001b[0;32m----> 1\u001b[0;31m \u001b[1;32mfor\u001b[0m \u001b[0mf\u001b[0m \u001b[1;32min\u001b[0m \u001b[0mfields\u001b[0m\u001b[1;33m:\u001b[0m\u001b[1;33m\u001b[0m\u001b[0m\n\u001b[0m\u001b[1;32m      2\u001b[0m     \u001b[1;32mprint\u001b[0m \u001b[0mf\u001b[0m\u001b[1;33m,\u001b[0m\u001b[1;34m'\\t'\u001b[0m\u001b[1;33m,\u001b[0m \u001b[0mt1\u001b[0m\u001b[1;33m.\u001b[0m\u001b[0mtypecounter\u001b[0m\u001b[1;33m(\u001b[0m\u001b[0mf\u001b[0m\u001b[1;33m)\u001b[0m\u001b[1;33m\u001b[0m\u001b[0m\n",
      "\u001b[0;31mNameError\u001b[0m: name 'fields' is not defined"
     ]
    }
   ],
   "source": [
    "for f in fields:\n",
    "    print f,'\\t', t1.typecounter(f)"
   ]
  },
  {
   "cell_type": "markdown",
   "metadata": {},
   "source": [
    "_______________________________"
   ]
  },
  {
   "cell_type": "markdown",
   "metadata": {},
   "source": [
    "###Extract csv file- for mapping the categories"
   ]
  },
  {
   "cell_type": "code",
   "execution_count": 6,
   "metadata": {
    "collapsed": false
   },
   "outputs": [
    {
     "data": {
      "text/html": [
       "<table class='petl'>\n",
       "<thead>\n",
       "<tr>\n",
       "<th>Text</th>\n",
       "<th>Category</th>\n",
       "<th></th>\n",
       "<th></th>\n",
       "<th></th>\n",
       "<th></th>\n",
       "<th></th>\n",
       "<th></th>\n",
       "<th></th>\n",
       "<th></th>\n",
       "<th></th>\n",
       "<th></th>\n",
       "</tr>\n",
       "</thead>\n",
       "<tbody>\n",
       "<tr>\n",
       "<td>Plumbing</td>\n",
       "<td>10</td>\n",
       "<td></td>\n",
       "<td></td>\n",
       "<td></td>\n",
       "<td></td>\n",
       "<td></td>\n",
       "<td></td>\n",
       "<td></td>\n",
       "<td></td>\n",
       "<td></td>\n",
       "<td></td>\n",
       "</tr>\n",
       "<tr>\n",
       "<td>American (New)</td>\n",
       "<td>1</td>\n",
       "<td></td>\n",
       "<td></td>\n",
       "<td></td>\n",
       "<td></td>\n",
       "<td></td>\n",
       "<td></td>\n",
       "<td></td>\n",
       "<td></td>\n",
       "<td></td>\n",
       "<td></td>\n",
       "</tr>\n",
       "<tr>\n",
       "<td>Hotels & Travel</td>\n",
       "<td>7</td>\n",
       "<td></td>\n",
       "<td></td>\n",
       "<td></td>\n",
       "<td></td>\n",
       "<td></td>\n",
       "<td></td>\n",
       "<td></td>\n",
       "<td></td>\n",
       "<td></td>\n",
       "<td></td>\n",
       "</tr>\n",
       "<tr>\n",
       "<td>Shopping</td>\n",
       "<td>3</td>\n",
       "<td></td>\n",
       "<td></td>\n",
       "<td></td>\n",
       "<td></td>\n",
       "<td></td>\n",
       "<td></td>\n",
       "<td></td>\n",
       "<td></td>\n",
       "<td></td>\n",
       "<td></td>\n",
       "</tr>\n",
       "<tr>\n",
       "<td>Food</td>\n",
       "<td>1</td>\n",
       "<td></td>\n",
       "<td></td>\n",
       "<td></td>\n",
       "<td></td>\n",
       "<td></td>\n",
       "<td></td>\n",
       "<td></td>\n",
       "<td></td>\n",
       "<td></td>\n",
       "<td></td>\n",
       "</tr>\n",
       "</tbody>\n",
       "</table>\n",
       "<p><strong>...</strong></p>"
      ]
     },
     "metadata": {},
     "output_type": "display_data"
    }
   ],
   "source": [
    "csv_filename = \"category.csv\"\n",
    "map_categories_table = etl.fromcsv(csv_filename)\n",
    "map_categories_table.display(5)"
   ]
  },
  {
   "cell_type": "markdown",
   "metadata": {},
   "source": [
    "###Create dic to map all categories to 10 main "
   ]
  },
  {
   "cell_type": "code",
   "execution_count": 7,
   "metadata": {
    "collapsed": false
   },
   "outputs": [],
   "source": [
    "categories_dic = {}\n",
    "for row in map_categories_table:\n",
    "    categories_dic[row[0]] = row[1]\n"
   ]
  },
  {
   "cell_type": "markdown",
   "metadata": {},
   "source": [
    "# Transform"
   ]
  },
  {
   "cell_type": "code",
   "execution_count": null,
   "metadata": {
    "collapsed": true
   },
   "outputs": [],
   "source": []
  },
  {
   "cell_type": "markdown",
   "metadata": {},
   "source": [
    "#### We can add a new field based on row calculation - for example total price"
   ]
  },
  {
   "cell_type": "markdown",
   "metadata": {},
   "source": [
    "### Lets cut out the relevant columns in the order we want- not working at the moment"
   ]
  },
  {
   "cell_type": "code",
   "execution_count": 8,
   "metadata": {
    "collapsed": false
   },
   "outputs": [
    {
     "data": {
      "text/html": [
       "<table class='petl'>\n",
       "<thead>\n",
       "<tr>\n",
       "<th>city</th>\n",
       "<th>review_count</th>\n",
       "<th>neighborhood</th>\n",
       "<th>name</th>\n",
       "<th>business_id</th>\n",
       "<th>longitude</th>\n",
       "<th>postal_code</th>\n",
       "<th>hours</th>\n",
       "<th>state</th>\n",
       "<th>is_open</th>\n",
       "<th>stars</th>\n",
       "<th>address</th>\n",
       "<th>latitude</th>\n",
       "<th>attributes</th>\n",
       "<th>type</th>\n",
       "<th>categories</th>\n",
       "</tr>\n",
       "</thead>\n",
       "<tbody>\n",
       "<tr>\n",
       "<td>Pittsburgh</td>\n",
       "<td style='text-align: right'>8</td>\n",
       "<td>West View</td>\n",
       "<td>Benjamin Franklin Plumbing</td>\n",
       "<td>P3LisOj7DktgGa7C5FYpnA</td>\n",
       "<td style='text-align: right'>-80.0498873</td>\n",
       "<td style='text-align: right'>15237.0</td>\n",
       "<td>[u'Monday 9:30-9:0', u'Tuesday 9:30-9:0', u'Wednesday 9:30-9:0', u'Thursday 9:30-9:0', u'Friday 9:30-9:0', u'Saturday 9:30-9:0', u'Sunday 9:30-9:0']</td>\n",
       "<td>PA</td>\n",
       "<td style='text-align: right'>1</td>\n",
       "<td style='text-align: right'>4.0</td>\n",
       "<td>451 Rochester Rd</td>\n",
       "<td style='text-align: right'>40.5341627</td>\n",
       "<td>[u'BusinessAcceptsCreditCards: True']</td>\n",
       "<td>business</td>\n",
       "<td>[u'Plumbing', u'Home Services']</td>\n",
       "</tr>\n",
       "<tr>\n",
       "<td>Pittsburgh</td>\n",
       "<td style='text-align: right'>102</td>\n",
       "<td>North Side</td>\n",
       "<td>Rivertowne</td>\n",
       "<td>93otbGHE0s0m-lU1osvg9w</td>\n",
       "<td style='text-align: right'>-80.0108802</td>\n",
       "<td style='text-align: right'>15212.0</td>\n",
       "<td>None</td>\n",
       "<td>PA</td>\n",
       "<td style='text-align: right'>1</td>\n",
       "<td style='text-align: right'>3.0</td>\n",
       "<td>337 N Shore Dr</td>\n",
       "<td style='text-align: right'>40.4459861</td>\n",
       "<td>[u'Alcohol: full_bar', u\"Ambience: {'romantic': False, 'intimate': False, 'classy': False, 'hipster': False, 'divey': False, 'touristy': False, 'trendy': False, 'upscale': False, 'casual': True}\", u\"BestNights: {'monday': False, 'tuesday': False, 'friday': True, 'wednesday': False, 'thursday': False, 'sunday': True, 'saturday': True}\", u'BikeParking: True', u'BusinessAcceptsCreditCards: True', u\"BusinessParking: {'garage': False, 'street': True, 'validated': False, 'lot': False, 'valet': False}\", u'Caters: False', u'CoatCheck: False', u'GoodForDancing: False', u'GoodForKids: True', u\"GoodForMeal: {'dessert': False, 'latenight': False, 'lunch': True, 'dinner': True, 'breakfast': False, 'brunch': False}\", u'HappyHour: True', u'HasTV: True', u\"Music: {'dj': False, 'background_music': False, 'no_music': False, 'karaoke': False, 'live': False, 'video': False, 'jukebox': False}\", u'NoiseLevel: loud', u'OutdoorSeating: True', u'RestaurantsAttire: casual', u'RestaurantsDelivery: False', u'RestaurantsGoodForGroups: True', u'RestaurantsPriceRange2: 2', u'RestaurantsReservations: False', u'RestaurantsTableService: True', u'RestaurantsTakeOut: True', u'Smoking: no', u'WheelchairAccessible: True', u'WiFi: free']</td>\n",
       "<td>business</td>\n",
       "<td>[u'American (New)', u'Pubs', u'Nightlife', u'Bars', u'Restaurants']</td>\n",
       "</tr>\n",
       "<tr>\n",
       "<td>Pittsburgh</td>\n",
       "<td style='text-align: right'>5</td>\n",
       "<td>Greentree</td>\n",
       "<td>City Vista</td>\n",
       "<td>csdZolWIWvkIHIqsCmV6sg</td>\n",
       "<td style='text-align: right'>-80.037872133</td>\n",
       "<td style='text-align: right'>15220.0</td>\n",
       "<td>[u'Monday 10:0-18:0', u'Tuesday 10:0-18:0', u'Wednesday 10:0-18:0', u'Thursday 10:0-18:0', u'Friday 10:0-18:0', u'Saturday 10:0-17:0', u'Sunday 13:0-17:0']</td>\n",
       "<td>PA</td>\n",
       "<td style='text-align: right'>1</td>\n",
       "<td style='text-align: right'>2.0</td>\n",
       "<td>325 Elizabeth Dr</td>\n",
       "<td style='text-align: right'>40.4263863165</td>\n",
       "<td>[u'BusinessAcceptsCreditCards: True', u'ByAppointmentOnly: False']</td>\n",
       "<td>business</td>\n",
       "<td>[u'Hotels & Travel', u'Home Services', u'Hotels', u'Apartments', u'Event Planning & Services', u'Real Estate Services', u'Real Estate']</td>\n",
       "</tr>\n",
       "<tr>\n",
       "<td>Pittsburgh</td>\n",
       "<td style='text-align: right'>5</td>\n",
       "<td>Bloomfield</td>\n",
       "<td>Verizon Wireless Premium Retailer</td>\n",
       "<td>h7ZW6c1Vi9V6_-gd2Ch_4g</td>\n",
       "<td style='text-align: right'>-79.946995</td>\n",
       "<td style='text-align: right'>15213.0</td>\n",
       "<td>[u'Monday 10:0-21:0', u'Tuesday 10:0-21:0', u'Wednesday 10:0-21:0', u'Thursday 10:0-21:0', u'Friday 10:0-21:0', u'Saturday 10:0-21:0', u'Sunday 11:0-17:0']</td>\n",
       "<td>PA</td>\n",
       "<td style='text-align: right'>1</td>\n",
       "<td style='text-align: right'>2.0</td>\n",
       "<td>4815 Centre Ave</td>\n",
       "<td style='text-align: right'>40.453725</td>\n",
       "<td>[u'BusinessAcceptsCreditCards: True', u\"BusinessParking: {'garage': False, 'street': False, 'validated': False, 'lot': True, 'valet': False}\", u'DogsAllowed: True', u'RestaurantsPriceRange2: 4', u'WheelchairAccessible: True']</td>\n",
       "<td>business</td>\n",
       "<td>[u'Shopping', u'Mobile Phones']</td>\n",
       "</tr>\n",
       "<tr>\n",
       "<td>Pittsburgh</td>\n",
       "<td style='text-align: right'>3</td>\n",
       "<td>Strip District</td>\n",
       "<td>Dulcinea Bakeshop</td>\n",
       "<td>HWrbZS1mxVRj2Y2VwMmDMg</td>\n",
       "<td style='text-align: right'>-79.9777282029</td>\n",
       "<td style='text-align: right'>15222.0</td>\n",
       "<td>None</td>\n",
       "<td>PA</td>\n",
       "<td style='text-align: right'>0</td>\n",
       "<td style='text-align: right'>4.5</td>\n",
       "<td>2627 Penn Ave</td>\n",
       "<td style='text-align: right'>40.4553505818</td>\n",
       "<td>[u'BikeParking: True', u'BusinessAcceptsCreditCards: True', u\"BusinessParking: {'garage': False, 'street': False, 'validated': False, 'lot': False, 'valet': False}\", u'RestaurantsPriceRange2: 1']</td>\n",
       "<td>business</td>\n",
       "<td>[u'Food', u'Bakeries']</td>\n",
       "</tr>\n",
       "<tr>\n",
       "<td>Pittsburgh</td>\n",
       "<td style='text-align: right'>145</td>\n",
       "<td>Oakland</td>\n",
       "<td>Conflict Kitchen</td>\n",
       "<td>jDqaz1jKdeWk_fTVCzc1Pg</td>\n",
       "<td style='text-align: right'>-79.9527347618</td>\n",
       "<td style='text-align: right'>15213.0</td>\n",
       "<td>[u'Monday 11:0-19:0', u'Tuesday 11:0-19:0', u'Wednesday 11:0-19:0', u'Thursday 11:0-19:0', u'Friday 11:0-19:0', u'Saturday 11:0-19:0', u'Sunday 11:0-19:0']</td>\n",
       "<td>PA</td>\n",
       "<td style='text-align: right'>1</td>\n",
       "<td style='text-align: right'>4.5</td>\n",
       "<td>221 Schenley Dr</td>\n",
       "<td style='text-align: right'>40.44258082</td>\n",
       "<td>[u'BikeParking: True', u'BusinessAcceptsCreditCards: True', u\"BusinessParking: {'garage': False, 'street': True, 'validated': False, 'lot': False, 'valet': False}\", u'ByAppointmentOnly: False', u\"GoodForMeal: {'dessert': False, 'latenight': False, 'lunch': False, 'dinner': False, 'breakfast': False, 'brunch': False}\", u'RestaurantsDelivery: False', u'RestaurantsPriceRange2: 1', u'RestaurantsTakeOut: True', u'WheelchairAccessible: True', u'RestaurantsAttire: casual', u'RestaurantsGoodForGroups: True']</td>\n",
       "<td>business</td>\n",
       "<td>[u'Food', u'Imported Food', u'Restaurants', u'Ethnic Food', u'Specialty Food']</td>\n",
       "</tr>\n",
       "<tr>\n",
       "<td>Pittsburgh</td>\n",
       "<td style='text-align: right'>25</td>\n",
       "<td>South Side</td>\n",
       "<td>Tusca Restaurant</td>\n",
       "<td>HYwbHY-srAOoH-t337DpMw</td>\n",
       "<td style='text-align: right'>-79.964962</td>\n",
       "<td style='text-align: right'>15203.0</td>\n",
       "<td>[u'Monday 11:30-21:0', u'Tuesday 11:30-21:0', u'Wednesday 11:30-21:0', u'Thursday 11:30-21:0', u'Friday 11:30-23:0', u'Friday 23:0-2:0', u'Saturday 11:30-23:0', u'Saturday 23:0-2:0', u'Sunday 11:30-21:0']</td>\n",
       "<td>PA</td>\n",
       "<td style='text-align: right'>0</td>\n",
       "<td style='text-align: right'>2.0</td>\n",
       "<td>2773 Sidney St</td>\n",
       "<td style='text-align: right'>40.4273611</td>\n",
       "<td>[u'Alcohol: full_bar', u'BYOB: False', u'BYOBCorkage: no', u'BusinessAcceptsCreditCards: True', u\"BusinessParking: {'garage': True, 'street': True, 'validated': False, 'lot': False, 'valet': False}\", u'GoodForKids: False', u\"GoodForMeal: {'dessert': False, 'latenight': False, 'lunch': False, 'dinner': True, 'breakfast': False, 'brunch': False}\", u'HasTV: False', u'OutdoorSeating: True', u'RestaurantsAttire: casual', u'RestaurantsDelivery: False', u'RestaurantsGoodForGroups: True', u'RestaurantsPriceRange2: 3', u'RestaurantsReservations: True', u'RestaurantsTableService: True', u'RestaurantsTakeOut: False', u'WheelchairAccessible: True']</td>\n",
       "<td>business</td>\n",
       "<td>[u'Tapas Bars', u'Restaurants']</td>\n",
       "</tr>\n",
       "<tr>\n",
       "<td>Pittsburgh</td>\n",
       "<td style='text-align: right'>4</td>\n",
       "<td>South Side</td>\n",
       "<td>Southside Laserwash</td>\n",
       "<td>sDl0SxE_AoOAnPCAxfoauA</td>\n",
       "<td style='text-align: right'>-79.9926092</td>\n",
       "<td style='text-align: right'>15203.0</td>\n",
       "<td>None</td>\n",
       "<td>PA</td>\n",
       "<td style='text-align: right'>1</td>\n",
       "<td style='text-align: right'>2.0</td>\n",
       "<td>629 E Carson St</td>\n",
       "<td style='text-align: right'>40.4286206</td>\n",
       "<td>None</td>\n",
       "<td>business</td>\n",
       "<td>[u'Automotive', u'Car Wash']</td>\n",
       "</tr>\n",
       "<tr>\n",
       "<td>Pittsburgh</td>\n",
       "<td style='text-align: right'>6</td>\n",
       "<td>South Side</td>\n",
       "<td>Zovko Bros</td>\n",
       "<td>ZElIifFslL_948I-hI_ukw</td>\n",
       "<td style='text-align: right'>-79.970147</td>\n",
       "<td style='text-align: right'>15203.0</td>\n",
       "<td>None</td>\n",
       "<td>PA</td>\n",
       "<td style='text-align: right'>1</td>\n",
       "<td style='text-align: right'>3.0</td>\n",
       "<td>2424 E Carson St</td>\n",
       "<td style='text-align: right'>40.427648</td>\n",
       "<td>None</td>\n",
       "<td>business</td>\n",
       "<td>[u'Automotive', u'Auto Repair']</td>\n",
       "</tr>\n",
       "<tr>\n",
       "<td>Pittsburgh</td>\n",
       "<td style='text-align: right'>56</td>\n",
       "<td>The Hill District</td>\n",
       "<td>Pizza Milano</td>\n",
       "<td>ZYof0WYlilJ3pgWNSgmYKQ</td>\n",
       "<td style='text-align: right'>-79.987978</td>\n",
       "<td style='text-align: right'>15219.0</td>\n",
       "<td>[u'Monday 10:0-2:0', u'Tuesday 10:0-2:0', u'Wednesday 10:0-2:0', u'Thursday 10:0-2:0', u'Friday 10:0-3:0', u'Saturday 10:0-3:0', u'Sunday 10:0-2:0']</td>\n",
       "<td>PA</td>\n",
       "<td style='text-align: right'>1</td>\n",
       "<td style='text-align: right'>3.5</td>\n",
       "<td>1304 5th Ave</td>\n",
       "<td style='text-align: right'>40.438453</td>\n",
       "<td>[u'Alcohol: full_bar', u\"Ambience: {'romantic': False, 'intimate': False, 'classy': False, 'hipster': False, 'divey': False, 'touristy': False, 'trendy': False, 'upscale': False, 'casual': True}\", u'BikeParking: True', u'BusinessAcceptsCreditCards: True', u\"BusinessParking: {'garage': False, 'street': True, 'validated': False, 'lot': False, 'valet': False}\", u'Caters: True', u'GoodForKids: True', u'HasTV: True', u'NoiseLevel: average', u'OutdoorSeating: False', u'RestaurantsAttire: casual', u'RestaurantsDelivery: True', u'RestaurantsGoodForGroups: True', u'RestaurantsPriceRange2: 2', u'RestaurantsReservations: False', u'RestaurantsTakeOut: True', u'WiFi: no', u\"GoodForMeal: {'dessert': False, 'latenight': True, 'lunch': True, 'dinner': True, 'breakfast': False, 'brunch': False}\", u'RestaurantsTableService: False']</td>\n",
       "<td>business</td>\n",
       "<td>[u'Pizza', u'Restaurants']</td>\n",
       "</tr>\n",
       "</tbody>\n",
       "</table>\n",
       "<p><strong>...</strong></p>"
      ]
     },
     "metadata": {},
     "output_type": "display_data"
    }
   ],
   "source": [
    "t2 = etl.select(t1, \"{city} =='Pittsburgh'\") \n",
    "t2.display(10)\n"
   ]
  },
  {
   "cell_type": "markdown",
   "metadata": {},
   "source": [
    "### order the fields"
   ]
  },
  {
   "cell_type": "code",
   "execution_count": 9,
   "metadata": {
    "collapsed": false
   },
   "outputs": [
    {
     "data": {
      "text/html": [
       "<table class='petl'>\n",
       "<thead>\n",
       "<tr>\n",
       "<th>business_id</th>\n",
       "<th>name</th>\n",
       "<th>is_open</th>\n",
       "<th>neighborhood</th>\n",
       "<th>latitude</th>\n",
       "<th>longitude</th>\n",
       "<th>stars</th>\n",
       "<th>review_count</th>\n",
       "<th>categories</th>\n",
       "</tr>\n",
       "</thead>\n",
       "<tbody>\n",
       "<tr>\n",
       "<td>P3LisOj7DktgGa7C5FYpnA</td>\n",
       "<td>Benjamin Franklin Plumbing</td>\n",
       "<td style='text-align: right'>1</td>\n",
       "<td>West View</td>\n",
       "<td style='text-align: right'>40.5341627</td>\n",
       "<td style='text-align: right'>-80.0498873</td>\n",
       "<td style='text-align: right'>4.0</td>\n",
       "<td style='text-align: right'>8</td>\n",
       "<td>[u'Plumbing', u'Home Services']</td>\n",
       "</tr>\n",
       "</tbody>\n",
       "</table>\n",
       "<p><strong>...</strong></p>"
      ]
     },
     "metadata": {},
     "output_type": "display_data"
    }
   ],
   "source": [
    "t3 = t2.cut(['business_id','name','is_open','neighborhood','latitude','longitude','stars','review_count','categories'])\n",
    "t3.display(1)"
   ]
  },
  {
   "cell_type": "markdown",
   "metadata": {},
   "source": [
    "### order and split the categories "
   ]
  },
  {
   "cell_type": "code",
   "execution_count": 10,
   "metadata": {
    "collapsed": false
   },
   "outputs": [
    {
     "name": "stdout",
     "output_type": "stream",
     "text": [
      "Plumbing\n",
      "Home Services\n"
     ]
    }
   ],
   "source": [
    "text =  t3[1][8][1:-1].split(', ')\n",
    "for i in text:\n",
    "    print i[2:-1]"
   ]
  },
  {
   "cell_type": "code",
   "execution_count": 11,
   "metadata": {
    "collapsed": false
   },
   "outputs": [],
   "source": [
    "sample = t3[1][8]\n",
    "def reduce_categories(text):\n",
    "    if text[0]=='[' and text[-1]==']':\n",
    "        items =  text[1:-1].split(', ') # turn values to list\n",
    "    else:\n",
    "        return None\n",
    "    output = {}\n",
    "    for i in items:\n",
    "        key = categories_dic.get(i[2:-1])\n",
    "        value = 1\n",
    "        output[key]=int(value)\n",
    "    return output\n",
    "\n",
    "    \n",
    "#print to_dict(sample)\n",
    "#print type(to_dict(sample))"
   ]
  },
  {
   "cell_type": "code",
   "execution_count": 12,
   "metadata": {
    "collapsed": false
   },
   "outputs": [
    {
     "data": {
      "text/plain": [
       "Counter({'NoneType': 5, 'dict': 5270})"
      ]
     },
     "execution_count": 12,
     "metadata": {},
     "output_type": "execute_result"
    }
   ],
   "source": [
    "t4 = t3.convert('categories',reduce_categories)\n",
    "t4.typecounter('categories')"
   ]
  },
  {
   "cell_type": "code",
   "execution_count": 13,
   "metadata": {
    "collapsed": false
   },
   "outputs": [
    {
     "data": {
      "text/html": [
       "<table class='petl'>\n",
       "<thead>\n",
       "<tr>\n",
       "<th>business_id</th>\n",
       "<th>name</th>\n",
       "<th>is_open</th>\n",
       "<th>neighborhood</th>\n",
       "<th>latitude</th>\n",
       "<th>longitude</th>\n",
       "<th>stars</th>\n",
       "<th>review_count</th>\n",
       "<th>None</th>\n",
       "<th>1</th>\n",
       "<th>10</th>\n",
       "<th>11</th>\n",
       "<th>12</th>\n",
       "<th>2</th>\n",
       "<th>3</th>\n",
       "<th>4</th>\n",
       "<th>5</th>\n",
       "<th>6</th>\n",
       "<th>7</th>\n",
       "<th>8</th>\n",
       "<th>9</th>\n",
       "</tr>\n",
       "</thead>\n",
       "<tbody>\n",
       "<tr>\n",
       "<td>P3LisOj7DktgGa7C5FYpnA</td>\n",
       "<td>Benjamin Franklin Plumbing</td>\n",
       "<td style='text-align: right'>1</td>\n",
       "<td>West View</td>\n",
       "<td style='text-align: right'>40.5341627</td>\n",
       "<td style='text-align: right'>-80.0498873</td>\n",
       "<td style='text-align: right'>4.0</td>\n",
       "<td style='text-align: right'>8</td>\n",
       "<td>None</td>\n",
       "<td>None</td>\n",
       "<td style='text-align: right'>1</td>\n",
       "<td>None</td>\n",
       "<td>None</td>\n",
       "<td>None</td>\n",
       "<td>None</td>\n",
       "<td>None</td>\n",
       "<td>None</td>\n",
       "<td>None</td>\n",
       "<td>None</td>\n",
       "<td>None</td>\n",
       "<td>None</td>\n",
       "</tr>\n",
       "</tbody>\n",
       "</table>\n",
       "<p><strong>...</strong></p>"
      ]
     },
     "metadata": {},
     "output_type": "display_data"
    }
   ],
   "source": [
    "t5 = t4.unpackdict('categories')\n",
    "t5.display(1)"
   ]
  },
  {
   "cell_type": "markdown",
   "metadata": {},
   "source": [
    "###Order fileds and change category fields name from number to the real name"
   ]
  },
  {
   "cell_type": "code",
   "execution_count": 14,
   "metadata": {
    "collapsed": false
   },
   "outputs": [
    {
     "data": {
      "text/html": [
       "<table class='petl'>\n",
       "<thead>\n",
       "<tr>\n",
       "<th>business_id</th>\n",
       "<th>name</th>\n",
       "<th>is_open</th>\n",
       "<th>neighborhood</th>\n",
       "<th>latitude</th>\n",
       "<th>longitude</th>\n",
       "<th>stars</th>\n",
       "<th>review_count</th>\n",
       "<th>food</th>\n",
       "<th>art & enteraitment</th>\n",
       "<th>stores</th>\n",
       "<th>beuty & spa</th>\n",
       "<th>health</th>\n",
       "<th>finance</th>\n",
       "<th>turists</th>\n",
       "<th>cars & transportation</th>\n",
       "<th>bars & alcohol</th>\n",
       "<th>other</th>\n",
       "<th>fashion</th>\n",
       "<th>estate</th>\n",
       "</tr>\n",
       "</thead>\n",
       "<tbody>\n",
       "<tr>\n",
       "<td>P3LisOj7DktgGa7C5FYpnA</td>\n",
       "<td>Benjamin Franklin Plumbing</td>\n",
       "<td style='text-align: right'>1</td>\n",
       "<td>West View</td>\n",
       "<td style='text-align: right'>40.5341627</td>\n",
       "<td style='text-align: right'>-80.0498873</td>\n",
       "<td style='text-align: right'>4.0</td>\n",
       "<td style='text-align: right'>8</td>\n",
       "<td>None</td>\n",
       "<td>None</td>\n",
       "<td>None</td>\n",
       "<td>None</td>\n",
       "<td>None</td>\n",
       "<td>None</td>\n",
       "<td>None</td>\n",
       "<td>None</td>\n",
       "<td>None</td>\n",
       "<td style='text-align: right'>1</td>\n",
       "<td>None</td>\n",
       "<td>None</td>\n",
       "</tr>\n",
       "<tr>\n",
       "<td>93otbGHE0s0m-lU1osvg9w</td>\n",
       "<td>Rivertowne</td>\n",
       "<td style='text-align: right'>1</td>\n",
       "<td>North Side</td>\n",
       "<td style='text-align: right'>40.4459861</td>\n",
       "<td style='text-align: right'>-80.0108802</td>\n",
       "<td style='text-align: right'>3.0</td>\n",
       "<td style='text-align: right'>102</td>\n",
       "<td style='text-align: right'>1</td>\n",
       "<td style='text-align: right'>1</td>\n",
       "<td>None</td>\n",
       "<td>None</td>\n",
       "<td>None</td>\n",
       "<td>None</td>\n",
       "<td>None</td>\n",
       "<td>None</td>\n",
       "<td style='text-align: right'>1</td>\n",
       "<td>None</td>\n",
       "<td>None</td>\n",
       "<td>None</td>\n",
       "</tr>\n",
       "<tr>\n",
       "<td>csdZolWIWvkIHIqsCmV6sg</td>\n",
       "<td>City Vista</td>\n",
       "<td style='text-align: right'>1</td>\n",
       "<td>Greentree</td>\n",
       "<td style='text-align: right'>40.4263863165</td>\n",
       "<td style='text-align: right'>-80.037872133</td>\n",
       "<td style='text-align: right'>2.0</td>\n",
       "<td style='text-align: right'>5</td>\n",
       "<td>None</td>\n",
       "<td style='text-align: right'>1</td>\n",
       "<td>None</td>\n",
       "<td>None</td>\n",
       "<td>None</td>\n",
       "<td>None</td>\n",
       "<td style='text-align: right'>1</td>\n",
       "<td>None</td>\n",
       "<td>None</td>\n",
       "<td style='text-align: right'>1</td>\n",
       "<td>None</td>\n",
       "<td style='text-align: right'>1</td>\n",
       "</tr>\n",
       "<tr>\n",
       "<td>h7ZW6c1Vi9V6_-gd2Ch_4g</td>\n",
       "<td>Verizon Wireless Premium Retailer</td>\n",
       "<td style='text-align: right'>1</td>\n",
       "<td>Bloomfield</td>\n",
       "<td style='text-align: right'>40.453725</td>\n",
       "<td style='text-align: right'>-79.946995</td>\n",
       "<td style='text-align: right'>2.0</td>\n",
       "<td style='text-align: right'>5</td>\n",
       "<td>None</td>\n",
       "<td>None</td>\n",
       "<td style='text-align: right'>1</td>\n",
       "<td>None</td>\n",
       "<td>None</td>\n",
       "<td>None</td>\n",
       "<td>None</td>\n",
       "<td>None</td>\n",
       "<td>None</td>\n",
       "<td>None</td>\n",
       "<td>None</td>\n",
       "<td>None</td>\n",
       "</tr>\n",
       "<tr>\n",
       "<td>HWrbZS1mxVRj2Y2VwMmDMg</td>\n",
       "<td>Dulcinea Bakeshop</td>\n",
       "<td style='text-align: right'>0</td>\n",
       "<td>Strip District</td>\n",
       "<td style='text-align: right'>40.4553505818</td>\n",
       "<td style='text-align: right'>-79.9777282029</td>\n",
       "<td style='text-align: right'>4.5</td>\n",
       "<td style='text-align: right'>3</td>\n",
       "<td style='text-align: right'>1</td>\n",
       "<td>None</td>\n",
       "<td>None</td>\n",
       "<td>None</td>\n",
       "<td>None</td>\n",
       "<td>None</td>\n",
       "<td>None</td>\n",
       "<td>None</td>\n",
       "<td>None</td>\n",
       "<td>None</td>\n",
       "<td>None</td>\n",
       "<td>None</td>\n",
       "</tr>\n",
       "<tr>\n",
       "<td>jDqaz1jKdeWk_fTVCzc1Pg</td>\n",
       "<td>Conflict Kitchen</td>\n",
       "<td style='text-align: right'>1</td>\n",
       "<td>Oakland</td>\n",
       "<td style='text-align: right'>40.44258082</td>\n",
       "<td style='text-align: right'>-79.9527347618</td>\n",
       "<td style='text-align: right'>4.5</td>\n",
       "<td style='text-align: right'>145</td>\n",
       "<td style='text-align: right'>1</td>\n",
       "<td>None</td>\n",
       "<td>None</td>\n",
       "<td>None</td>\n",
       "<td>None</td>\n",
       "<td>None</td>\n",
       "<td>None</td>\n",
       "<td>None</td>\n",
       "<td>None</td>\n",
       "<td>None</td>\n",
       "<td>None</td>\n",
       "<td>None</td>\n",
       "</tr>\n",
       "<tr>\n",
       "<td>HYwbHY-srAOoH-t337DpMw</td>\n",
       "<td>Tusca Restaurant</td>\n",
       "<td style='text-align: right'>0</td>\n",
       "<td>South Side</td>\n",
       "<td style='text-align: right'>40.4273611</td>\n",
       "<td style='text-align: right'>-79.964962</td>\n",
       "<td style='text-align: right'>2.0</td>\n",
       "<td style='text-align: right'>25</td>\n",
       "<td style='text-align: right'>1</td>\n",
       "<td>None</td>\n",
       "<td>None</td>\n",
       "<td>None</td>\n",
       "<td>None</td>\n",
       "<td>None</td>\n",
       "<td>None</td>\n",
       "<td>None</td>\n",
       "<td>None</td>\n",
       "<td>None</td>\n",
       "<td>None</td>\n",
       "<td>None</td>\n",
       "</tr>\n",
       "<tr>\n",
       "<td>sDl0SxE_AoOAnPCAxfoauA</td>\n",
       "<td>Southside Laserwash</td>\n",
       "<td style='text-align: right'>1</td>\n",
       "<td>South Side</td>\n",
       "<td style='text-align: right'>40.4286206</td>\n",
       "<td style='text-align: right'>-79.9926092</td>\n",
       "<td style='text-align: right'>2.0</td>\n",
       "<td style='text-align: right'>4</td>\n",
       "<td>None</td>\n",
       "<td>None</td>\n",
       "<td>None</td>\n",
       "<td>None</td>\n",
       "<td>None</td>\n",
       "<td>None</td>\n",
       "<td>None</td>\n",
       "<td style='text-align: right'>1</td>\n",
       "<td>None</td>\n",
       "<td>None</td>\n",
       "<td>None</td>\n",
       "<td>None</td>\n",
       "</tr>\n",
       "<tr>\n",
       "<td>ZElIifFslL_948I-hI_ukw</td>\n",
       "<td>Zovko Bros</td>\n",
       "<td style='text-align: right'>1</td>\n",
       "<td>South Side</td>\n",
       "<td style='text-align: right'>40.427648</td>\n",
       "<td style='text-align: right'>-79.970147</td>\n",
       "<td style='text-align: right'>3.0</td>\n",
       "<td style='text-align: right'>6</td>\n",
       "<td>None</td>\n",
       "<td>None</td>\n",
       "<td>None</td>\n",
       "<td>None</td>\n",
       "<td>None</td>\n",
       "<td>None</td>\n",
       "<td>None</td>\n",
       "<td style='text-align: right'>1</td>\n",
       "<td>None</td>\n",
       "<td>None</td>\n",
       "<td>None</td>\n",
       "<td>None</td>\n",
       "</tr>\n",
       "<tr>\n",
       "<td>ZYof0WYlilJ3pgWNSgmYKQ</td>\n",
       "<td>Pizza Milano</td>\n",
       "<td style='text-align: right'>1</td>\n",
       "<td>The Hill District</td>\n",
       "<td style='text-align: right'>40.438453</td>\n",
       "<td style='text-align: right'>-79.987978</td>\n",
       "<td style='text-align: right'>3.5</td>\n",
       "<td style='text-align: right'>56</td>\n",
       "<td style='text-align: right'>1</td>\n",
       "<td>None</td>\n",
       "<td>None</td>\n",
       "<td>None</td>\n",
       "<td>None</td>\n",
       "<td>None</td>\n",
       "<td>None</td>\n",
       "<td>None</td>\n",
       "<td>None</td>\n",
       "<td>None</td>\n",
       "<td>None</td>\n",
       "<td>None</td>\n",
       "</tr>\n",
       "</tbody>\n",
       "</table>\n",
       "<p><strong>...</strong></p>"
      ]
     },
     "metadata": {},
     "output_type": "display_data"
    }
   ],
   "source": [
    "t6 = etl.rename(t5, {'1': 'food','2': 'art & enteraitment','3': 'stores','4': 'beuty & spa','5': 'health','6': 'finance','7': 'turists','8': 'cars & transportation', '9': 'bars & alcohol','10': 'other','11': 'fashion','12': 'estate'})\n",
    "t7 = t6.cut(['business_id','name','is_open','neighborhood','latitude','longitude','stars','review_count', 'food', 'art & enteraitment', 'stores', 'beuty & spa', 'health', 'finance', 'turists', 'cars & transportation', 'bars & alcohol', 'other', 'fashion', 'estate'])\n",
    "t7.display(10)"
   ]
  },
  {
   "cell_type": "markdown",
   "metadata": {},
   "source": [
    "### change None to 0 in the categories fields"
   ]
  },
  {
   "cell_type": "code",
   "execution_count": 50,
   "metadata": {
    "collapsed": false
   },
   "outputs": [
    {
     "data": {
      "text/html": [
       "<table class='petl'>\n",
       "<thead>\n",
       "<tr>\n",
       "<th>business_id</th>\n",
       "<th>name</th>\n",
       "<th>is_open</th>\n",
       "<th>neighborhood</th>\n",
       "<th>latitude</th>\n",
       "<th>longitude</th>\n",
       "<th>stars</th>\n",
       "<th>review_count</th>\n",
       "<th>food</th>\n",
       "<th>art & enteraitment</th>\n",
       "<th>stores</th>\n",
       "<th>beuty & spa</th>\n",
       "<th>health</th>\n",
       "<th>finance</th>\n",
       "<th>turists</th>\n",
       "<th>cars & transportation</th>\n",
       "<th>bars & alcohol</th>\n",
       "<th>other</th>\n",
       "<th>fashion</th>\n",
       "<th>estate</th>\n",
       "</tr>\n",
       "</thead>\n",
       "<tbody>\n",
       "<tr>\n",
       "<td>P3LisOj7DktgGa7C5FYpnA</td>\n",
       "<td>Benjamin Franklin Plumbing</td>\n",
       "<td style='text-align: right'>1</td>\n",
       "<td>West View</td>\n",
       "<td style='text-align: right'>40.5341627</td>\n",
       "<td style='text-align: right'>-80.0498873</td>\n",
       "<td style='text-align: right'>4.0</td>\n",
       "<td style='text-align: right'>8</td>\n",
       "<td style='text-align: right'>0</td>\n",
       "<td style='text-align: right'>0</td>\n",
       "<td style='text-align: right'>0</td>\n",
       "<td style='text-align: right'>0</td>\n",
       "<td style='text-align: right'>0</td>\n",
       "<td style='text-align: right'>0</td>\n",
       "<td style='text-align: right'>0</td>\n",
       "<td style='text-align: right'>0</td>\n",
       "<td style='text-align: right'>0</td>\n",
       "<td style='text-align: right'>1</td>\n",
       "<td style='text-align: right'>0</td>\n",
       "<td style='text-align: right'>0</td>\n",
       "</tr>\n",
       "<tr>\n",
       "<td>93otbGHE0s0m-lU1osvg9w</td>\n",
       "<td>Rivertowne</td>\n",
       "<td style='text-align: right'>1</td>\n",
       "<td>North Side</td>\n",
       "<td style='text-align: right'>40.4459861</td>\n",
       "<td style='text-align: right'>-80.0108802</td>\n",
       "<td style='text-align: right'>3.0</td>\n",
       "<td style='text-align: right'>102</td>\n",
       "<td style='text-align: right'>1</td>\n",
       "<td style='text-align: right'>1</td>\n",
       "<td style='text-align: right'>0</td>\n",
       "<td style='text-align: right'>0</td>\n",
       "<td style='text-align: right'>0</td>\n",
       "<td style='text-align: right'>0</td>\n",
       "<td style='text-align: right'>0</td>\n",
       "<td style='text-align: right'>0</td>\n",
       "<td style='text-align: right'>1</td>\n",
       "<td style='text-align: right'>0</td>\n",
       "<td style='text-align: right'>0</td>\n",
       "<td style='text-align: right'>0</td>\n",
       "</tr>\n",
       "<tr>\n",
       "<td>csdZolWIWvkIHIqsCmV6sg</td>\n",
       "<td>City Vista</td>\n",
       "<td style='text-align: right'>1</td>\n",
       "<td>Greentree</td>\n",
       "<td style='text-align: right'>40.4263863165</td>\n",
       "<td style='text-align: right'>-80.037872133</td>\n",
       "<td style='text-align: right'>2.0</td>\n",
       "<td style='text-align: right'>5</td>\n",
       "<td style='text-align: right'>0</td>\n",
       "<td style='text-align: right'>1</td>\n",
       "<td style='text-align: right'>0</td>\n",
       "<td style='text-align: right'>0</td>\n",
       "<td style='text-align: right'>0</td>\n",
       "<td style='text-align: right'>0</td>\n",
       "<td style='text-align: right'>1</td>\n",
       "<td style='text-align: right'>0</td>\n",
       "<td style='text-align: right'>0</td>\n",
       "<td style='text-align: right'>1</td>\n",
       "<td style='text-align: right'>0</td>\n",
       "<td style='text-align: right'>1</td>\n",
       "</tr>\n",
       "<tr>\n",
       "<td>h7ZW6c1Vi9V6_-gd2Ch_4g</td>\n",
       "<td>Verizon Wireless Premium Retailer</td>\n",
       "<td style='text-align: right'>1</td>\n",
       "<td>Bloomfield</td>\n",
       "<td style='text-align: right'>40.453725</td>\n",
       "<td style='text-align: right'>-79.946995</td>\n",
       "<td style='text-align: right'>2.0</td>\n",
       "<td style='text-align: right'>5</td>\n",
       "<td style='text-align: right'>0</td>\n",
       "<td style='text-align: right'>0</td>\n",
       "<td style='text-align: right'>1</td>\n",
       "<td style='text-align: right'>0</td>\n",
       "<td style='text-align: right'>0</td>\n",
       "<td style='text-align: right'>0</td>\n",
       "<td style='text-align: right'>0</td>\n",
       "<td style='text-align: right'>0</td>\n",
       "<td style='text-align: right'>0</td>\n",
       "<td style='text-align: right'>0</td>\n",
       "<td style='text-align: right'>0</td>\n",
       "<td style='text-align: right'>0</td>\n",
       "</tr>\n",
       "<tr>\n",
       "<td>HWrbZS1mxVRj2Y2VwMmDMg</td>\n",
       "<td>Dulcinea Bakeshop</td>\n",
       "<td style='text-align: right'>0</td>\n",
       "<td>Strip District</td>\n",
       "<td style='text-align: right'>40.4553505818</td>\n",
       "<td style='text-align: right'>-79.9777282029</td>\n",
       "<td style='text-align: right'>4.5</td>\n",
       "<td style='text-align: right'>3</td>\n",
       "<td style='text-align: right'>1</td>\n",
       "<td style='text-align: right'>0</td>\n",
       "<td style='text-align: right'>0</td>\n",
       "<td style='text-align: right'>0</td>\n",
       "<td style='text-align: right'>0</td>\n",
       "<td style='text-align: right'>0</td>\n",
       "<td style='text-align: right'>0</td>\n",
       "<td style='text-align: right'>0</td>\n",
       "<td style='text-align: right'>0</td>\n",
       "<td style='text-align: right'>0</td>\n",
       "<td style='text-align: right'>0</td>\n",
       "<td style='text-align: right'>0</td>\n",
       "</tr>\n",
       "<tr>\n",
       "<td>jDqaz1jKdeWk_fTVCzc1Pg</td>\n",
       "<td>Conflict Kitchen</td>\n",
       "<td style='text-align: right'>1</td>\n",
       "<td>Oakland</td>\n",
       "<td style='text-align: right'>40.44258082</td>\n",
       "<td style='text-align: right'>-79.9527347618</td>\n",
       "<td style='text-align: right'>4.5</td>\n",
       "<td style='text-align: right'>145</td>\n",
       "<td style='text-align: right'>1</td>\n",
       "<td style='text-align: right'>0</td>\n",
       "<td style='text-align: right'>0</td>\n",
       "<td style='text-align: right'>0</td>\n",
       "<td style='text-align: right'>0</td>\n",
       "<td style='text-align: right'>0</td>\n",
       "<td style='text-align: right'>0</td>\n",
       "<td style='text-align: right'>0</td>\n",
       "<td style='text-align: right'>0</td>\n",
       "<td style='text-align: right'>0</td>\n",
       "<td style='text-align: right'>0</td>\n",
       "<td style='text-align: right'>0</td>\n",
       "</tr>\n",
       "<tr>\n",
       "<td>HYwbHY-srAOoH-t337DpMw</td>\n",
       "<td>Tusca Restaurant</td>\n",
       "<td style='text-align: right'>0</td>\n",
       "<td>South Side</td>\n",
       "<td style='text-align: right'>40.4273611</td>\n",
       "<td style='text-align: right'>-79.964962</td>\n",
       "<td style='text-align: right'>2.0</td>\n",
       "<td style='text-align: right'>25</td>\n",
       "<td style='text-align: right'>1</td>\n",
       "<td style='text-align: right'>0</td>\n",
       "<td style='text-align: right'>0</td>\n",
       "<td style='text-align: right'>0</td>\n",
       "<td style='text-align: right'>0</td>\n",
       "<td style='text-align: right'>0</td>\n",
       "<td style='text-align: right'>0</td>\n",
       "<td style='text-align: right'>0</td>\n",
       "<td style='text-align: right'>0</td>\n",
       "<td style='text-align: right'>0</td>\n",
       "<td style='text-align: right'>0</td>\n",
       "<td style='text-align: right'>0</td>\n",
       "</tr>\n",
       "<tr>\n",
       "<td>sDl0SxE_AoOAnPCAxfoauA</td>\n",
       "<td>Southside Laserwash</td>\n",
       "<td style='text-align: right'>1</td>\n",
       "<td>South Side</td>\n",
       "<td style='text-align: right'>40.4286206</td>\n",
       "<td style='text-align: right'>-79.9926092</td>\n",
       "<td style='text-align: right'>2.0</td>\n",
       "<td style='text-align: right'>4</td>\n",
       "<td style='text-align: right'>0</td>\n",
       "<td style='text-align: right'>0</td>\n",
       "<td style='text-align: right'>0</td>\n",
       "<td style='text-align: right'>0</td>\n",
       "<td style='text-align: right'>0</td>\n",
       "<td style='text-align: right'>0</td>\n",
       "<td style='text-align: right'>0</td>\n",
       "<td style='text-align: right'>1</td>\n",
       "<td style='text-align: right'>0</td>\n",
       "<td style='text-align: right'>0</td>\n",
       "<td style='text-align: right'>0</td>\n",
       "<td style='text-align: right'>0</td>\n",
       "</tr>\n",
       "<tr>\n",
       "<td>ZElIifFslL_948I-hI_ukw</td>\n",
       "<td>Zovko Bros</td>\n",
       "<td style='text-align: right'>1</td>\n",
       "<td>South Side</td>\n",
       "<td style='text-align: right'>40.427648</td>\n",
       "<td style='text-align: right'>-79.970147</td>\n",
       "<td style='text-align: right'>3.0</td>\n",
       "<td style='text-align: right'>6</td>\n",
       "<td style='text-align: right'>0</td>\n",
       "<td style='text-align: right'>0</td>\n",
       "<td style='text-align: right'>0</td>\n",
       "<td style='text-align: right'>0</td>\n",
       "<td style='text-align: right'>0</td>\n",
       "<td style='text-align: right'>0</td>\n",
       "<td style='text-align: right'>0</td>\n",
       "<td style='text-align: right'>1</td>\n",
       "<td style='text-align: right'>0</td>\n",
       "<td style='text-align: right'>0</td>\n",
       "<td style='text-align: right'>0</td>\n",
       "<td style='text-align: right'>0</td>\n",
       "</tr>\n",
       "<tr>\n",
       "<td>ZYof0WYlilJ3pgWNSgmYKQ</td>\n",
       "<td>Pizza Milano</td>\n",
       "<td style='text-align: right'>1</td>\n",
       "<td>The Hill District</td>\n",
       "<td style='text-align: right'>40.438453</td>\n",
       "<td style='text-align: right'>-79.987978</td>\n",
       "<td style='text-align: right'>3.5</td>\n",
       "<td style='text-align: right'>56</td>\n",
       "<td style='text-align: right'>1</td>\n",
       "<td style='text-align: right'>0</td>\n",
       "<td style='text-align: right'>0</td>\n",
       "<td style='text-align: right'>0</td>\n",
       "<td style='text-align: right'>0</td>\n",
       "<td style='text-align: right'>0</td>\n",
       "<td style='text-align: right'>0</td>\n",
       "<td style='text-align: right'>0</td>\n",
       "<td style='text-align: right'>0</td>\n",
       "<td style='text-align: right'>0</td>\n",
       "<td style='text-align: right'>0</td>\n",
       "<td style='text-align: right'>0</td>\n",
       "</tr>\n",
       "</tbody>\n",
       "</table>\n",
       "<p><strong>...</strong></p>"
      ]
     },
     "metadata": {},
     "output_type": "display_data"
    }
   ],
   "source": [
    "def None_to_0(text):\n",
    "    if text == None:\n",
    "        return 0\n",
    "    else:\n",
    "        return text\n",
    "t8 = etl.convert(t7, ('food', 'art & enteraitment', 'stores', 'beuty & spa', 'health', 'finance', 'turists', 'cars & transportation', 'bars & alcohol', 'other', 'fashion', 'estate'), None_to_0)\n",
    "t8.display(10)"
   ]
  },
  {
   "cell_type": "markdown",
   "metadata": {},
   "source": [
    "###add ID"
   ]
  },
  {
   "cell_type": "code",
   "execution_count": 117,
   "metadata": {
    "collapsed": false,
    "scrolled": true
   },
   "outputs": [
    {
     "data": {
      "text/html": [
       "<table class='petl'>\n",
       "<thead>\n",
       "<tr>\n",
       "<th>business_id</th>\n",
       "<th>original_id</th>\n",
       "<th>name</th>\n",
       "<th>is_open</th>\n",
       "<th>neighborhood</th>\n",
       "<th>latitude</th>\n",
       "<th>longitude</th>\n",
       "<th>stars</th>\n",
       "<th>review_count</th>\n",
       "<th>categories</th>\n",
       "</tr>\n",
       "</thead>\n",
       "<tbody>\n",
       "<tr>\n",
       "<td style='text-align: right'>1</td>\n",
       "<td>cnGIivYRLxpF7tBVR_JwWA</td>\n",
       "<td>Plush Salon and Spa</td>\n",
       "<td style='text-align: right'>1</td>\n",
       "<td>None</td>\n",
       "<td style='text-align: right'>40.4445439533</td>\n",
       "<td style='text-align: right'>-80.1745398943</td>\n",
       "<td style='text-align: right'>4.0</td>\n",
       "<td style='text-align: right'>4</td>\n",
       "<td>[u'Hair Removal', u'Beauty & Spas', u'Blow Dry/Out Services', u'Hair Stylists', u'Hair Extensions', u'Massage', u'Permanent Makeup', u'Waxing', u'Hair Salons']</td>\n",
       "</tr>\n",
       "<tr>\n",
       "<td style='text-align: right'>2</td>\n",
       "<td>P3LisOj7DktgGa7C5FYpnA</td>\n",
       "<td>Benjamin Franklin Plumbing</td>\n",
       "<td style='text-align: right'>1</td>\n",
       "<td>West View</td>\n",
       "<td style='text-align: right'>40.5341627</td>\n",
       "<td style='text-align: right'>-80.0498873</td>\n",
       "<td style='text-align: right'>4.0</td>\n",
       "<td style='text-align: right'>8</td>\n",
       "<td>[u'Plumbing', u'Home Services']</td>\n",
       "</tr>\n",
       "<tr>\n",
       "<td style='text-align: right'>3</td>\n",
       "<td>93otbGHE0s0m-lU1osvg9w</td>\n",
       "<td>Rivertowne</td>\n",
       "<td style='text-align: right'>1</td>\n",
       "<td>North Side</td>\n",
       "<td style='text-align: right'>40.4459861</td>\n",
       "<td style='text-align: right'>-80.0108802</td>\n",
       "<td style='text-align: right'>3.0</td>\n",
       "<td style='text-align: right'>102</td>\n",
       "<td>[u'American (New)', u'Pubs', u'Nightlife', u'Bars', u'Restaurants']</td>\n",
       "</tr>\n",
       "<tr>\n",
       "<td style='text-align: right'>4</td>\n",
       "<td>csdZolWIWvkIHIqsCmV6sg</td>\n",
       "<td>City Vista</td>\n",
       "<td style='text-align: right'>1</td>\n",
       "<td>Greentree</td>\n",
       "<td style='text-align: right'>40.4263863165</td>\n",
       "<td style='text-align: right'>-80.037872133</td>\n",
       "<td style='text-align: right'>2.0</td>\n",
       "<td style='text-align: right'>5</td>\n",
       "<td>[u'Hotels & Travel', u'Home Services', u'Hotels', u'Apartments', u'Event Planning & Services', u'Real Estate Services', u'Real Estate']</td>\n",
       "</tr>\n",
       "<tr>\n",
       "<td style='text-align: right'>5</td>\n",
       "<td>kdjrQ2tuY4eqo4JZWIx50Q</td>\n",
       "<td>The Scarehouse</td>\n",
       "<td style='text-align: right'>1</td>\n",
       "<td>Etna</td>\n",
       "<td style='text-align: right'>40.499285</td>\n",
       "<td style='text-align: right'>-79.944321</td>\n",
       "<td style='text-align: right'>3.5</td>\n",
       "<td style='text-align: right'>38</td>\n",
       "<td>[u'Performing Arts', u'Arts & Entertainment']</td>\n",
       "</tr>\n",
       "</tbody>\n",
       "</table>\n",
       "<p><strong>...</strong></p>"
      ]
     },
     "metadata": {},
     "output_type": "display_data"
    }
   ],
   "source": [
    "t4 = t3.addrownumbers()\n",
    "t5 = t4.rename({'row':'business_id', 'business_id':'original_id'})\n",
    "t5.display()"
   ]
  },
  {
   "cell_type": "markdown",
   "metadata": {},
   "source": [
    "_________________________________"
   ]
  },
  {
   "cell_type": "markdown",
   "metadata": {},
   "source": [
    "\n",
    "# Load"
   ]
  },
  {
   "cell_type": "markdown",
   "metadata": {},
   "source": [
    "Now we will work with MySQL cursor to load the data - First we'll create the schema and tables"
   ]
  },
  {
   "cell_type": "code",
   "execution_count": 118,
   "metadata": {
    "collapsed": true
   },
   "outputs": [],
   "source": [
    "import MySQLdb as mdb\n",
    "con = mdb.connect(\n",
    "                host = '127.0.0.1', user = 'root', passwd = 'root') #optional - db=\"schema_name\"  \n",
    "# setting a cursor\n",
    "cur = con.cursor()     # get the cursor"
   ]
  },
  {
   "cell_type": "markdown",
   "metadata": {},
   "source": [
    "Create and use the rellevant schema:"
   ]
  },
  {
   "cell_type": "code",
   "execution_count": 119,
   "metadata": {
    "collapsed": false
   },
   "outputs": [
    {
     "name": "stderr",
     "output_type": "stream",
     "text": [
      "C:\\Program Files\\Anaconda2\\lib\\site-packages\\ipykernel\\__main__.py:2: Warning: Changing sql mode 'NO_AUTO_CREATE_USER' is deprecated. It will be removed in a future release.\n",
      "  from ipykernel import kernelapp as app\n"
     ]
    },
    {
     "data": {
      "text/plain": [
       "0L"
      ]
     },
     "execution_count": 119,
     "metadata": {},
     "output_type": "execute_result"
    }
   ],
   "source": [
    "cur.execute('USE yelp_Pittsburgh')\n",
    "cur.execute('SET SQL_MODE=ANSI_QUOTES') #important for petl operation - use this kind of quotes"
   ]
  },
  {
   "cell_type": "code",
   "execution_count": 121,
   "metadata": {
    "collapsed": false,
    "scrolled": true
   },
   "outputs": [
    {
     "ename": "OperationalError",
     "evalue": "(1050, \"Table 'business' already exists\")",
     "output_type": "error",
     "traceback": [
      "\u001b[0;31m---------------------------------------------------------------------------\u001b[0m",
      "\u001b[0;31mOperationalError\u001b[0m                          Traceback (most recent call last)",
      "\u001b[0;32m<ipython-input-121-a332db64ead4>\u001b[0m in \u001b[0;36m<module>\u001b[0;34m()\u001b[0m\n\u001b[0;32m----> 1\u001b[0;31m \u001b[0mt5\u001b[0m\u001b[1;33m.\u001b[0m\u001b[0mtodb\u001b[0m\u001b[1;33m(\u001b[0m\u001b[0mcur\u001b[0m\u001b[1;33m,\u001b[0m\u001b[1;34m'business'\u001b[0m\u001b[1;33m,\u001b[0m\u001b[0mschema\u001b[0m\u001b[1;33m=\u001b[0m\u001b[1;34m'yelp_Pittsburgh'\u001b[0m\u001b[1;33m,\u001b[0m \u001b[0mcreate\u001b[0m\u001b[1;33m=\u001b[0m\u001b[1;34m'False'\u001b[0m\u001b[1;33m)\u001b[0m\u001b[1;33m\u001b[0m\u001b[0m\n\u001b[0m",
      "\u001b[0;32mC:\\Program Files\\Anaconda2\\lib\\site-packages\\petl\\io\\db.pyc\u001b[0m in \u001b[0;36mtodb\u001b[0;34m(table, dbo, tablename, schema, commit, create, drop, constraints, metadata, dialect, sample)\u001b[0m\n\u001b[1;32m    333\u001b[0m             create_table(table, dbo, tablename, schema=schema, commit=commit,\n\u001b[1;32m    334\u001b[0m                          \u001b[0mconstraints\u001b[0m\u001b[1;33m=\u001b[0m\u001b[0mconstraints\u001b[0m\u001b[1;33m,\u001b[0m \u001b[0mmetadata\u001b[0m\u001b[1;33m=\u001b[0m\u001b[0mmetadata\u001b[0m\u001b[1;33m,\u001b[0m\u001b[1;33m\u001b[0m\u001b[0m\n\u001b[0;32m--> 335\u001b[0;31m                          dialect=dialect, sample=sample)\n\u001b[0m\u001b[1;32m    336\u001b[0m         _todb(table, dbo, tablename, schema=schema, commit=commit,\n\u001b[1;32m    337\u001b[0m               truncate=True)\n",
      "\u001b[0;32mC:\\Program Files\\Anaconda2\\lib\\site-packages\\petl\\io\\db_create.pyc\u001b[0m in \u001b[0;36mcreate_table\u001b[0;34m(table, dbo, tablename, schema, commit, constraints, metadata, dialect, sample)\u001b[0m\n\u001b[1;32m    224\u001b[0m                                       \u001b[0mconstraints\u001b[0m\u001b[1;33m=\u001b[0m\u001b[0mconstraints\u001b[0m\u001b[1;33m,\u001b[0m\u001b[1;33m\u001b[0m\u001b[0m\n\u001b[1;32m    225\u001b[0m                                       metadata=metadata, dialect=dialect)\n\u001b[0;32m--> 226\u001b[0;31m     \u001b[0m_execute\u001b[0m\u001b[1;33m(\u001b[0m\u001b[0msql\u001b[0m\u001b[1;33m,\u001b[0m \u001b[0mdbo\u001b[0m\u001b[1;33m,\u001b[0m \u001b[0mcommit\u001b[0m\u001b[1;33m=\u001b[0m\u001b[0mcommit\u001b[0m\u001b[1;33m)\u001b[0m\u001b[1;33m\u001b[0m\u001b[0m\n\u001b[0m\u001b[1;32m    227\u001b[0m \u001b[1;33m\u001b[0m\u001b[0m\n\u001b[1;32m    228\u001b[0m \u001b[1;33m\u001b[0m\u001b[0m\n",
      "\u001b[0;32mC:\\Program Files\\Anaconda2\\lib\\site-packages\\petl\\io\\db_create.pyc\u001b[0m in \u001b[0;36m_execute\u001b[0;34m(sql, dbo, commit)\u001b[0m\n\u001b[1;32m    269\u001b[0m     \u001b[1;32melif\u001b[0m \u001b[0m_is_dbapi_cursor\u001b[0m\u001b[1;33m(\u001b[0m\u001b[0mdbo\u001b[0m\u001b[1;33m)\u001b[0m\u001b[1;33m:\u001b[0m\u001b[1;33m\u001b[0m\u001b[0m\n\u001b[1;32m    270\u001b[0m         \u001b[0mdebug\u001b[0m\u001b[1;33m(\u001b[0m\u001b[1;34m'assuming %r is standard DB-API 2.0 cursor'\u001b[0m\u001b[1;33m)\u001b[0m\u001b[1;33m\u001b[0m\u001b[0m\n\u001b[0;32m--> 271\u001b[0;31m         \u001b[0m_execute_dbapi_cursor\u001b[0m\u001b[1;33m(\u001b[0m\u001b[0msql\u001b[0m\u001b[1;33m,\u001b[0m \u001b[0mdbo\u001b[0m\u001b[1;33m,\u001b[0m \u001b[0mcommit\u001b[0m\u001b[1;33m)\u001b[0m\u001b[1;33m\u001b[0m\u001b[0m\n\u001b[0m\u001b[1;32m    272\u001b[0m \u001b[1;33m\u001b[0m\u001b[0m\n\u001b[1;32m    273\u001b[0m     \u001b[1;31m# does it quack like an SQLAlchemy engine?\u001b[0m\u001b[1;33m\u001b[0m\u001b[1;33m\u001b[0m\u001b[0m\n",
      "\u001b[0;32mC:\\Program Files\\Anaconda2\\lib\\site-packages\\petl\\io\\db_create.pyc\u001b[0m in \u001b[0;36m_execute_dbapi_cursor\u001b[0;34m(sql, cursor, commit)\u001b[0m\n\u001b[1;32m    340\u001b[0m \u001b[1;33m\u001b[0m\u001b[0m\n\u001b[1;32m    341\u001b[0m     \u001b[0mdebug\u001b[0m\u001b[1;33m(\u001b[0m\u001b[1;34m'execute SQL'\u001b[0m\u001b[1;33m)\u001b[0m\u001b[1;33m\u001b[0m\u001b[0m\n\u001b[0;32m--> 342\u001b[0;31m     \u001b[0mcursor\u001b[0m\u001b[1;33m.\u001b[0m\u001b[0mexecute\u001b[0m\u001b[1;33m(\u001b[0m\u001b[0msql\u001b[0m\u001b[1;33m)\u001b[0m\u001b[1;33m\u001b[0m\u001b[0m\n\u001b[0m\u001b[1;32m    343\u001b[0m \u001b[1;33m\u001b[0m\u001b[0m\n\u001b[1;32m    344\u001b[0m     \u001b[1;31m# don't close the cursor, leave that to the application\u001b[0m\u001b[1;33m\u001b[0m\u001b[1;33m\u001b[0m\u001b[0m\n",
      "\u001b[0;32mC:\\Program Files\\Anaconda2\\lib\\site-packages\\MySQLdb\\cursors.pyc\u001b[0m in \u001b[0;36mexecute\u001b[0;34m(self, query, args)\u001b[0m\n\u001b[1;32m    172\u001b[0m             \u001b[1;32mdel\u001b[0m \u001b[0mtb\u001b[0m\u001b[1;33m\u001b[0m\u001b[0m\n\u001b[1;32m    173\u001b[0m             \u001b[0mself\u001b[0m\u001b[1;33m.\u001b[0m\u001b[0mmessages\u001b[0m\u001b[1;33m.\u001b[0m\u001b[0mappend\u001b[0m\u001b[1;33m(\u001b[0m\u001b[1;33m(\u001b[0m\u001b[0mexc\u001b[0m\u001b[1;33m,\u001b[0m \u001b[0mvalue\u001b[0m\u001b[1;33m)\u001b[0m\u001b[1;33m)\u001b[0m\u001b[1;33m\u001b[0m\u001b[0m\n\u001b[0;32m--> 174\u001b[0;31m             \u001b[0mself\u001b[0m\u001b[1;33m.\u001b[0m\u001b[0merrorhandler\u001b[0m\u001b[1;33m(\u001b[0m\u001b[0mself\u001b[0m\u001b[1;33m,\u001b[0m \u001b[0mexc\u001b[0m\u001b[1;33m,\u001b[0m \u001b[0mvalue\u001b[0m\u001b[1;33m)\u001b[0m\u001b[1;33m\u001b[0m\u001b[0m\n\u001b[0m\u001b[1;32m    175\u001b[0m         \u001b[0mself\u001b[0m\u001b[1;33m.\u001b[0m\u001b[0m_executed\u001b[0m \u001b[1;33m=\u001b[0m \u001b[0mquery\u001b[0m\u001b[1;33m\u001b[0m\u001b[0m\n\u001b[1;32m    176\u001b[0m         \u001b[1;32mif\u001b[0m \u001b[1;32mnot\u001b[0m \u001b[0mself\u001b[0m\u001b[1;33m.\u001b[0m\u001b[0m_defer_warnings\u001b[0m\u001b[1;33m:\u001b[0m \u001b[0mself\u001b[0m\u001b[1;33m.\u001b[0m\u001b[0m_warning_check\u001b[0m\u001b[1;33m(\u001b[0m\u001b[1;33m)\u001b[0m\u001b[1;33m\u001b[0m\u001b[0m\n",
      "\u001b[0;32mC:\\Program Files\\Anaconda2\\lib\\site-packages\\MySQLdb\\connections.pyc\u001b[0m in \u001b[0;36mdefaulterrorhandler\u001b[0;34m(***failed resolving arguments***)\u001b[0m\n\u001b[1;32m     34\u001b[0m     \u001b[1;32mdel\u001b[0m \u001b[0mcursor\u001b[0m\u001b[1;33m\u001b[0m\u001b[0m\n\u001b[1;32m     35\u001b[0m     \u001b[1;32mdel\u001b[0m \u001b[0mconnection\u001b[0m\u001b[1;33m\u001b[0m\u001b[0m\n\u001b[0;32m---> 36\u001b[0;31m     \u001b[1;32mraise\u001b[0m \u001b[0merrorclass\u001b[0m\u001b[1;33m,\u001b[0m \u001b[0merrorvalue\u001b[0m\u001b[1;33m\u001b[0m\u001b[0m\n\u001b[0m\u001b[1;32m     37\u001b[0m \u001b[1;33m\u001b[0m\u001b[0m\n\u001b[1;32m     38\u001b[0m \u001b[0mre_numeric_part\u001b[0m \u001b[1;33m=\u001b[0m \u001b[0mre\u001b[0m\u001b[1;33m.\u001b[0m\u001b[0mcompile\u001b[0m\u001b[1;33m(\u001b[0m\u001b[1;34mr\"^(\\d+)\"\u001b[0m\u001b[1;33m)\u001b[0m\u001b[1;33m\u001b[0m\u001b[0m\n",
      "\u001b[0;31mOperationalError\u001b[0m: (1050, \"Table 'business' already exists\")"
     ]
    }
   ],
   "source": [
    "t5.todb(cur,'business',schema='yelp_Pittsburgh', create='False')"
   ]
  },
  {
   "cell_type": "markdown",
   "metadata": {},
   "source": [
    "#### We can also append data to existing tables"
   ]
  },
  {
   "cell_type": "code",
   "execution_count": 135,
   "metadata": {
    "collapsed": false
   },
   "outputs": [],
   "source": [
    "addition = [{'country':'Neverland','continent':None,'total_pure_alcohol':0,'total_serving':0}]"
   ]
  },
  {
   "cell_type": "code",
   "execution_count": 138,
   "metadata": {
    "collapsed": false
   },
   "outputs": [
    {
     "data": {
      "text/html": [
       "<table class='petl'>\n",
       "<thead>\n",
       "<tr>\n",
       "<th>country</th>\n",
       "<th>total_pure_alcohol</th>\n",
       "<th>continent</th>\n",
       "<th>total_serving</th>\n",
       "</tr>\n",
       "</thead>\n",
       "<tbody>\n",
       "<tr>\n",
       "<td>Neverland</td>\n",
       "<td style='text-align: right'>0</td>\n",
       "<td>None</td>\n",
       "<td style='text-align: right'>0</td>\n",
       "</tr>\n",
       "</tbody>\n",
       "</table>\n"
      ]
     },
     "metadata": {},
     "output_type": "display_data"
    }
   ],
   "source": [
    "add_table = etl.fromdicts(addition) # create table object from dictionary\n",
    "add_table.display(10)"
   ]
  },
  {
   "cell_type": "code",
   "execution_count": 123,
   "metadata": {
    "collapsed": false
   },
   "outputs": [
    {
     "ename": "OperationalError",
     "evalue": "(1048, \"Column 'categories' cannot be null\")",
     "output_type": "error",
     "traceback": [
      "\u001b[0;31m---------------------------------------------------------------------------\u001b[0m",
      "\u001b[0;31mOperationalError\u001b[0m                          Traceback (most recent call last)",
      "\u001b[0;32m<ipython-input-123-09b2f7291aa1>\u001b[0m in \u001b[0;36m<module>\u001b[0;34m()\u001b[0m\n\u001b[0;32m----> 1\u001b[0;31m \u001b[0mt5\u001b[0m\u001b[1;33m.\u001b[0m\u001b[0mappenddb\u001b[0m\u001b[1;33m(\u001b[0m\u001b[0mcur\u001b[0m\u001b[1;33m,\u001b[0m\u001b[1;34m'business'\u001b[0m\u001b[1;33m,\u001b[0m\u001b[0mschema\u001b[0m\u001b[1;33m=\u001b[0m\u001b[1;34m'yelp_Pittsburgh'\u001b[0m\u001b[1;33m,\u001b[0m\u001b[0mcommit\u001b[0m\u001b[1;33m=\u001b[0m\u001b[0mTrue\u001b[0m\u001b[1;33m)\u001b[0m\u001b[1;33m\u001b[0m\u001b[0m\n\u001b[0m",
      "\u001b[0;32mC:\\Program Files\\Anaconda2\\lib\\site-packages\\petl\\io\\db.pyc\u001b[0m in \u001b[0;36mappenddb\u001b[0;34m(table, dbo, tablename, schema, commit)\u001b[0m\n\u001b[1;32m    622\u001b[0m     \u001b[1;32mtry\u001b[0m\u001b[1;33m:\u001b[0m\u001b[1;33m\u001b[0m\u001b[0m\n\u001b[1;32m    623\u001b[0m         _todb(table, dbo, tablename, schema=schema, commit=commit,\n\u001b[0;32m--> 624\u001b[0;31m               truncate=False)\n\u001b[0m\u001b[1;32m    625\u001b[0m \u001b[1;33m\u001b[0m\u001b[0m\n\u001b[1;32m    626\u001b[0m     \u001b[1;32mfinally\u001b[0m\u001b[1;33m:\u001b[0m\u001b[1;33m\u001b[0m\u001b[0m\n",
      "\u001b[0;32mC:\\Program Files\\Anaconda2\\lib\\site-packages\\petl\\io\\db.pyc\u001b[0m in \u001b[0;36m_todb\u001b[0;34m(table, dbo, tablename, schema, commit, truncate)\u001b[0m\n\u001b[1;32m    360\u001b[0m         \u001b[0mdebug\u001b[0m\u001b[1;33m(\u001b[0m\u001b[1;34m'assuming %r is standard DB-API 2.0 cursor'\u001b[0m\u001b[1;33m)\u001b[0m\u001b[1;33m\u001b[0m\u001b[0m\n\u001b[1;32m    361\u001b[0m         _todb_dbapi_cursor(table, dbo, tablename, schema=schema, commit=commit,\n\u001b[0;32m--> 362\u001b[0;31m                            truncate=truncate)\n\u001b[0m\u001b[1;32m    363\u001b[0m \u001b[1;33m\u001b[0m\u001b[0m\n\u001b[1;32m    364\u001b[0m     \u001b[1;31m# does it quack like an SQLAlchemy engine?\u001b[0m\u001b[1;33m\u001b[0m\u001b[1;33m\u001b[0m\u001b[0m\n",
      "\u001b[0;32mC:\\Program Files\\Anaconda2\\lib\\site-packages\\petl\\io\\db.pyc\u001b[0m in \u001b[0;36m_todb_dbapi_cursor\u001b[0;34m(table, cursor, tablename, schema, commit, truncate)\u001b[0m\n\u001b[1;32m    526\u001b[0m     \u001b[0minsertquery\u001b[0m \u001b[1;33m=\u001b[0m \u001b[0mSQL_INSERT_QUERY\u001b[0m \u001b[1;33m%\u001b[0m \u001b[1;33m(\u001b[0m\u001b[0mtablename\u001b[0m\u001b[1;33m,\u001b[0m \u001b[0minsertcolnames\u001b[0m\u001b[1;33m,\u001b[0m \u001b[0mplaceholders\u001b[0m\u001b[1;33m)\u001b[0m\u001b[1;33m\u001b[0m\u001b[0m\n\u001b[1;32m    527\u001b[0m     \u001b[0mdebug\u001b[0m\u001b[1;33m(\u001b[0m\u001b[1;34m'insert data via query %r'\u001b[0m \u001b[1;33m%\u001b[0m \u001b[0minsertquery\u001b[0m\u001b[1;33m)\u001b[0m\u001b[1;33m\u001b[0m\u001b[0m\n\u001b[0;32m--> 528\u001b[0;31m     \u001b[0mcursor\u001b[0m\u001b[1;33m.\u001b[0m\u001b[0mexecutemany\u001b[0m\u001b[1;33m(\u001b[0m\u001b[0minsertquery\u001b[0m\u001b[1;33m,\u001b[0m \u001b[0mit\u001b[0m\u001b[1;33m)\u001b[0m\u001b[1;33m\u001b[0m\u001b[0m\n\u001b[0m\u001b[1;32m    529\u001b[0m \u001b[1;33m\u001b[0m\u001b[0m\n\u001b[1;32m    530\u001b[0m     \u001b[1;31m# N.B., don't close the cursor, leave that to the application\u001b[0m\u001b[1;33m\u001b[0m\u001b[1;33m\u001b[0m\u001b[0m\n",
      "\u001b[0;32mC:\\Program Files\\Anaconda2\\lib\\site-packages\\MySQLdb\\cursors.pyc\u001b[0m in \u001b[0;36mexecutemany\u001b[0;34m(self, query, args)\u001b[0m\n\u001b[1;32m    204\u001b[0m             \u001b[0mr\u001b[0m \u001b[1;33m=\u001b[0m \u001b[1;36m0\u001b[0m\u001b[1;33m\u001b[0m\u001b[0m\n\u001b[1;32m    205\u001b[0m             \u001b[1;32mfor\u001b[0m \u001b[0ma\u001b[0m \u001b[1;32min\u001b[0m \u001b[0margs\u001b[0m\u001b[1;33m:\u001b[0m\u001b[1;33m\u001b[0m\u001b[0m\n\u001b[0;32m--> 206\u001b[0;31m                 \u001b[0mr\u001b[0m \u001b[1;33m=\u001b[0m \u001b[0mr\u001b[0m \u001b[1;33m+\u001b[0m \u001b[0mself\u001b[0m\u001b[1;33m.\u001b[0m\u001b[0mexecute\u001b[0m\u001b[1;33m(\u001b[0m\u001b[0mquery\u001b[0m\u001b[1;33m,\u001b[0m \u001b[0ma\u001b[0m\u001b[1;33m)\u001b[0m\u001b[1;33m\u001b[0m\u001b[0m\n\u001b[0m\u001b[1;32m    207\u001b[0m             \u001b[1;32mreturn\u001b[0m \u001b[0mr\u001b[0m\u001b[1;33m\u001b[0m\u001b[0m\n\u001b[1;32m    208\u001b[0m         \u001b[0mp\u001b[0m \u001b[1;33m=\u001b[0m \u001b[0mm\u001b[0m\u001b[1;33m.\u001b[0m\u001b[0mstart\u001b[0m\u001b[1;33m(\u001b[0m\u001b[1;36m1\u001b[0m\u001b[1;33m)\u001b[0m\u001b[1;33m\u001b[0m\u001b[0m\n",
      "\u001b[0;32mC:\\Program Files\\Anaconda2\\lib\\site-packages\\MySQLdb\\cursors.pyc\u001b[0m in \u001b[0;36mexecute\u001b[0;34m(self, query, args)\u001b[0m\n\u001b[1;32m    172\u001b[0m             \u001b[1;32mdel\u001b[0m \u001b[0mtb\u001b[0m\u001b[1;33m\u001b[0m\u001b[0m\n\u001b[1;32m    173\u001b[0m             \u001b[0mself\u001b[0m\u001b[1;33m.\u001b[0m\u001b[0mmessages\u001b[0m\u001b[1;33m.\u001b[0m\u001b[0mappend\u001b[0m\u001b[1;33m(\u001b[0m\u001b[1;33m(\u001b[0m\u001b[0mexc\u001b[0m\u001b[1;33m,\u001b[0m \u001b[0mvalue\u001b[0m\u001b[1;33m)\u001b[0m\u001b[1;33m)\u001b[0m\u001b[1;33m\u001b[0m\u001b[0m\n\u001b[0;32m--> 174\u001b[0;31m             \u001b[0mself\u001b[0m\u001b[1;33m.\u001b[0m\u001b[0merrorhandler\u001b[0m\u001b[1;33m(\u001b[0m\u001b[0mself\u001b[0m\u001b[1;33m,\u001b[0m \u001b[0mexc\u001b[0m\u001b[1;33m,\u001b[0m \u001b[0mvalue\u001b[0m\u001b[1;33m)\u001b[0m\u001b[1;33m\u001b[0m\u001b[0m\n\u001b[0m\u001b[1;32m    175\u001b[0m         \u001b[0mself\u001b[0m\u001b[1;33m.\u001b[0m\u001b[0m_executed\u001b[0m \u001b[1;33m=\u001b[0m \u001b[0mquery\u001b[0m\u001b[1;33m\u001b[0m\u001b[0m\n\u001b[1;32m    176\u001b[0m         \u001b[1;32mif\u001b[0m \u001b[1;32mnot\u001b[0m \u001b[0mself\u001b[0m\u001b[1;33m.\u001b[0m\u001b[0m_defer_warnings\u001b[0m\u001b[1;33m:\u001b[0m \u001b[0mself\u001b[0m\u001b[1;33m.\u001b[0m\u001b[0m_warning_check\u001b[0m\u001b[1;33m(\u001b[0m\u001b[1;33m)\u001b[0m\u001b[1;33m\u001b[0m\u001b[0m\n",
      "\u001b[0;32mC:\\Program Files\\Anaconda2\\lib\\site-packages\\MySQLdb\\connections.pyc\u001b[0m in \u001b[0;36mdefaulterrorhandler\u001b[0;34m(***failed resolving arguments***)\u001b[0m\n\u001b[1;32m     34\u001b[0m     \u001b[1;32mdel\u001b[0m \u001b[0mcursor\u001b[0m\u001b[1;33m\u001b[0m\u001b[0m\n\u001b[1;32m     35\u001b[0m     \u001b[1;32mdel\u001b[0m \u001b[0mconnection\u001b[0m\u001b[1;33m\u001b[0m\u001b[0m\n\u001b[0;32m---> 36\u001b[0;31m     \u001b[1;32mraise\u001b[0m \u001b[0merrorclass\u001b[0m\u001b[1;33m,\u001b[0m \u001b[0merrorvalue\u001b[0m\u001b[1;33m\u001b[0m\u001b[0m\n\u001b[0m\u001b[1;32m     37\u001b[0m \u001b[1;33m\u001b[0m\u001b[0m\n\u001b[1;32m     38\u001b[0m \u001b[0mre_numeric_part\u001b[0m \u001b[1;33m=\u001b[0m \u001b[0mre\u001b[0m\u001b[1;33m.\u001b[0m\u001b[0mcompile\u001b[0m\u001b[1;33m(\u001b[0m\u001b[1;34mr\"^(\\d+)\"\u001b[0m\u001b[1;33m)\u001b[0m\u001b[1;33m\u001b[0m\u001b[0m\n",
      "\u001b[0;31mOperationalError\u001b[0m: (1048, \"Column 'categories' cannot be null\")"
     ]
    }
   ],
   "source": [
    "t5.appenddb(cur,'business',schema='yelp_Pittsburgh',commit=True)"
   ]
  },
  {
   "cell_type": "markdown",
   "metadata": {},
   "source": [
    "#### Now we can find all our data in MySQL server:"
   ]
  },
  {
   "cell_type": "code",
   "execution_count": 140,
   "metadata": {
    "collapsed": false
   },
   "outputs": [
    {
     "name": "stdout",
     "output_type": "stream",
     "text": [
      "(('North Korea', 'AS', 0.0, 0L), ('Namibia', 'AF', 6.8, 380L), ('Nauru', 'OC', 1.0, 57L), ('Nepal', 'AS', 0.2, 11L), ('Netherlands', 'EU', 9.4, 529L), ('New Zealand', 'OC', 9.3, 457L), ('Nicaragua', None, 3.5, 197L), ('Niger', 'AF', 0.1, 6L), ('Nigeria', 'AF', 9.1, 49L), ('Niue', 'OC', 7.0, 395L), ('Norway', 'EU', 6.7, 369L), ('Neverland', None, 0.0, 0L), ('Neverland', None, 0.0, 0L))\n"
     ]
    }
   ],
   "source": [
    "cur.execute(\"\"\" SELECT * \n",
    "                FROM drinks.countries\n",
    "                WHERE country like 'N%' ;\"\"\")\n",
    "\n",
    "print cur.fetchall()"
   ]
  },
  {
   "cell_type": "markdown",
   "metadata": {},
   "source": [
    "## P.S. - Pandas\n",
    "\n",
    "Another very commonly used package for data manipulation is Pandas (http://pandas.pydata.org/), used not only for ETL but for data analysis, visuialization and data mining. You're welcome to check out this package and use it in your projects."
   ]
  }
 ],
 "metadata": {
  "anaconda-cloud": {},
  "kernelspec": {
   "display_name": "Python [default]",
   "language": "python",
   "name": "python2"
  },
  "language_info": {
   "codemirror_mode": {
    "name": "ipython",
    "version": 2
   },
   "file_extension": ".py",
   "mimetype": "text/x-python",
   "name": "python",
   "nbconvert_exporter": "python",
   "pygments_lexer": "ipython2",
   "version": "2.7.12"
  }
 },
 "nbformat": 4,
 "nbformat_minor": 0
}
