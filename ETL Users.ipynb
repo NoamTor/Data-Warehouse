{
 "cells": [
  {
   "cell_type": "markdown",
   "metadata": {},
   "source": [
    "# ETL with Python"
   ]
  },
  {
   "cell_type": "markdown",
   "metadata": {},
   "source": [
    "# pETL package\n",
    "pETL is a general purpose Python package for extracting, transforming and loading tables of data.\n",
    "<br>\n",
    "Extract & Load : http://petl.readthedocs.io/en/latest/io.html\n",
    "<br>\n",
    "transform: http://petl.readthedocs.io/en/latest/transform.html"
   ]
  },
  {
   "cell_type": "markdown",
   "metadata": {},
   "source": [
    "install petl by running ```pip install petl``` in Command-Line"
   ]
  },
  {
   "cell_type": "code",
   "execution_count": null,
   "metadata": {
    "collapsed": false
   },
   "outputs": [],
   "source": [
    "import petl as etl\n",
    "import datetime"
   ]
  },
  {
   "cell_type": "markdown",
   "metadata": {},
   "source": [
    "# Extract"
   ]
  },
  {
   "cell_type": "markdown",
   "metadata": {},
   "source": [
    "### Extract JSON file and display"
   ]
  },
  {
   "cell_type": "code",
   "execution_count": null,
   "metadata": {
    "collapsed": true
   },
   "outputs": [],
   "source": [
    "filename= 'yelp_academic_dataset_users_nofriendlist_PA.json'"
   ]
  },
  {
   "cell_type": "code",
   "execution_count": null,
   "metadata": {
    "collapsed": false,
    "scrolled": true
   },
   "outputs": [],
   "source": [
    "t1 = etl.fromjson(filename)\n",
    "t1.display(10)"
   ]
  },
  {
   "cell_type": "markdown",
   "metadata": {},
   "source": [
    "creating the users dimension:  \n",
    "user_id= varchar(20)\n",
    "friends_count= INT\n",
    "review_count= INT\n",
    "fans= INT\n",
    "is_elite= Binary\n",
    "yelping_since= Date"
   ]
  },
  {
   "cell_type": "code",
   "execution_count": null,
   "metadata": {
    "collapsed": false
   },
   "outputs": [],
   "source": [
    "t2 = t1.cut(['user_id','review_count','fans','elite','yelping_since'])\n",
    "t2.display(10)"
   ]
  },
  {
   "cell_type": "markdown",
   "metadata": {},
   "source": [
    "# Transform"
   ]
  },
  {
   "cell_type": "code",
   "execution_count": null,
   "metadata": {
    "collapsed": false,
    "scrolled": true
   },
   "outputs": [],
   "source": [
    "fields = t2.fieldnames()\n",
    "for f in fields:\n",
    "    print f,'\\t', t2.typecounter(f)"
   ]
  },
  {
   "cell_type": "markdown",
   "metadata": {},
   "source": [
    "convet unicode type to binary (creating is_elite field)"
   ]
  },
  {
   "cell_type": "code",
   "execution_count": null,
   "metadata": {
    "collapsed": false
   },
   "outputs": [],
   "source": [
    "def to_binary(text):\n",
    "    if text[3:7] == 'None':\n",
    "        return 0 \n",
    "    return 1\n",
    "\n",
    "t3 = t2.convert('elite' , to_binary)\n",
    "t3.display(10)\n"
   ]
  },
  {
   "cell_type": "markdown",
   "metadata": {},
   "source": [
    "build the friends_count column by join (users and friends)"
   ]
  },
  {
   "cell_type": "code",
   "execution_count": null,
   "metadata": {
    "collapsed": false
   },
   "outputs": [],
   "source": [
    "source = 'Pittsburgh_full_friend_text.json'\n",
    "t4 = etl.fromjson(source)\n",
    "t5 = t3.join(t4, # right table\n",
    "                   lkey='user_id',rkey='user_id', #join equality columns\n",
    "                   rprefix='t4_') # prefixes of columns from each table (not mandatory)\n",
    "\n",
    "def friend_count(text):\n",
    "    if text[0]=='[' and text[-1]==']':\n",
    "        items =  text[1:-1].split(', ') # turn values to list\n",
    "        if text[3:7]== 'None':\n",
    "            return 0\n",
    "        return len(items)\n",
    "\n",
    "t6 = t5.convert('t4_friends' , friend_count)\n",
    "t6.display(10)"
   ]
  },
  {
   "cell_type": "markdown",
   "metadata": {},
   "source": [
    "adding new user ID and rename the table"
   ]
  },
  {
   "cell_type": "code",
   "execution_count": null,
   "metadata": {
    "collapsed": false,
    "scrolled": true
   },
   "outputs": [],
   "source": [
    "t7 = t6.addrownumbers()\n",
    "t8 = t7.rename({'row':'user_id','user_id':'yelp_user_id','elite':'is_elite','t4_friends':'friends_count'})\n",
    "t8.display(10)\n"
   ]
  },
  {
   "cell_type": "code",
   "execution_count": null,
   "metadata": {
    "collapsed": false
   },
   "outputs": [],
   "source": [
    "fields = t8.fieldnames()\n",
    "for f in fields:\n",
    "    print f,'\\t', t8.typecounter(f)"
   ]
  },
  {
   "cell_type": "markdown",
   "metadata": {},
   "source": [
    "\n",
    "# Load"
   ]
  },
  {
   "cell_type": "markdown",
   "metadata": {},
   "source": [
    "We can save the ouput in multiple ways. First - Let's try csv (that we already know how to load to MySQL)"
   ]
  },
  {
   "cell_type": "markdown",
   "metadata": {},
   "source": [
    "Now we will work with MySQL cursor to load the data - First we'll create the schema and tables"
   ]
  },
  {
   "cell_type": "code",
   "execution_count": null,
   "metadata": {
    "collapsed": false
   },
   "outputs": [],
   "source": [
    "import MySQLdb as mdb"
   ]
  },
  {
   "cell_type": "code",
   "execution_count": null,
   "metadata": {
    "collapsed": false
   },
   "outputs": [],
   "source": [
    "con = mdb.connect(\n",
    "                host = '127.0.0.1', user = 'root', passwd = 'root') #optional - db=\"schema_name\"  \n",
    "# setting a cursor\n",
    "cur = con.cursor()     # get the cursor"
   ]
  },
  {
   "cell_type": "markdown",
   "metadata": {},
   "source": [
    "#### append data to existing tables"
   ]
  },
  {
   "cell_type": "code",
   "execution_count": null,
   "metadata": {
    "collapsed": false,
    "scrolled": true
   },
   "outputs": [],
   "source": [
    "cur.execute('SET SQL_MODE=ANSI_QUOTES')\n",
    "t8.appenddb(cur,'dim_users',schema='yelp_pittsburgh',commit=True)"
   ]
  },
  {
   "cell_type": "markdown",
   "metadata": {},
   "source": [
    "#### Now we can find all our data in MySQL server:"
   ]
  },
  {
   "cell_type": "code",
   "execution_count": null,
   "metadata": {
    "collapsed": false
   },
   "outputs": [],
   "source": [
    "cur.execute(\"\"\" SELECT * \n",
    "                FROM drinks.countries\n",
    "                WHERE country like 'N%' ;\"\"\")\n",
    "\n",
    "print cur.fetchall()"
   ]
  },
  {
   "cell_type": "markdown",
   "metadata": {},
   "source": [
    "## P.S. - Pandas\n",
    "\n",
    "Another very commonly used package for data manipulation is Pandas (http://pandas.pydata.org/), used not only for ETL but for data analysis, visuialization and data mining. You're welcome to check out this package and use it in your projects."
   ]
  },
  {
   "cell_type": "code",
   "execution_count": null,
   "metadata": {
    "collapsed": false
   },
   "outputs": [],
   "source": [
    "cur.close()"
   ]
  },
  {
   "cell_type": "code",
   "execution_count": null,
   "metadata": {
    "collapsed": true
   },
   "outputs": [],
   "source": []
  }
 ],
 "metadata": {
  "anaconda-cloud": {},
  "kernelspec": {
   "display_name": "Python [conda root]",
   "language": "python",
   "name": "conda-root-py"
  },
  "language_info": {
   "codemirror_mode": {
    "name": "ipython",
    "version": 2
   },
   "file_extension": ".py",
   "mimetype": "text/x-python",
   "name": "python",
   "nbconvert_exporter": "python",
   "pygments_lexer": "ipython2",
   "version": "2.7.12"
  }
 },
 "nbformat": 4,
 "nbformat_minor": 0
}
